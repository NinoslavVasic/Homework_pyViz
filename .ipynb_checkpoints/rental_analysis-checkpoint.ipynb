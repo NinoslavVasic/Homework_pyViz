{
 "cells": [
  {
   "cell_type": "markdown",
   "metadata": {},
   "source": [
    "# San Francisco Housing Rental Analysis\n",
    "\n",
    "In this assignment, you will perform basic analysis for the San Francisco Housing Market to allow potential real estate investors to choose rental investment properties. "
   ]
  },
  {
   "cell_type": "code",
   "execution_count": 101,
   "metadata": {},
   "outputs": [],
   "source": [
    "# initial imports\n",
    "import os\n",
    "import pandas as pd\n",
    "import matplotlib.pyplot as plt\n",
    "import hvplot.pandas\n",
    "import plotly.express as px\n",
    "from pathlib import Path\n",
    "from panel.interact import interact\n",
    "%matplotlib inline"
   ]
  },
  {
   "cell_type": "code",
   "execution_count": 102,
   "metadata": {},
   "outputs": [],
   "source": [
    "# Read the Mapbox API key\n",
    "mapbox_token = os.getenv(\"MAPBOX_API_KEY\")\n",
    "px.set_mapbox_access_token(mapbox_token)"
   ]
  },
  {
   "cell_type": "markdown",
   "metadata": {},
   "source": [
    "## Load Data"
   ]
  },
  {
   "cell_type": "code",
   "execution_count": 103,
   "metadata": {},
   "outputs": [
    {
     "data": {
      "text/html": [
       "<div>\n",
       "<style scoped>\n",
       "    .dataframe tbody tr th:only-of-type {\n",
       "        vertical-align: middle;\n",
       "    }\n",
       "\n",
       "    .dataframe tbody tr th {\n",
       "        vertical-align: top;\n",
       "    }\n",
       "\n",
       "    .dataframe thead th {\n",
       "        text-align: right;\n",
       "    }\n",
       "</style>\n",
       "<table border=\"1\" class=\"dataframe\">\n",
       "  <thead>\n",
       "    <tr style=\"text-align: right;\">\n",
       "      <th></th>\n",
       "      <th>neighborhood</th>\n",
       "      <th>sale_price_sqr_foot</th>\n",
       "      <th>housing_units</th>\n",
       "      <th>gross_rent</th>\n",
       "    </tr>\n",
       "    <tr>\n",
       "      <th>year</th>\n",
       "      <th></th>\n",
       "      <th></th>\n",
       "      <th></th>\n",
       "      <th></th>\n",
       "    </tr>\n",
       "  </thead>\n",
       "  <tbody>\n",
       "    <tr>\n",
       "      <td>2010</td>\n",
       "      <td>Alamo Square</td>\n",
       "      <td>291.182945</td>\n",
       "      <td>372560</td>\n",
       "      <td>1239</td>\n",
       "    </tr>\n",
       "    <tr>\n",
       "      <td>2010</td>\n",
       "      <td>Anza Vista</td>\n",
       "      <td>267.932583</td>\n",
       "      <td>372560</td>\n",
       "      <td>1239</td>\n",
       "    </tr>\n",
       "    <tr>\n",
       "      <td>2010</td>\n",
       "      <td>Bayview</td>\n",
       "      <td>170.098665</td>\n",
       "      <td>372560</td>\n",
       "      <td>1239</td>\n",
       "    </tr>\n",
       "    <tr>\n",
       "      <td>2010</td>\n",
       "      <td>Buena Vista Park</td>\n",
       "      <td>347.394919</td>\n",
       "      <td>372560</td>\n",
       "      <td>1239</td>\n",
       "    </tr>\n",
       "    <tr>\n",
       "      <td>2010</td>\n",
       "      <td>Central Richmond</td>\n",
       "      <td>319.027623</td>\n",
       "      <td>372560</td>\n",
       "      <td>1239</td>\n",
       "    </tr>\n",
       "  </tbody>\n",
       "</table>\n",
       "</div>"
      ],
      "text/plain": [
       "          neighborhood  sale_price_sqr_foot  housing_units  gross_rent\n",
       "year                                                                  \n",
       "2010      Alamo Square           291.182945         372560        1239\n",
       "2010        Anza Vista           267.932583         372560        1239\n",
       "2010           Bayview           170.098665         372560        1239\n",
       "2010  Buena Vista Park           347.394919         372560        1239\n",
       "2010  Central Richmond           319.027623         372560        1239"
      ]
     },
     "execution_count": 103,
     "metadata": {},
     "output_type": "execute_result"
    }
   ],
   "source": [
    "# Read the census data into a Pandas DataFrame\n",
    "file_path = Path(\"Data/sfo_neighborhoods_census_data.csv\")\n",
    "sfo_data = pd.read_csv(file_path, index_col=\"year\")\n",
    "sfo_data.head()"
   ]
  },
  {
   "cell_type": "markdown",
   "metadata": {},
   "source": [
    "- - - "
   ]
  },
  {
   "cell_type": "markdown",
   "metadata": {},
   "source": [
    "## Housing Units Per Year\n",
    "\n",
    "In this section, you will calculate the number of housing units per year and visualize the results as a bar chart using the Pandas plot function. \n",
    "\n",
    "Hint: Use the Pandas groupby function\n",
    "\n",
    "Optional challenge: Use the min, max, and std to scale the y limits of the chart."
   ]
  },
  {
   "cell_type": "code",
   "execution_count": 104,
   "metadata": {},
   "outputs": [
    {
     "data": {
      "image/png": "[encoded data removed]",
      "text/plain": [
       "<Figure size 720x504 with 1 Axes>"
      ]
     },
     "metadata": {
      "needs_background": "light"
     },
     "output_type": "display_data"
    }
   ],
   "source": [
    "# Calculate the mean number of housing units per year (hint: use groupby) \n",
    "# YOUR CODE HERE!\n",
    "\n",
    "average_annual_no_housing_units_df = sfo_data.filter(['year', 'housing_units']).groupby('year').mean()\n",
    "min = average_annual_no_housing_units_df.min()['housing_units']\n",
    "max = average_annual_no_housing_units_df.max()['housing_units']\n",
    "border = 2_000\n",
    "\n",
    "Unit_price_Plot = average_annual_no_housing_units_df.plot.bar(ylim=(min - border, max + border),\n",
    "                                                                       title=\"San Francisco housing units 2010 - 2016\", \n",
    "                                                                       rot=45, figsize=(10,7))"
   ]
  },
  {
   "cell_type": "code",
   "execution_count": 105,
   "metadata": {},
   "outputs": [
    {
     "data": {
      "application/vnd.holoviews_exec.v0+json": "",
      "text/html": [
       "<div id='2502' style='display: table; margin: 0 auto;'>\n",
       "\n",
       "\n",
       "\n",
       "\n",
       "\n",
       "  <div class=\"bk-root\" id=\"a755696a-3dc3-4704-979c-2f49812715ae\" data-root-id=\"2502\"></div>\n",
       "</div>\n",
       "<script type=\"application/javascript\">(function(root) {\n",
       "  function embed_document(root) {\n",
       "    \n",
       "  var docs_json = {\"e49192bc-e097-4489-8cd9-dc924590588e\":{\"roots\":{\"references\":[{\"attributes\":{\"align\":null,\"below\":[{\"id\":\"2511\",\"type\":\"CategoricalAxis\"}],\"center\":[{\"id\":\"2514\",\"type\":\"Grid\"},{\"id\":\"2519\",\"type\":\"Grid\"}],\"left\":[{\"id\":\"2515\",\"type\":\"LinearAxis\"}],\"margin\":null,\"min_border_bottom\":10,\"min_border_left\":10,\"min_border_right\":10,\"min_border_top\":10,\"plot_height\":300,\"plot_width\":500,\"renderers\":[{\"id\":\"2538\",\"type\":\"GlyphRenderer\"}],\"sizing_mode\":\"fixed\",\"title\":{\"id\":\"2503\",\"type\":\"Title\"},\"toolbar\":{\"id\":\"2525\",\"type\":\"Toolbar\"},\"x_range\":{\"id\":\"2499\",\"type\":\"FactorRange\"},\"x_scale\":{\"id\":\"2507\",\"type\":\"CategoricalScale\"},\"y_range\":{\"id\":\"2500\",\"type\":\"Range1d\"},\"y_scale\":{\"id\":\"2509\",\"type\":\"LinearScale\"}},\"id\":\"2502\",\"subtype\":\"Figure\",\"type\":\"Plot\"},{\"attributes\":{},\"id\":\"2542\",\"type\":\"CategoricalTickFormatter\"},{\"attributes\":{\"callback\":null,\"end\":384242.0,\"reset_end\":384242.0,\"reset_start\":0.0,\"tags\":[[[\"housing_units\",\"housing_units\",null]]]},\"id\":\"2500\",\"type\":\"Range1d\"},{\"attributes\":{\"fill_alpha\":{\"value\":0.1},\"fill_color\":{\"value\":\"#1f77b3\"},\"line_alpha\":{\"value\":0.1},\"line_color\":{\"value\":\"black\"},\"top\":{\"field\":\"housing_units\"},\"width\":{\"value\":0.8},\"x\":{\"field\":\"year\"}},\"id\":\"2536\",\"type\":\"VBar\"},{\"attributes\":{},\"id\":\"2552\",\"type\":\"UnionRenderers\"},{\"attributes\":{\"callback\":null,\"factors\":[\"2010\",\"2011\",\"2012\",\"2013\",\"2014\",\"2015\",\"2016\"],\"tags\":[[[\"year\",\"year\",null]]]},\"id\":\"2499\",\"type\":\"FactorRange\"},{\"attributes\":{\"grid_line_color\":null,\"ticker\":{\"id\":\"2512\",\"type\":\"CategoricalTicker\"}},\"id\":\"2514\",\"type\":\"Grid\"},{\"attributes\":{},\"id\":\"2516\",\"type\":\"BasicTicker\"},{\"attributes\":{},\"id\":\"2512\",\"type\":\"CategoricalTicker\"},{\"attributes\":{\"axis_label\":\"Housing Units\",\"bounds\":\"auto\",\"formatter\":{\"id\":\"2540\",\"type\":\"PrintfTickFormatter\"},\"major_label_orientation\":\"horizontal\",\"ticker\":{\"id\":\"2516\",\"type\":\"BasicTicker\"}},\"id\":\"2515\",\"type\":\"LinearAxis\"},{\"attributes\":{},\"id\":\"2507\",\"type\":\"CategoricalScale\"},{\"attributes\":{\"overlay\":{\"id\":\"2551\",\"type\":\"BoxAnnotation\"}},\"id\":\"2523\",\"type\":\"BoxZoomTool\"},{\"attributes\":{},\"id\":\"2522\",\"type\":\"WheelZoomTool\"},{\"attributes\":{\"active_drag\":\"auto\",\"active_inspect\":\"auto\",\"active_multi\":null,\"active_scroll\":\"auto\",\"active_tap\":\"auto\",\"tools\":[{\"id\":\"2501\",\"type\":\"HoverTool\"},{\"id\":\"2520\",\"type\":\"SaveTool\"},{\"id\":\"2521\",\"type\":\"PanTool\"},{\"id\":\"2522\",\"type\":\"WheelZoomTool\"},{\"id\":\"2523\",\"type\":\"BoxZoomTool\"},{\"id\":\"2524\",\"type\":\"ResetTool\"}]},\"id\":\"2525\",\"type\":\"Toolbar\"},{\"attributes\":{},\"id\":\"2509\",\"type\":\"LinearScale\"},{\"attributes\":{\"axis_label\":\"Year\",\"bounds\":\"auto\",\"formatter\":{\"id\":\"2542\",\"type\":\"CategoricalTickFormatter\"},\"major_label_orientation\":\"horizontal\",\"ticker\":{\"id\":\"2512\",\"type\":\"CategoricalTicker\"}},\"id\":\"2511\",\"type\":\"CategoricalAxis\"},{\"attributes\":{\"data_source\":{\"id\":\"2532\",\"type\":\"ColumnDataSource\"},\"glyph\":{\"id\":\"2535\",\"type\":\"VBar\"},\"hover_glyph\":null,\"muted_glyph\":{\"id\":\"2537\",\"type\":\"VBar\"},\"nonselection_glyph\":{\"id\":\"2536\",\"type\":\"VBar\"},\"selection_glyph\":null,\"view\":{\"id\":\"2539\",\"type\":\"CDSView\"}},\"id\":\"2538\",\"type\":\"GlyphRenderer\"},{\"attributes\":{\"fill_color\":{\"value\":\"#1f77b3\"},\"top\":{\"field\":\"housing_units\"},\"width\":{\"value\":0.8},\"x\":{\"field\":\"year\"}},\"id\":\"2535\",\"type\":\"VBar\"},{\"attributes\":{\"source\":{\"id\":\"2532\",\"type\":\"ColumnDataSource\"}},\"id\":\"2539\",\"type\":\"CDSView\"},{\"attributes\":{\"fill_alpha\":{\"value\":0.2},\"fill_color\":{\"value\":\"#1f77b3\"},\"line_alpha\":{\"value\":0.2},\"line_color\":{\"value\":\"black\"},\"top\":{\"field\":\"housing_units\"},\"width\":{\"value\":0.8},\"x\":{\"field\":\"year\"}},\"id\":\"2537\",\"type\":\"VBar\"},{\"attributes\":{\"format\":\"%.0f\"},\"id\":\"2540\",\"type\":\"PrintfTickFormatter\"},{\"attributes\":{},\"id\":\"2521\",\"type\":\"PanTool\"},{\"attributes\":{\"callback\":null,\"renderers\":[{\"id\":\"2538\",\"type\":\"GlyphRenderer\"}],\"tags\":[\"hv_created\"],\"tooltips\":[[\"year\",\"@{year}\"],[\"housing_units\",\"@{housing_units}\"]]},\"id\":\"2501\",\"type\":\"HoverTool\"},{\"attributes\":{},\"id\":\"2520\",\"type\":\"SaveTool\"},{\"attributes\":{\"callback\":null,\"data\":{\"housing_units\":[372560,374507,376454,378401,380348,382295,384242],\"year\":[\"2010\",\"2011\",\"2012\",\"2013\",\"2014\",\"2015\",\"2016\"]},\"selected\":{\"id\":\"2533\",\"type\":\"Selection\"},\"selection_policy\":{\"id\":\"2552\",\"type\":\"UnionRenderers\"}},\"id\":\"2532\",\"type\":\"ColumnDataSource\"},{\"attributes\":{\"dimension\":1,\"grid_line_color\":null,\"ticker\":{\"id\":\"2516\",\"type\":\"BasicTicker\"}},\"id\":\"2519\",\"type\":\"Grid\"},{\"attributes\":{},\"id\":\"2533\",\"type\":\"Selection\"},{\"attributes\":{\"text\":\"San Francisco housing units (2010 - 2016)\",\"text_color\":{\"value\":\"black\"},\"text_font_size\":{\"value\":\"12pt\"}},\"id\":\"2503\",\"type\":\"Title\"},{\"attributes\":{\"bottom_units\":\"screen\",\"fill_alpha\":{\"value\":0.5},\"fill_color\":{\"value\":\"lightgrey\"},\"left_units\":\"screen\",\"level\":\"overlay\",\"line_alpha\":{\"value\":1.0},\"line_color\":{\"value\":\"black\"},\"line_dash\":[4,4],\"line_width\":{\"value\":2},\"render_mode\":\"css\",\"right_units\":\"screen\",\"top_units\":\"screen\"},\"id\":\"2551\",\"type\":\"BoxAnnotation\"},{\"attributes\":{},\"id\":\"2524\",\"type\":\"ResetTool\"}],\"root_ids\":[\"2502\"]},\"title\":\"Bokeh Application\",\"version\":\"1.3.4\"}};\n",
       "  var render_items = [{\"docid\":\"e49192bc-e097-4489-8cd9-dc924590588e\",\"roots\":{\"2502\":\"a755696a-3dc3-4704-979c-2f49812715ae\"}}];\n",
       "  root.Bokeh.embed.embed_items_notebook(docs_json, render_items);\n",
       "\n",
       "  }\n",
       "  if (root.Bokeh !== undefined) {\n",
       "    embed_document(root);\n",
       "  } else {\n",
       "    var attempts = 0;\n",
       "    var timer = setInterval(function(root) {\n",
       "      if (root.Bokeh !== undefined) {\n",
       "        embed_document(root);\n",
       "        clearInterval(timer);\n",
       "      }\n",
       "      attempts++;\n",
       "      if (attempts > 100) {\n",
       "        console.log(\"Bokeh: ERROR: Unable to run BokehJS code because BokehJS library is missing\");\n",
       "        clearInterval(timer);\n",
       "      }\n",
       "    }, 10, root)\n",
       "  }\n",
       "})(window);</script>"
      ],
      "text/plain": [
       ":Bars   [year]   (housing_units)"
      ]
     },
     "execution_count": 105,
     "metadata": {
      "application/vnd.holoviews_exec.v0+json": {
       "id": "2502"
      }
     },
     "output_type": "execute_result"
    }
   ],
   "source": [
    "# Use the Pandas plot function to plot the average housing units per year.\n",
    "# Note: You will need to manually adjust the y limit of the chart using the min and max values from above.\n",
    "# YOUR CODE HERE!\n",
    "\n",
    "avg_Unit_Plot = average_annual_no_housing_units_df.hvplot.bar(\n",
    "                        x='year',\n",
    "                        y='housing_units',\n",
    "                        width=500,\n",
    "                        height=300,\n",
    "                        xlabel='Year',\n",
    "                        ylabel='Housing Units',\n",
    "                        figsize=(10,7),\n",
    "                        title='San Francisco housing units (2010 - 2016)'                      \n",
    "                        ).opts(yformatter=\"%.0f\") \n",
    "avg_Unit_Plot\n",
    "# Optional Challenge: Use the min, max, and std to scale the y limits of the chart\n",
    "# YOUR CODE HERE!\n",
    "\n",
    "\n"
   ]
  },
  {
   "cell_type": "markdown",
   "metadata": {},
   "source": [
    "- - - "
   ]
  },
  {
   "cell_type": "markdown",
   "metadata": {},
   "source": [
    "## Average Prices per Square Foot\n",
    "\n",
    "In this section, you will calculate the average gross rent and average sales price for each year. Plot the results as a line chart."
   ]
  },
  {
   "cell_type": "markdown",
   "metadata": {},
   "source": [
    "### Average Gross Rent in San Francisco Per Year"
   ]
  },
  {
   "cell_type": "code",
   "execution_count": 106,
   "metadata": {},
   "outputs": [
    {
     "data": {
      "text/plain": [
       "year\n",
       "2010    1239\n",
       "2011    1530\n",
       "2012    2324\n",
       "2013    2971\n",
       "2014    3528\n",
       "2015    3739\n",
       "2016    4390\n",
       "Name: gross_rent, dtype: int64"
      ]
     },
     "execution_count": 106,
     "metadata": {},
     "output_type": "execute_result"
    }
   ],
   "source": [
    "# Calculate the average gross rent and average sale price per square foot\n",
    "# YOUR CODE HERE!\n",
    "avg_gross_rent_sqr_f_df = sfo_data[\"gross_rent\"].groupby('year').mean()\n",
    "avg_gross_rent_sqr_f_df"
   ]
  },
  {
   "cell_type": "code",
   "execution_count": 107,
   "metadata": {},
   "outputs": [
    {
     "data": {
      "image/png": "[encoded data removed]",
      "text/plain": [
       "<Figure size 720x504 with 1 Axes>"
      ]
     },
     "metadata": {
      "needs_background": "light"
     },
     "output_type": "display_data"
    }
   ],
   "source": [
    "# Plot the Average Gross Rent per Year as a Line Chart \n",
    "# YOUR CODE HERE!\n",
    "avg_GrossRent_Plot = avg_gross_rent_sqr_f_df.plot.line(title=\"San Francisco -Average Gross Rent Per Year\",figsize=(10,7))"
   ]
  },
  {
   "cell_type": "markdown",
   "metadata": {},
   "source": [
    "### Average Sales Price per Year"
   ]
  },
  {
   "cell_type": "code",
   "execution_count": null,
   "metadata": {},
   "outputs": [],
   "source": []
  },
  {
   "cell_type": "code",
   "execution_count": null,
   "metadata": {},
   "outputs": [],
   "source": []
  },
  {
   "cell_type": "code",
   "execution_count": 108,
   "metadata": {},
   "outputs": [
    {
     "data": {
      "image/png": "[encoded data removed]",
      "text/plain": [
       "<Figure size 720x504 with 1 Axes>"
      ]
     },
     "metadata": {
      "needs_background": "light"
     },
     "output_type": "display_data"
    }
   ],
   "source": [
    "# Plot the Average Sales Price per Year as a line chart\n",
    "# YOUR CODE HERE!\n",
    "\n",
    "avg_price_per_sqr_foot = sfo_data[\"sale_price_sqr_foot\"].groupby('year').mean()\n",
    "avg_GrossRent_Plot = avg_gross_rent_sqr_f_df.plot.line(title=\"San Francisco -Average Gross Rent Per Year\",figsize=(10,7))"
   ]
  },
  {
   "cell_type": "markdown",
   "metadata": {},
   "source": [
    "- - - "
   ]
  },
  {
   "cell_type": "markdown",
   "metadata": {},
   "source": [
    "## Average Prices by Neighborhood\n",
    "\n",
    "In this section, you will use hvplot to create an interactive visulization of the Average Prices with a dropdown selector for the neighborhood.\n",
    "\n",
    "Hint: It will be easier to create a new DataFrame from grouping the data and calculating the mean prices for each year and neighborhood"
   ]
  },
  {
   "cell_type": "code",
   "execution_count": 109,
   "metadata": {},
   "outputs": [
    {
     "data": {
      "text/html": [
       "<div>\n",
       "<style scoped>\n",
       "    .dataframe tbody tr th:only-of-type {\n",
       "        vertical-align: middle;\n",
       "    }\n",
       "\n",
       "    .dataframe tbody tr th {\n",
       "        vertical-align: top;\n",
       "    }\n",
       "\n",
       "    .dataframe thead th {\n",
       "        text-align: right;\n",
       "    }\n",
       "</style>\n",
       "<table border=\"1\" class=\"dataframe\">\n",
       "  <thead>\n",
       "    <tr style=\"text-align: right;\">\n",
       "      <th></th>\n",
       "      <th>year</th>\n",
       "      <th>neighborhood</th>\n",
       "      <th>sale_price_sqr_foot</th>\n",
       "      <th>housing_units</th>\n",
       "      <th>gross_rent</th>\n",
       "    </tr>\n",
       "  </thead>\n",
       "  <tbody>\n",
       "    <tr>\n",
       "      <td>0</td>\n",
       "      <td>2010</td>\n",
       "      <td>Alamo Square</td>\n",
       "      <td>291.18</td>\n",
       "      <td>372560</td>\n",
       "      <td>1239</td>\n",
       "    </tr>\n",
       "    <tr>\n",
       "      <td>1</td>\n",
       "      <td>2010</td>\n",
       "      <td>Anza Vista</td>\n",
       "      <td>267.93</td>\n",
       "      <td>372560</td>\n",
       "      <td>1239</td>\n",
       "    </tr>\n",
       "    <tr>\n",
       "      <td>2</td>\n",
       "      <td>2010</td>\n",
       "      <td>Bayview</td>\n",
       "      <td>170.10</td>\n",
       "      <td>372560</td>\n",
       "      <td>1239</td>\n",
       "    </tr>\n",
       "    <tr>\n",
       "      <td>3</td>\n",
       "      <td>2010</td>\n",
       "      <td>Buena Vista Park</td>\n",
       "      <td>347.39</td>\n",
       "      <td>372560</td>\n",
       "      <td>1239</td>\n",
       "    </tr>\n",
       "    <tr>\n",
       "      <td>4</td>\n",
       "      <td>2010</td>\n",
       "      <td>Central Richmond</td>\n",
       "      <td>319.03</td>\n",
       "      <td>372560</td>\n",
       "      <td>1239</td>\n",
       "    </tr>\n",
       "  </tbody>\n",
       "</table>\n",
       "</div>"
      ],
      "text/plain": [
       "   year      neighborhood  sale_price_sqr_foot  housing_units  gross_rent\n",
       "0  2010      Alamo Square               291.18         372560        1239\n",
       "1  2010        Anza Vista               267.93         372560        1239\n",
       "2  2010           Bayview               170.10         372560        1239\n",
       "3  2010  Buena Vista Park               347.39         372560        1239\n",
       "4  2010  Central Richmond               319.03         372560        1239"
      ]
     },
     "execution_count": 109,
     "metadata": {},
     "output_type": "execute_result"
    }
   ],
   "source": [
    "# Group by year and neighborhood and then create a new dataframe of the mean values\n",
    "# YOUR CODE HERE!\n",
    "sfo_data_2 = sfo_data.groupby(['year', 'neighborhood']).mean()\n",
    "\n",
    "avg_sales_price_df = pd.DataFrame(sfo_data_2).reset_index()\n",
    "round(avg_sales_price_df.head(), 2)"
   ]
  },
  {
   "cell_type": "code",
   "execution_count": 110,
   "metadata": {},
   "outputs": [
    {
     "data": {
      "application/vnd.holoviews_exec.v0+json": "",
      "text/html": [
       "<div class=\"hololayout row row-fluid\">\n",
       "  <div class=\"holoframe\" id=\"display_areafdb562b97a4b402989a7dfe0676bf0a9\">\n",
       "    <div id=\"_anim_imgfdb562b97a4b402989a7dfe0676bf0a9\">\n",
       "      \n",
       "      <div id='2606' style='display: table; margin: 0 auto;'>\n",
       "\n",
       "\n",
       "\n",
       "\n",
       "\n",
       "  <div class=\"bk-root\" id=\"50498230-1119-4bfd-8746-215917f70b18\" data-root-id=\"2606\"></div>\n",
       "</div>\n",
       "      \n",
       "    </div>\n",
       "  </div>\n",
       "  <div class=\"holowidgets\" id=\"widget_areafdb562b97a4b402989a7dfe0676bf0a9\">\n",
       "    <form class=\"holoform well\" id=\"formfdb562b97a4b402989a7dfe0676bf0a9\">\n",
       "      \n",
       "      \n",
       "        <div class=\"form-group control-group holoformgroup\" style=''>\n",
       "          <label for=\"textInputfdb562b97a4b402989a7dfe0676bf0a9_neighborhood\"><strong>neighborhood:</strong></label>\n",
       "          <select class=\"holoselect form-control\" id=\"_anim_widgetfdb562b97a4b402989a7dfe0676bf0a9_neighborhood\" >\n",
       "          </select>\n",
       "        </div>\n",
       "        \n",
       "        \n",
       "        </form>\n",
       "    </div>\n",
       "</div>\n",
       "<script type=\"application/javascript\">/* Instantiate the BokehSelectionWidget class. */\n",
       "/* The IDs given should match those used in the template above. */\n",
       "var widget_ids = new Array(1);\n",
       "\n",
       "\n",
       "widget_ids[0] = \"_anim_widgetfdb562b97a4b402989a7dfe0676bf0a9_neighborhood\";\n",
       "\n",
       "\n",
       "function create_widget() {\n",
       "  var frame_data = {};\n",
       "  var dim_vals = [0.0];\n",
       "  var keyMap = {};\n",
       "  var notFound = \"<h2 style='vertical-align: middle>No frame at selected dimension value.<h2>\";\n",
       "\n",
       "  var anim = new HoloViews.BokehSelectionWidget(frame_data, \"fdb562b97a4b402989a7dfe0676bf0a9\", widget_ids,\n",
       "  keyMap, dim_vals, notFound, false, \"default\",\n",
       "  false, \"./json_figures/\", true, \"2606\");\n",
       "\n",
       "  HoloViews.index['2606'] = anim;\n",
       "}\n",
       "\n",
       "\n",
       "\n",
       "\n",
       "HoloViews.init_dropdown('fdb562b97a4b402989a7dfe0676bf0a9', '2606', 'neighborhood', [0, 1, 2, 3, 4, 5, 6, 7, 8, 9, 10, 11, 12, 13, 14, 15, 16, 17, 18, 19, 20, 21, 22, 23, 24, 25, 26, 27, 28, 29, 30, 31, 32, 33, 34, 35, 36, 37, 38, 39, 40, 41, 42, 43, 44, 45, 46, 47, 48, 49, 50, 51, 52, 53, 54, 55, 56, 57, 58, 59, 60, 61, 62, 63, 64, 65, 66, 67, 68, 69, 70, 71, 72], 0, {}, ['Alamo Square', 'Anza Vista', 'Bayview', 'Buena Vista Park', 'Central Richmond', 'Central Sunset', 'Corona Heights', 'Cow Hollow', 'Croker Amazon', 'Diamond Heights', 'Downtown ', 'Eureka Valley/Dolores Heights', 'Excelsior', 'Financial District North', 'Financial District South', 'Forest Knolls', 'Glen Park', 'Golden Gate Heights', 'Haight Ashbury', 'Hayes Valley', 'Hunters Point', 'Ingleside ', 'Inner Mission', 'Inner Parkside', 'Inner Richmond', 'Inner Sunset', 'Jordan Park/Laurel Heights', 'Lake --The Presidio', 'Lone Mountain', 'Lower Pacific Heights', 'Marina', 'Miraloma Park', 'Mission Bay', 'Mission Dolores', 'Mission Terrace', 'Nob Hill', 'Noe Valley', 'Oceanview', 'Outer Parkside', 'Outer Richmond ', 'Outer Sunset', 'Pacific Heights', 'Park North', 'Parkside', 'Parnassus/Ashbury Heights', 'Portola', 'Potrero Hill', 'Presidio Heights', 'Russian Hill', 'South Beach', 'South of Market', 'Sunnyside', 'Telegraph Hill', 'Twin Peaks', 'Union Square District', 'Van Ness/ Civic Center', 'West Portal', 'Western Addition', 'Yerba Buena', 'Bernal Heights ', 'Clarendon Heights', 'Duboce Triangle', 'Ingleside Heights', 'North Beach', 'North Waterfront', 'Outer Mission', 'Westwood Highlands', 'Merced Heights', 'Midtown Terrace', 'Visitacion Valley', 'Silver Terrace', 'Westwood Park', 'Bayview Heights'], 'None', 0, true)\n",
       "\n",
       "\n",
       "\n",
       "\n",
       "create_widget();\n",
       "(function(root) {\n",
       "  function embed_document(root) {\n",
       "    \n",
       "  var docs_json = {\"a6d6df01-ad05-4baf-9eac-e35187979f53\":{\"roots\":{\"references\":[{\"attributes\":{\"align\":null,\"below\":[{\"id\":\"2615\",\"type\":\"LinearAxis\"}],\"center\":[{\"id\":\"2619\",\"type\":\"Grid\"},{\"id\":\"2624\",\"type\":\"Grid\"}],\"left\":[{\"id\":\"2620\",\"type\":\"LinearAxis\"}],\"margin\":null,\"min_border_bottom\":10,\"min_border_left\":10,\"min_border_right\":10,\"min_border_top\":10,\"plot_height\":300,\"plot_width\":700,\"renderers\":[{\"id\":\"2643\",\"type\":\"GlyphRenderer\"}],\"sizing_mode\":\"fixed\",\"title\":{\"id\":\"2607\",\"type\":\"Title\"},\"toolbar\":{\"id\":\"2630\",\"type\":\"Toolbar\"},\"x_range\":{\"id\":\"2603\",\"type\":\"Range1d\"},\"x_scale\":{\"id\":\"2611\",\"type\":\"LinearScale\"},\"y_range\":{\"id\":\"2604\",\"type\":\"Range1d\"},\"y_scale\":{\"id\":\"2613\",\"type\":\"LinearScale\"}},\"id\":\"2606\",\"subtype\":\"Figure\",\"type\":\"Plot\"},{\"attributes\":{\"grid_line_color\":null,\"ticker\":{\"id\":\"2616\",\"type\":\"BasicTicker\"}},\"id\":\"2619\",\"type\":\"Grid\"},{\"attributes\":{\"callback\":null,\"data\":{\"sale_price_sqr_foot\":{\"__ndarray__\":\"Dkc7WO0yckCafszcbwhxQIGRs5ot42ZAJzog0LQ8eEAWMinKGEd+QI0V5FDt0IJAVCHcmLVPdUA=\",\"dtype\":\"float64\",\"shape\":[7]},\"year\":[2010,2011,2012,2013,2014,2015,2016]},\"selected\":{\"id\":\"2638\",\"type\":\"Selection\"},\"selection_policy\":{\"id\":\"2655\",\"type\":\"UnionRenderers\"}},\"id\":\"2637\",\"type\":\"ColumnDataSource\"},{\"attributes\":{\"callback\":null,\"renderers\":[{\"id\":\"2643\",\"type\":\"GlyphRenderer\"}],\"tags\":[\"hv_created\"],\"tooltips\":[[\"year\",\"@{year}\"],[\"sale_price_sqr_foot\",\"@{sale_price_sqr_foot}\"]]},\"id\":\"2605\",\"type\":\"HoverTool\"},{\"attributes\":{},\"id\":\"2646\",\"type\":\"BasicTickFormatter\"},{\"attributes\":{\"axis_label\":\"year\",\"bounds\":\"auto\",\"formatter\":{\"id\":\"2646\",\"type\":\"BasicTickFormatter\"},\"major_label_orientation\":\"horizontal\",\"ticker\":{\"id\":\"2616\",\"type\":\"BasicTicker\"}},\"id\":\"2615\",\"type\":\"LinearAxis\"},{\"attributes\":{},\"id\":\"2655\",\"type\":\"UnionRenderers\"},{\"attributes\":{},\"id\":\"2638\",\"type\":\"Selection\"},{\"attributes\":{\"line_alpha\":0.1,\"line_color\":\"#1f77b3\",\"line_width\":2,\"x\":{\"field\":\"year\"},\"y\":{\"field\":\"sale_price_sqr_foot\"}},\"id\":\"2641\",\"type\":\"Line\"},{\"attributes\":{\"line_alpha\":0.2,\"line_color\":\"#1f77b3\",\"line_width\":2,\"x\":{\"field\":\"year\"},\"y\":{\"field\":\"sale_price_sqr_foot\"}},\"id\":\"2642\",\"type\":\"Line\"},{\"attributes\":{\"callback\":null,\"end\":602.1158769435002,\"reset_end\":602.1158769435002,\"reset_start\":183.09931693145703,\"start\":183.09931693145703,\"tags\":[[[\"sale_price_sqr_foot\",\"sale_price_sqr_foot\",null]]]},\"id\":\"2604\",\"type\":\"Range1d\"},{\"attributes\":{},\"id\":\"2626\",\"type\":\"PanTool\"},{\"attributes\":{\"bottom_units\":\"screen\",\"fill_alpha\":{\"value\":0.5},\"fill_color\":{\"value\":\"lightgrey\"},\"left_units\":\"screen\",\"level\":\"overlay\",\"line_alpha\":{\"value\":1.0},\"line_color\":{\"value\":\"black\"},\"line_dash\":[4,4],\"line_width\":{\"value\":2},\"render_mode\":\"css\",\"right_units\":\"screen\",\"top_units\":\"screen\"},\"id\":\"2654\",\"type\":\"BoxAnnotation\"},{\"attributes\":{\"overlay\":{\"id\":\"2654\",\"type\":\"BoxAnnotation\"}},\"id\":\"2628\",\"type\":\"BoxZoomTool\"},{\"attributes\":{\"source\":{\"id\":\"2637\",\"type\":\"ColumnDataSource\"}},\"id\":\"2644\",\"type\":\"CDSView\"},{\"attributes\":{\"active_drag\":\"auto\",\"active_inspect\":\"auto\",\"active_multi\":null,\"active_scroll\":\"auto\",\"active_tap\":\"auto\",\"tools\":[{\"id\":\"2605\",\"type\":\"HoverTool\"},{\"id\":\"2625\",\"type\":\"SaveTool\"},{\"id\":\"2626\",\"type\":\"PanTool\"},{\"id\":\"2627\",\"type\":\"WheelZoomTool\"},{\"id\":\"2628\",\"type\":\"BoxZoomTool\"},{\"id\":\"2629\",\"type\":\"ResetTool\"}]},\"id\":\"2630\",\"type\":\"Toolbar\"},{\"attributes\":{},\"id\":\"2629\",\"type\":\"ResetTool\"},{\"attributes\":{\"callback\":null,\"end\":2016.0,\"reset_end\":2016.0,\"reset_start\":2010.0,\"start\":2010.0,\"tags\":[[[\"year\",\"year\",null]]]},\"id\":\"2603\",\"type\":\"Range1d\"},{\"attributes\":{},\"id\":\"2648\",\"type\":\"BasicTickFormatter\"},{\"attributes\":{},\"id\":\"2611\",\"type\":\"LinearScale\"},{\"attributes\":{\"axis_label\":\"sale_price_sqr_foot\",\"bounds\":\"auto\",\"formatter\":{\"id\":\"2648\",\"type\":\"BasicTickFormatter\"},\"major_label_orientation\":\"horizontal\",\"ticker\":{\"id\":\"2621\",\"type\":\"BasicTicker\"}},\"id\":\"2620\",\"type\":\"LinearAxis\"},{\"attributes\":{\"text\":\"San Francisco Sales per Square foot per Year\",\"text_color\":{\"value\":\"black\"},\"text_font_size\":{\"value\":\"12pt\"}},\"id\":\"2607\",\"type\":\"Title\"},{\"attributes\":{\"dimension\":1,\"grid_line_color\":null,\"ticker\":{\"id\":\"2621\",\"type\":\"BasicTicker\"}},\"id\":\"2624\",\"type\":\"Grid\"},{\"attributes\":{},\"id\":\"2621\",\"type\":\"BasicTicker\"},{\"attributes\":{},\"id\":\"2627\",\"type\":\"WheelZoomTool\"},{\"attributes\":{},\"id\":\"2616\",\"type\":\"BasicTicker\"},{\"attributes\":{},\"id\":\"2613\",\"type\":\"LinearScale\"},{\"attributes\":{\"line_color\":\"#1f77b3\",\"line_width\":2,\"x\":{\"field\":\"year\"},\"y\":{\"field\":\"sale_price_sqr_foot\"}},\"id\":\"2640\",\"type\":\"Line\"},{\"attributes\":{},\"id\":\"2625\",\"type\":\"SaveTool\"},{\"attributes\":{\"data_source\":{\"id\":\"2637\",\"type\":\"ColumnDataSource\"},\"glyph\":{\"id\":\"2640\",\"type\":\"Line\"},\"hover_glyph\":null,\"muted_glyph\":{\"id\":\"2642\",\"type\":\"Line\"},\"nonselection_glyph\":{\"id\":\"2641\",\"type\":\"Line\"},\"selection_glyph\":null,\"view\":{\"id\":\"2644\",\"type\":\"CDSView\"}},\"id\":\"2643\",\"type\":\"GlyphRenderer\"}],\"root_ids\":[\"2606\"]},\"title\":\"Bokeh Application\",\"version\":\"1.3.4\"}};\n",
       "  var render_items = [{\"docid\":\"a6d6df01-ad05-4baf-9eac-e35187979f53\",\"roots\":{\"2606\":\"50498230-1119-4bfd-8746-215917f70b18\"}}];\n",
       "  root.Bokeh.embed.embed_items_notebook(docs_json, render_items);\n",
       "\n",
       "  }\n",
       "  if (root.Bokeh !== undefined) {\n",
       "    embed_document(root);\n",
       "  } else {\n",
       "    var attempts = 0;\n",
       "    var timer = setInterval(function(root) {\n",
       "      if (root.Bokeh !== undefined) {\n",
       "        embed_document(root);\n",
       "        clearInterval(timer);\n",
       "      }\n",
       "      attempts++;\n",
       "      if (attempts > 100) {\n",
       "        console.log(\"Bokeh: ERROR: Unable to run BokehJS code because BokehJS library is missing\");\n",
       "        clearInterval(timer);\n",
       "      }\n",
       "    }, 10, root)\n",
       "  }\n",
       "})(window);</script>"
      ],
      "text/plain": [
       ":DynamicMap   [neighborhood]\n",
       "   :Curve   [year]   (sale_price_sqr_foot)"
      ]
     },
     "execution_count": 110,
     "metadata": {
      "application/vnd.holoviews_exec.v0+json": {
       "id": "2606"
      }
     },
     "output_type": "execute_result"
    }
   ],
   "source": [
    "# Use hvplot to create an interactive line chart of the average price per sq ft.\n",
    "# The plot should have a dropdown selector for the neighborhood\n",
    "# YOUR CODE \n",
    "avg_NeighbSales_price_Plot =avg_sales_price_df.hvplot.line(x='year',\n",
    "                           y='sale_price_sqr_foot',\n",
    "                           groupby='neighborhood',\n",
    "                           title=\"San Francisco Sales per Square foot per Year\")\n",
    "avg_NeighbSales_price_Plot\n"
   ]
  },
  {
   "cell_type": "markdown",
   "metadata": {},
   "source": [
    "- - - "
   ]
  },
  {
   "cell_type": "markdown",
   "metadata": {},
   "source": [
    "## The Top 10 Most Expensive Neighborhoods\n",
    "\n",
    "In this section, you will need to calculate the mean sale price for each neighborhood and then sort the values to obtain the top 10 most expensive neighborhoods on average. Plot the results as a bar chart."
   ]
  },
  {
   "cell_type": "code",
   "execution_count": 111,
   "metadata": {
    "scrolled": true
   },
   "outputs": [
    {
     "data": {
      "text/html": [
       "<div>\n",
       "<style scoped>\n",
       "    .dataframe tbody tr th:only-of-type {\n",
       "        vertical-align: middle;\n",
       "    }\n",
       "\n",
       "    .dataframe tbody tr th {\n",
       "        vertical-align: top;\n",
       "    }\n",
       "\n",
       "    .dataframe thead th {\n",
       "        text-align: right;\n",
       "    }\n",
       "</style>\n",
       "<table border=\"1\" class=\"dataframe\">\n",
       "  <thead>\n",
       "    <tr style=\"text-align: right;\">\n",
       "      <th></th>\n",
       "      <th>year</th>\n",
       "      <th>neighborhood</th>\n",
       "      <th>sale_price_sqr_foot</th>\n",
       "      <th>housing_units</th>\n",
       "      <th>gross_rent</th>\n",
       "    </tr>\n",
       "  </thead>\n",
       "  <tbody>\n",
       "    <tr>\n",
       "      <td>346</td>\n",
       "      <td>2015</td>\n",
       "      <td>Union Square District</td>\n",
       "      <td>2258.70</td>\n",
       "      <td>382295</td>\n",
       "      <td>3739</td>\n",
       "    </tr>\n",
       "    <tr>\n",
       "      <td>388</td>\n",
       "      <td>2016</td>\n",
       "      <td>Presidio Heights</td>\n",
       "      <td>1465.97</td>\n",
       "      <td>384242</td>\n",
       "      <td>4390</td>\n",
       "    </tr>\n",
       "    <tr>\n",
       "      <td>374</td>\n",
       "      <td>2016</td>\n",
       "      <td>Merced Heights</td>\n",
       "      <td>1416.67</td>\n",
       "      <td>384242</td>\n",
       "      <td>4390</td>\n",
       "    </tr>\n",
       "    <tr>\n",
       "      <td>226</td>\n",
       "      <td>2013</td>\n",
       "      <td>Union Square District</td>\n",
       "      <td>1290.47</td>\n",
       "      <td>378401</td>\n",
       "      <td>2971</td>\n",
       "    </tr>\n",
       "    <tr>\n",
       "      <td>262</td>\n",
       "      <td>2014</td>\n",
       "      <td>Miraloma Park</td>\n",
       "      <td>1267.77</td>\n",
       "      <td>380348</td>\n",
       "      <td>3528</td>\n",
       "    </tr>\n",
       "    <tr>\n",
       "      <td>386</td>\n",
       "      <td>2016</td>\n",
       "      <td>Parnassus/Ashbury Heights</td>\n",
       "      <td>1208.00</td>\n",
       "      <td>384242</td>\n",
       "      <td>4390</td>\n",
       "    </tr>\n",
       "    <tr>\n",
       "      <td>382</td>\n",
       "      <td>2016</td>\n",
       "      <td>Outer Richmond</td>\n",
       "      <td>1196.65</td>\n",
       "      <td>384242</td>\n",
       "      <td>4390</td>\n",
       "    </tr>\n",
       "    <tr>\n",
       "      <td>323</td>\n",
       "      <td>2015</td>\n",
       "      <td>Marina</td>\n",
       "      <td>1132.84</td>\n",
       "      <td>382295</td>\n",
       "      <td>3739</td>\n",
       "    </tr>\n",
       "    <tr>\n",
       "      <td>282</td>\n",
       "      <td>2014</td>\n",
       "      <td>South of Market</td>\n",
       "      <td>1119.84</td>\n",
       "      <td>380348</td>\n",
       "      <td>3528</td>\n",
       "    </tr>\n",
       "    <tr>\n",
       "      <td>300</td>\n",
       "      <td>2015</td>\n",
       "      <td>Corona Heights</td>\n",
       "      <td>1100.79</td>\n",
       "      <td>382295</td>\n",
       "      <td>3739</td>\n",
       "    </tr>\n",
       "  </tbody>\n",
       "</table>\n",
       "</div>"
      ],
      "text/plain": [
       "     year               neighborhood  sale_price_sqr_foot  housing_units  \\\n",
       "346  2015      Union Square District              2258.70         382295   \n",
       "388  2016           Presidio Heights              1465.97         384242   \n",
       "374  2016             Merced Heights              1416.67         384242   \n",
       "226  2013      Union Square District              1290.47         378401   \n",
       "262  2014              Miraloma Park              1267.77         380348   \n",
       "386  2016  Parnassus/Ashbury Heights              1208.00         384242   \n",
       "382  2016            Outer Richmond               1196.65         384242   \n",
       "323  2015                     Marina              1132.84         382295   \n",
       "282  2014            South of Market              1119.84         380348   \n",
       "300  2015             Corona Heights              1100.79         382295   \n",
       "\n",
       "     gross_rent  \n",
       "346        3739  \n",
       "388        4390  \n",
       "374        4390  \n",
       "226        2971  \n",
       "262        3528  \n",
       "386        4390  \n",
       "382        4390  \n",
       "323        3739  \n",
       "282        3528  \n",
       "300        3739  "
      ]
     },
     "execution_count": 111,
     "metadata": {},
     "output_type": "execute_result"
    }
   ],
   "source": [
    "# Getting the data from the top 10 expensive neighborhoods\n",
    "# YOUR CODE HERE!\n",
    "most_exp_top_10 = avg_sales_price_df.sort_values(by='sale_price_sqr_foot', ascending=False)\n",
    "top_10 = round(most_exp_top_10.head(10), 2)\n",
    "top_10"
   ]
  },
  {
   "cell_type": "code",
   "execution_count": 112,
   "metadata": {
    "scrolled": true
   },
   "outputs": [
    {
     "data": {
      "application/vnd.holoviews_exec.v0+json": "",
      "text/html": [
       "<div id='2716' style='display: table; margin: 0 auto;'>\n",
       "\n",
       "\n",
       "\n",
       "\n",
       "\n",
       "  <div class=\"bk-root\" id=\"a87ac3d7-a991-4048-a9c9-78203d0398a9\" data-root-id=\"2716\"></div>\n",
       "</div>\n",
       "<script type=\"application/javascript\">(function(root) {\n",
       "  function embed_document(root) {\n",
       "    \n",
       "  var docs_json = {\"70cd7f1e-c62c-4374-adf2-beb42909555e\":{\"roots\":{\"references\":[{\"attributes\":{\"align\":null,\"below\":[{\"id\":\"2725\",\"type\":\"CategoricalAxis\"}],\"center\":[{\"id\":\"2728\",\"type\":\"Grid\"},{\"id\":\"2733\",\"type\":\"Grid\"}],\"left\":[{\"id\":\"2729\",\"type\":\"LinearAxis\"}],\"margin\":null,\"min_border_bottom\":10,\"min_border_left\":10,\"min_border_right\":10,\"min_border_top\":10,\"plot_height\":300,\"plot_width\":700,\"renderers\":[{\"id\":\"2752\",\"type\":\"GlyphRenderer\"}],\"sizing_mode\":\"fixed\",\"title\":{\"id\":\"2717\",\"type\":\"Title\"},\"toolbar\":{\"id\":\"2739\",\"type\":\"Toolbar\"},\"x_range\":{\"id\":\"2713\",\"type\":\"FactorRange\"},\"x_scale\":{\"id\":\"2721\",\"type\":\"CategoricalScale\"},\"y_range\":{\"id\":\"2714\",\"type\":\"Range1d\"},\"y_scale\":{\"id\":\"2723\",\"type\":\"LinearScale\"}},\"id\":\"2716\",\"subtype\":\"Figure\",\"type\":\"Plot\"},{\"attributes\":{},\"id\":\"2723\",\"type\":\"LinearScale\"},{\"attributes\":{},\"id\":\"2734\",\"type\":\"SaveTool\"},{\"attributes\":{},\"id\":\"2766\",\"type\":\"UnionRenderers\"},{\"attributes\":{\"text\":\"San Francisco Most Expensive Boroughs (2010 - 2016)\",\"text_color\":{\"value\":\"black\"},\"text_font_size\":{\"value\":\"12pt\"}},\"id\":\"2717\",\"type\":\"Title\"},{\"attributes\":{\"source\":{\"id\":\"2746\",\"type\":\"ColumnDataSource\"}},\"id\":\"2753\",\"type\":\"CDSView\"},{\"attributes\":{},\"id\":\"2735\",\"type\":\"PanTool\"},{\"attributes\":{\"bottom_units\":\"screen\",\"fill_alpha\":{\"value\":0.5},\"fill_color\":{\"value\":\"lightgrey\"},\"left_units\":\"screen\",\"level\":\"overlay\",\"line_alpha\":{\"value\":1.0},\"line_color\":{\"value\":\"black\"},\"line_dash\":[4,4],\"line_width\":{\"value\":2},\"render_mode\":\"css\",\"right_units\":\"screen\",\"top_units\":\"screen\"},\"id\":\"2765\",\"type\":\"BoxAnnotation\"},{\"attributes\":{\"fill_alpha\":{\"value\":0.2},\"fill_color\":{\"value\":\"#1f77b3\"},\"line_alpha\":{\"value\":0.2},\"line_color\":{\"value\":\"black\"},\"top\":{\"field\":\"sale_price_sqr_foot\"},\"width\":{\"value\":0.8},\"x\":{\"field\":\"neighborhood\"}},\"id\":\"2751\",\"type\":\"VBar\"},{\"attributes\":{\"fill_color\":{\"value\":\"#1f77b3\"},\"top\":{\"field\":\"sale_price_sqr_foot\"},\"width\":{\"value\":0.8},\"x\":{\"field\":\"neighborhood\"}},\"id\":\"2749\",\"type\":\"VBar\"},{\"attributes\":{\"data_source\":{\"id\":\"2746\",\"type\":\"ColumnDataSource\"},\"glyph\":{\"id\":\"2749\",\"type\":\"VBar\"},\"hover_glyph\":null,\"muted_glyph\":{\"id\":\"2751\",\"type\":\"VBar\"},\"nonselection_glyph\":{\"id\":\"2750\",\"type\":\"VBar\"},\"selection_glyph\":null,\"view\":{\"id\":\"2753\",\"type\":\"CDSView\"}},\"id\":\"2752\",\"type\":\"GlyphRenderer\"},{\"attributes\":{\"fill_alpha\":{\"value\":0.1},\"fill_color\":{\"value\":\"#1f77b3\"},\"line_alpha\":{\"value\":0.1},\"line_color\":{\"value\":\"black\"},\"top\":{\"field\":\"sale_price_sqr_foot\"},\"width\":{\"value\":0.8},\"x\":{\"field\":\"neighborhood\"}},\"id\":\"2750\",\"type\":\"VBar\"},{\"attributes\":{\"axis_label\":\"sale_price_sqr_foot\",\"bounds\":\"auto\",\"formatter\":{\"id\":\"2754\",\"type\":\"PrintfTickFormatter\"},\"major_label_orientation\":\"horizontal\",\"ticker\":{\"id\":\"2730\",\"type\":\"BasicTicker\"}},\"id\":\"2729\",\"type\":\"LinearAxis\"},{\"attributes\":{\"dimension\":1,\"grid_line_color\":null,\"ticker\":{\"id\":\"2730\",\"type\":\"BasicTicker\"}},\"id\":\"2733\",\"type\":\"Grid\"},{\"attributes\":{},\"id\":\"2721\",\"type\":\"CategoricalScale\"},{\"attributes\":{\"overlay\":{\"id\":\"2765\",\"type\":\"BoxAnnotation\"}},\"id\":\"2737\",\"type\":\"BoxZoomTool\"},{\"attributes\":{\"grid_line_color\":null,\"ticker\":{\"id\":\"2726\",\"type\":\"CategoricalTicker\"}},\"id\":\"2728\",\"type\":\"Grid\"},{\"attributes\":{},\"id\":\"2730\",\"type\":\"BasicTicker\"},{\"attributes\":{},\"id\":\"2756\",\"type\":\"CategoricalTickFormatter\"},{\"attributes\":{},\"id\":\"2747\",\"type\":\"Selection\"},{\"attributes\":{\"active_drag\":\"auto\",\"active_inspect\":\"auto\",\"active_multi\":null,\"active_scroll\":\"auto\",\"active_tap\":\"auto\",\"tools\":[{\"id\":\"2715\",\"type\":\"HoverTool\"},{\"id\":\"2734\",\"type\":\"SaveTool\"},{\"id\":\"2735\",\"type\":\"PanTool\"},{\"id\":\"2736\",\"type\":\"WheelZoomTool\"},{\"id\":\"2737\",\"type\":\"BoxZoomTool\"},{\"id\":\"2738\",\"type\":\"ResetTool\"}]},\"id\":\"2739\",\"type\":\"Toolbar\"},{\"attributes\":{},\"id\":\"2726\",\"type\":\"CategoricalTicker\"},{\"attributes\":{},\"id\":\"2738\",\"type\":\"ResetTool\"},{\"attributes\":{\"callback\":null,\"renderers\":[{\"id\":\"2752\",\"type\":\"GlyphRenderer\"}],\"tags\":[\"hv_created\"],\"tooltips\":[[\"neighborhood\",\"@{neighborhood}\"],[\"sale_price_sqr_foot\",\"@{sale_price_sqr_foot}\"]]},\"id\":\"2715\",\"type\":\"HoverTool\"},{\"attributes\":{\"axis_label\":\"neighborhood\",\"bounds\":\"auto\",\"formatter\":{\"id\":\"2756\",\"type\":\"CategoricalTickFormatter\"},\"major_label_orientation\":0.7853981633974483,\"ticker\":{\"id\":\"2726\",\"type\":\"CategoricalTicker\"}},\"id\":\"2725\",\"type\":\"CategoricalAxis\"},{\"attributes\":{\"callback\":null,\"data\":{\"neighborhood\":[\"Union Square District\",\"Presidio Heights\",\"Merced Heights\",\"Union Square District\",\"Miraloma Park\",\"Parnassus/Ashbury Heights\",\"Outer Richmond \",\"Marina\",\"South of Market\",\"Corona Heights\"],\"sale_price_sqr_foot\":{\"__ndarray__\":\"ZmZmZmaloUB7FK5H4eeWQEjhehSuIpZAexSuR+EplECuR+F6FM+TQAAAAAAA4JJAmpmZmZmykkCPwvUoXLORQI/C9Shcf5FAXI/C9SgzkUA=\",\"dtype\":\"float64\",\"shape\":[10]}},\"selected\":{\"id\":\"2747\",\"type\":\"Selection\"},\"selection_policy\":{\"id\":\"2766\",\"type\":\"UnionRenderers\"}},\"id\":\"2746\",\"type\":\"ColumnDataSource\"},{\"attributes\":{\"callback\":null,\"end\":2258.7,\"reset_end\":2258.7,\"reset_start\":0.0,\"tags\":[[[\"sale_price_sqr_foot\",\"sale_price_sqr_foot\",null]]]},\"id\":\"2714\",\"type\":\"Range1d\"},{\"attributes\":{},\"id\":\"2736\",\"type\":\"WheelZoomTool\"},{\"attributes\":{\"format\":\"%.0f\"},\"id\":\"2754\",\"type\":\"PrintfTickFormatter\"},{\"attributes\":{\"callback\":null,\"factors\":[\"Union Square District\",\"Presidio Heights\",\"Merced Heights\",\"Miraloma Park\",\"Parnassus/Ashbury Heights\",\"Outer Richmond \",\"Marina\",\"South of Market\",\"Corona Heights\"],\"tags\":[[[\"neighborhood\",\"neighborhood\",null]]]},\"id\":\"2713\",\"type\":\"FactorRange\"}],\"root_ids\":[\"2716\"]},\"title\":\"Bokeh Application\",\"version\":\"1.3.4\"}};\n",
       "  var render_items = [{\"docid\":\"70cd7f1e-c62c-4374-adf2-beb42909555e\",\"roots\":{\"2716\":\"a87ac3d7-a991-4048-a9c9-78203d0398a9\"}}];\n",
       "  root.Bokeh.embed.embed_items_notebook(docs_json, render_items);\n",
       "\n",
       "  }\n",
       "  if (root.Bokeh !== undefined) {\n",
       "    embed_document(root);\n",
       "  } else {\n",
       "    var attempts = 0;\n",
       "    var timer = setInterval(function(root) {\n",
       "      if (root.Bokeh !== undefined) {\n",
       "        embed_document(root);\n",
       "        clearInterval(timer);\n",
       "      }\n",
       "      attempts++;\n",
       "      if (attempts > 100) {\n",
       "        console.log(\"Bokeh: ERROR: Unable to run BokehJS code because BokehJS library is missing\");\n",
       "        clearInterval(timer);\n",
       "      }\n",
       "    }, 10, root)\n",
       "  }\n",
       "})(window);</script>"
      ],
      "text/plain": [
       ":Bars   [neighborhood]   (sale_price_sqr_foot)"
      ]
     },
     "execution_count": 112,
     "metadata": {
      "application/vnd.holoviews_exec.v0+json": {
       "id": "2716"
      }
     },
     "output_type": "execute_result"
    }
   ],
   "source": [
    "# Plotting the data from the top 10 expensive neighborhoods\n",
    "# YOUR CODE HERE!\n",
    "top_10Neighb_price_Plot = top_10.hvplot.bar(\n",
    "                                            x='neighborhood', y='sale_price_sqr_foot',\n",
    "                                            height=300, xlabel='neighborhood',\n",
    "                                            rot=45, title='San Francisco Most Expensive Boroughs (2010 - 2016)'                      \n",
    "                                            ).opts(yformatter=\"%.0f\") \n",
    "top_10Neighb_price_Plot"
   ]
  },
  {
   "cell_type": "markdown",
   "metadata": {},
   "source": [
    "- - - "
   ]
  },
  {
   "cell_type": "markdown",
   "metadata": {},
   "source": [
    "## Parallel Coordinates and Parallel Categories Analysis\n",
    "\n",
    "In this section, you will use plotly express to create parallel coordinates and parallel categories visualizations so that investors can interactively filter and explore various factors related to the sales price of the neighborhoods. \n",
    "\n",
    "Using the DataFrame of Average values per neighborhood (calculated above), create the following visualizations:\n",
    "1. Create a Parallel Coordinates Plot\n",
    "2. Create a Parallel Categories Plot"
   ]
  },
  {
   "cell_type": "code",
   "execution_count": 113,
   "metadata": {},
   "outputs": [
    {
     "data": {
      "application/vnd.plotly.v1+json": {
       "config": {
        "plotlyServerURL": "https://plot.ly"
       },
       "data": [
        {
         "dimensions": [
          {
           "label": "sale_price_sqr_foot",
           "values": [
            291.18294547229095,
            267.9325826799483,
            170.09866536400102,
            347.3949194037114,
            319.0276225530687,
            418.1724927089675,
            369.35933800413665,
            569.3799679261333,
            165.6457300650791,
            456.9308221979013,
            241.80455206485138,
            403.1183126490986,
            364.92833570851764,
            401.7499665916537,
            162.82121004772353,
            209.0493266346945,
            715.5864380979738,
            551.8011188234774,
            254.47377914469143,
            272.28497956385485,
            170.62491987132685,
            275.05668560990915,
            238.35002040677708,
            199.70200378219917,
            285.82235848868265,
            275.76972957461044,
            419.88781187646566,
            320.79691049204627,
            398.4588759923028,
            374.05763601016855,
            387.392839476922,
            680.6087291389301,
            489.80537777998506,
            257.98799863500693,
            262.87602564056425,
            307.67747674427835,
            381.13844514705266,
            282.11967050133603,
            432.19529211245555,
            338.12619999607017,
            368.31155203937294,
            496.51601414694983,
            326.01715041025074,
            274.16674158669116,
            434.25500394602585,
            302.15611319728896,
            491.45000385678617,
            549.4179312485746,
            362.34822391312133,
            1037.0997886617895,
            401.2959764896399,
            542.5316819894505,
            524.7935090952678,
            331.55599614560697,
            569.1934475267735,
            108.0129268765048,
            392.30076417058257,
            215.56913431487555,
            333.12677384193887,
            272.5273101795261,
            172.54056243085552,
            471.9217320911283,
            171.7723466866044,
            261.6638003416518,
            391.42644972996203,
            520.7181675305429,
            222.567848047696,
            390.5956530284181,
            145.85338027594094,
            382.3522610640586,
            234.28162351035442,
            295.77937822922695,
            413.16280403427527,
            281.312904357283,
            354.66555789282774,
            457.41388429762526,
            348.92970004124925,
            392.35345097326814,
            280.73063309393075,
            356.7090091359044,
            198.01587292452027,
            283.17495073168755,
            360.03727240448274,
            302.60448945564127,
            610.7666631577348,
            330.10889435237306,
            313.33845823084727,
            303.5441997161898,
            390.81846895621413,
            414.67606477603755,
            506.95217450146765,
            293.4042461148187,
            340.6425969783877,
            373.97868706755236,
            290.9210327099608,
            346.96116001560216,
            142.14256751724554,
            241.94565649181578,
            271.09013956932756,
            297.2455578459466,
            509.0214800287398,
            289.60560009472283,
            217.55878684527906,
            466.6178976523653,
            208.1679967483858,
            503.13850456030497,
            493.814917282618,
            448.3201042149405,
            388.6443367815385,
            337.91413464365013,
            437.16429949197664,
            483.4057725178001,
            284.56696642681646,
            302.12325280969134,
            384.23680203579306,
            227.41898086494461,
            320.0743330547439,
            438.86054508174806,
            183.09931693145703,
            344.4909139677922,
            165.79806239165433,
            368.26656078838516,
            338.60116351046344,
            279.0301399218751,
            334.4878725198492,
            356.7948135908725,
            644.8183066758803,
            415.0903401095623,
            366.9954275112727,
            269.109528813633,
            452.66002242984047,
            524.8134180834782,
            371.0302152741686,
            286.3519820673892,
            613.8430658201435,
            434.63234651328025,
            418.83037933269526,
            306.3779578647354,
            336.8259501844992,
            373.4668636470579,
            325.82892041816064,
            383.15039609809617,
            380.5214843069476,
            545.9801982412763,
            396.171112391617,
            445.21509554245245,
            421.1412447061912,
            397.9391288956355,
            756.1923725098497,
            689.5233123659036,
            320.9599230279341,
            307.78311439850694,
            428.0219127043747,
            517.1734931165627,
            390.3838567783597,
            442.24265696115737,
            221.881138746669,
            312.83398436239065,
            338.63301173022234,
            413.05871935195154,
            586.2182148097696,
            288.0785187599688,
            378.2738784387478,
            515.9210732061051,
            351.0432256921308,
            466.6478402167172,
            426.60859207171325,
            414.16272789686775,
            463.8098989043553,
            465.80212163177373,
            304.89964760284107,
            445.1967876448791,
            345.95804038831767,
            325.79541506433713,
            274.33846004864847,
            491.8140030500954,
            387.79414379681333,
            453.34049829869934,
            259.54716259308043,
            630.8973025513741,
            455.2180887853926,
            343.0542609770136,
            330.7364310191893,
            453.7716045219721,
            707.4028088888208,
            223.11583290346024,
            533.6884470076521,
            361.45469198221224,
            608.694967227678,
            289.749665708438,
            274.4579436322337,
            458.7213317825408,
            956.1841219171133,
            478.4956365730093,
            491.5892613631572,
            377.51801557551835,
            302.96737702840636,
            435.5456667813491,
            584.0737147409254,
            568.6511487607912,
            376.08359802951554,
            548.0466890413603,
            655.1980415945777,
            703.0815676877947,
            null,
            427.16626614177557,
            591.4020223180053,
            466.02648785310464,
            615.0639297056517,
            393.71733534550384,
            483.16880334240136,
            372.24198616911974,
            332.40781536886453,
            322.0822144332409,
            503.89926133005366,
            512.6307219919141,
            364.62465302417013,
            425.64225533080946,
            235.99759251727426,
            598.704795328917,
            512.8402484358223,
            506.22752218971993,
            420.822184596571,
            505.83481143735054,
            653.3116166908643,
            414.43569251368126,
            1290.472106646641,
            285.0095060630079,
            293.2983722057751,
            588.0747967826295,
            217.0890689540353,
            747.3335378171588,
            753.0114133184368,
            484.44355217067766,
            620.4414065565543,
            254.95866163273848,
            544.5469286452765,
            423.95272693478194,
            456.2419957897522,
            888.1821435177138,
            691.8654114838455,
            428.7265326799175,
            630.3115352378672,
            728.9797158498743,
            358.30523872237734,
            409.9438351783924,
            694.4181461347432,
            553.5627522522698,
            567.3400104586143,
            496.55100121228986,
            428.9237926791115,
            647.6496334575522,
            464.1758436880091,
            597.200528047448,
            430.9396363161629,
            470.85352986706454,
            426.7863811847511,
            432.9627229749631,
            317.2219194303952,
            716.3765095625198,
            642.838478220973,
            528.7265413888829,
            1267.7662026328826,
            220.11108719171108,
            642.2195925518147,
            300.1873092016618,
            478.44335175268515,
            654.801499892284,
            379.92536172660726,
            650.963515967709,
            401.9350222176535,
            490.36358286726374,
            824.6586936349588,
            371.9242451684328,
            446.23924529045684,
            773.4061347806703,
            538.204698577284,
            1045.2015459222662,
            603.4509968798565,
            714.2220737504065,
            170.2925485152069,
            524.6293121403909,
            1119.8388773148026,
            493.45560489574007,
            708.1930316849231,
            562.9112337982453,
            558.2711194060469,
            475.39318681250677,
            282.02546830016496,
            687.7829633004552,
            429.4883174233179,
            742.9797231632554,
            479.9237488133093,
            602.1158769435002,
            465.68627450980387,
            590.7928388746802,
            458.0042993401075,
            551.6956218496264,
            473.1638149617127,
            453.3793770708969,
            1100.7911936704506,
            598.6205414959003,
            301.61864706270705,
            485.8868855757771,
            631.6456863280099,
            790.1803690820187,
            414.35585647200105,
            694.358566653677,
            453.4330812935196,
            612.1061563311456,
            772.7128362001238,
            574.2740565313097,
            536.5571018753241,
            null,
            192.16524813774402,
            435.9007753824155,
            762.5272331154684,
            493.61555763336935,
            639.1464438694404,
            576.4579094375945,
            426.6849522707296,
            918.2882682038704,
            800.0388650775142,
            1132.8373605554546,
            571.7557085689908,
            583.8486362312665,
            529.847319131393,
            544.6002639104154,
            448.86919667679206,
            890.9095931764135,
            265.92982650327014,
            564.6874764662283,
            652.2879690318528,
            438.4677874196749,
            357.8946922463997,
            910.1876901656897,
            616.5723883169862,
            null,
            605.3433249358948,
            821.3009904764873,
            null,
            793.2619915605263,
            717.0825412171872,
            439.7498835483721,
            996.9902204858653,
            417.33537892280015,
            2258.702831998355,
            677.8382318281795,
            302.2218727063018,
            481.46924427394237,
            963.5226061641273,
            340.98183523166995,
            88.40151094606408,
            986.8421052631579,
            851.4014053492668,
            661.0644257703083,
            581.3708750724594,
            1059.0656015492618,
            566.7011760342162,
            718.7768297452345,
            1026.7911075237503,
            534.2262501283425,
            null,
            945.5665024630542,
            531.8350322320708,
            175.06606919629078,
            571.5799833446893,
            647.7704471840341,
            518.1126504655916,
            403.31113221139015,
            445.9238282688497,
            704.5664189758045,
            636.4307703489127,
            431.94460202359033,
            1416.666666666667,
            924.5691159025888,
            879.0170132325142,
            777.0083145338547,
            799.4956512788842,
            407.5533215595707,
            40.7726253518439,
            732.7206841423807,
            1196.645436923929,
            510.5769072143791,
            996.3893635634033,
            211.30136986006568,
            1207.997484708169,
            707.6516094320912,
            1465.9685863874345,
            1024.3398771365157,
            531.1363737279744,
            751.1737089201877,
            903.0497705987848,
            970.08547008547,
            552.6025671312701,
            328.31900668576884,
            631.1954258724091
           ]
          },
          {
           "label": "housing_units",
           "values": [
            372560,
            372560,
            372560,
            372560,
            372560,
            372560,
            372560,
            372560,
            372560,
            372560,
            372560,
            372560,
            372560,
            372560,
            372560,
            372560,
            372560,
            372560,
            372560,
            372560,
            372560,
            372560,
            372560,
            372560,
            372560,
            372560,
            372560,
            372560,
            372560,
            372560,
            372560,
            372560,
            372560,
            372560,
            372560,
            372560,
            372560,
            372560,
            372560,
            372560,
            372560,
            372560,
            372560,
            372560,
            372560,
            372560,
            372560,
            372560,
            372560,
            372560,
            372560,
            372560,
            372560,
            372560,
            372560,
            372560,
            372560,
            372560,
            372560,
            374507,
            374507,
            374507,
            374507,
            374507,
            374507,
            374507,
            374507,
            374507,
            374507,
            374507,
            374507,
            374507,
            374507,
            374507,
            374507,
            374507,
            374507,
            374507,
            374507,
            374507,
            374507,
            374507,
            374507,
            374507,
            374507,
            374507,
            374507,
            374507,
            374507,
            374507,
            374507,
            374507,
            374507,
            374507,
            374507,
            374507,
            374507,
            374507,
            374507,
            374507,
            374507,
            374507,
            374507,
            374507,
            374507,
            374507,
            374507,
            374507,
            374507,
            374507,
            374507,
            374507,
            374507,
            374507,
            374507,
            374507,
            374507,
            374507,
            376454,
            376454,
            376454,
            376454,
            376454,
            376454,
            376454,
            376454,
            376454,
            376454,
            376454,
            376454,
            376454,
            376454,
            376454,
            376454,
            376454,
            376454,
            376454,
            376454,
            376454,
            376454,
            376454,
            376454,
            376454,
            376454,
            376454,
            376454,
            376454,
            376454,
            376454,
            376454,
            376454,
            376454,
            376454,
            376454,
            376454,
            376454,
            376454,
            376454,
            376454,
            376454,
            376454,
            376454,
            376454,
            376454,
            376454,
            376454,
            376454,
            376454,
            376454,
            376454,
            376454,
            376454,
            376454,
            376454,
            376454,
            376454,
            378401,
            378401,
            378401,
            378401,
            378401,
            378401,
            378401,
            378401,
            378401,
            378401,
            378401,
            378401,
            378401,
            378401,
            378401,
            378401,
            378401,
            378401,
            378401,
            378401,
            378401,
            378401,
            378401,
            378401,
            378401,
            378401,
            378401,
            378401,
            378401,
            378401,
            378401,
            378401,
            378401,
            378401,
            378401,
            378401,
            378401,
            378401,
            378401,
            378401,
            378401,
            378401,
            378401,
            378401,
            378401,
            378401,
            378401,
            378401,
            378401,
            378401,
            378401,
            378401,
            378401,
            378401,
            378401,
            378401,
            378401,
            380348,
            380348,
            380348,
            380348,
            380348,
            380348,
            380348,
            380348,
            380348,
            380348,
            380348,
            380348,
            380348,
            380348,
            380348,
            380348,
            380348,
            380348,
            380348,
            380348,
            380348,
            380348,
            380348,
            380348,
            380348,
            380348,
            380348,
            380348,
            380348,
            380348,
            380348,
            380348,
            380348,
            380348,
            380348,
            380348,
            380348,
            380348,
            380348,
            380348,
            380348,
            380348,
            380348,
            380348,
            380348,
            380348,
            380348,
            380348,
            380348,
            380348,
            380348,
            380348,
            380348,
            380348,
            380348,
            380348,
            380348,
            380348,
            380348,
            380348,
            382295,
            382295,
            382295,
            382295,
            382295,
            382295,
            382295,
            382295,
            382295,
            382295,
            382295,
            382295,
            382295,
            382295,
            382295,
            382295,
            382295,
            382295,
            382295,
            382295,
            382295,
            382295,
            382295,
            382295,
            382295,
            382295,
            382295,
            382295,
            382295,
            382295,
            382295,
            382295,
            382295,
            382295,
            382295,
            382295,
            382295,
            382295,
            382295,
            382295,
            382295,
            382295,
            382295,
            382295,
            382295,
            382295,
            382295,
            382295,
            382295,
            382295,
            382295,
            382295,
            382295,
            382295,
            382295,
            382295,
            382295,
            382295,
            384242,
            384242,
            384242,
            384242,
            384242,
            384242,
            384242,
            384242,
            384242,
            384242,
            384242,
            384242,
            384242,
            384242,
            384242,
            384242,
            384242,
            384242,
            384242,
            384242,
            384242,
            384242,
            384242,
            384242,
            384242,
            384242,
            384242,
            384242,
            384242,
            384242,
            384242,
            384242,
            384242,
            384242,
            384242,
            384242,
            384242,
            384242,
            384242,
            384242,
            384242,
            384242,
            384242,
            384242,
            384242,
            384242
           ]
          },
          {
           "label": "gross_rent",
           "values": [
            1239,
            1239,
            1239,
            1239,
            1239,
            1239,
            1239,
            1239,
            1239,
            1239,
            1239,
            1239,
            1239,
            1239,
            1239,
            1239,
            1239,
            1239,
            1239,
            1239,
            1239,
            1239,
            1239,
            1239,
            1239,
            1239,
            1239,
            1239,
            1239,
            1239,
            1239,
            1239,
            1239,
            1239,
            1239,
            1239,
            1239,
            1239,
            1239,
            1239,
            1239,
            1239,
            1239,
            1239,
            1239,
            1239,
            1239,
            1239,
            1239,
            1239,
            1239,
            1239,
            1239,
            1239,
            1239,
            1239,
            1239,
            1239,
            1239,
            1530,
            1530,
            1530,
            1530,
            1530,
            1530,
            1530,
            1530,
            1530,
            1530,
            1530,
            1530,
            1530,
            1530,
            1530,
            1530,
            1530,
            1530,
            1530,
            1530,
            1530,
            1530,
            1530,
            1530,
            1530,
            1530,
            1530,
            1530,
            1530,
            1530,
            1530,
            1530,
            1530,
            1530,
            1530,
            1530,
            1530,
            1530,
            1530,
            1530,
            1530,
            1530,
            1530,
            1530,
            1530,
            1530,
            1530,
            1530,
            1530,
            1530,
            1530,
            1530,
            1530,
            1530,
            1530,
            1530,
            1530,
            1530,
            1530,
            2324,
            2324,
            2324,
            2324,
            2324,
            2324,
            2324,
            2324,
            2324,
            2324,
            2324,
            2324,
            2324,
            2324,
            2324,
            2324,
            2324,
            2324,
            2324,
            2324,
            2324,
            2324,
            2324,
            2324,
            2324,
            2324,
            2324,
            2324,
            2324,
            2324,
            2324,
            2324,
            2324,
            2324,
            2324,
            2324,
            2324,
            2324,
            2324,
            2324,
            2324,
            2324,
            2324,
            2324,
            2324,
            2324,
            2324,
            2324,
            2324,
            2324,
            2324,
            2324,
            2324,
            2324,
            2324,
            2324,
            2324,
            2324,
            2971,
            2971,
            2971,
            2971,
            2971,
            2971,
            2971,
            2971,
            2971,
            2971,
            2971,
            2971,
            2971,
            2971,
            2971,
            2971,
            2971,
            2971,
            2971,
            2971,
            2971,
            2971,
            2971,
            2971,
            2971,
            2971,
            2971,
            2971,
            2971,
            2971,
            2971,
            2971,
            2971,
            2971,
            2971,
            2971,
            2971,
            2971,
            2971,
            2971,
            2971,
            2971,
            2971,
            2971,
            2971,
            2971,
            2971,
            2971,
            2971,
            2971,
            2971,
            2971,
            2971,
            2971,
            2971,
            2971,
            2971,
            3528,
            3528,
            3528,
            3528,
            3528,
            3528,
            3528,
            3528,
            3528,
            3528,
            3528,
            3528,
            3528,
            3528,
            3528,
            3528,
            3528,
            3528,
            3528,
            3528,
            3528,
            3528,
            3528,
            3528,
            3528,
            3528,
            3528,
            3528,
            3528,
            3528,
            3528,
            3528,
            3528,
            3528,
            3528,
            3528,
            3528,
            3528,
            3528,
            3528,
            3528,
            3528,
            3528,
            3528,
            3528,
            3528,
            3528,
            3528,
            3528,
            3528,
            3528,
            3528,
            3528,
            3528,
            3528,
            3528,
            3528,
            3528,
            3528,
            3528,
            3739,
            3739,
            3739,
            3739,
            3739,
            3739,
            3739,
            3739,
            3739,
            3739,
            3739,
            3739,
            3739,
            3739,
            3739,
            3739,
            3739,
            3739,
            3739,
            3739,
            3739,
            3739,
            3739,
            3739,
            3739,
            3739,
            3739,
            3739,
            3739,
            3739,
            3739,
            3739,
            3739,
            3739,
            3739,
            3739,
            3739,
            3739,
            3739,
            3739,
            3739,
            3739,
            3739,
            3739,
            3739,
            3739,
            3739,
            3739,
            3739,
            3739,
            3739,
            3739,
            3739,
            3739,
            3739,
            3739,
            3739,
            3739,
            4390,
            4390,
            4390,
            4390,
            4390,
            4390,
            4390,
            4390,
            4390,
            4390,
            4390,
            4390,
            4390,
            4390,
            4390,
            4390,
            4390,
            4390,
            4390,
            4390,
            4390,
            4390,
            4390,
            4390,
            4390,
            4390,
            4390,
            4390,
            4390,
            4390,
            4390,
            4390,
            4390,
            4390,
            4390,
            4390,
            4390,
            4390,
            4390,
            4390,
            4390,
            4390,
            4390,
            4390,
            4390,
            4390
           ]
          }
         ],
         "domain": {
          "x": [
           0,
           1
          ],
          "y": [
           0,
           1
          ]
         },
         "line": {
          "color": [
           291.18294547229095,
           267.9325826799483,
           170.09866536400102,
           347.3949194037114,
           319.0276225530687,
           418.1724927089675,
           369.35933800413665,
           569.3799679261333,
           165.6457300650791,
           456.9308221979013,
           241.80455206485138,
           403.1183126490986,
           364.92833570851764,
           401.7499665916537,
           162.82121004772353,
           209.0493266346945,
           715.5864380979738,
           551.8011188234774,
           254.47377914469143,
           272.28497956385485,
           170.62491987132685,
           275.05668560990915,
           238.35002040677708,
           199.70200378219917,
           285.82235848868265,
           275.76972957461044,
           419.88781187646566,
           320.79691049204627,
           398.4588759923028,
           374.05763601016855,
           387.392839476922,
           680.6087291389301,
           489.80537777998506,
           257.98799863500693,
           262.87602564056425,
           307.67747674427835,
           381.13844514705266,
           282.11967050133603,
           432.19529211245555,
           338.12619999607017,
           368.31155203937294,
           496.51601414694983,
           326.01715041025074,
           274.16674158669116,
           434.25500394602585,
           302.15611319728896,
           491.45000385678617,
           549.4179312485746,
           362.34822391312133,
           1037.0997886617895,
           401.2959764896399,
           542.5316819894505,
           524.7935090952678,
           331.55599614560697,
           569.1934475267735,
           108.0129268765048,
           392.30076417058257,
           215.56913431487555,
           333.12677384193887,
           272.5273101795261,
           172.54056243085552,
           471.9217320911283,
           171.7723466866044,
           261.6638003416518,
           391.42644972996203,
           520.7181675305429,
           222.567848047696,
           390.5956530284181,
           145.85338027594094,
           382.3522610640586,
           234.28162351035442,
           295.77937822922695,
           413.16280403427527,
           281.312904357283,
           354.66555789282774,
           457.41388429762526,
           348.92970004124925,
           392.35345097326814,
           280.73063309393075,
           356.7090091359044,
           198.01587292452027,
           283.17495073168755,
           360.03727240448274,
           302.60448945564127,
           610.7666631577348,
           330.10889435237306,
           313.33845823084727,
           303.5441997161898,
           390.81846895621413,
           414.67606477603755,
           506.95217450146765,
           293.4042461148187,
           340.6425969783877,
           373.97868706755236,
           290.9210327099608,
           346.96116001560216,
           142.14256751724554,
           241.94565649181578,
           271.09013956932756,
           297.2455578459466,
           509.0214800287398,
           289.60560009472283,
           217.55878684527906,
           466.6178976523653,
           208.1679967483858,
           503.13850456030497,
           493.814917282618,
           448.3201042149405,
           388.6443367815385,
           337.91413464365013,
           437.16429949197664,
           483.4057725178001,
           284.56696642681646,
           302.12325280969134,
           384.23680203579306,
           227.41898086494461,
           320.0743330547439,
           438.86054508174806,
           183.09931693145703,
           344.4909139677922,
           165.79806239165433,
           368.26656078838516,
           338.60116351046344,
           279.0301399218751,
           334.4878725198492,
           356.7948135908725,
           644.8183066758803,
           415.0903401095623,
           366.9954275112727,
           269.109528813633,
           452.66002242984047,
           524.8134180834782,
           371.0302152741686,
           286.3519820673892,
           613.8430658201435,
           434.63234651328025,
           418.83037933269526,
           306.3779578647354,
           336.8259501844992,
           373.4668636470579,
           325.82892041816064,
           383.15039609809617,
           380.5214843069476,
           545.9801982412763,
           396.171112391617,
           445.21509554245245,
           421.1412447061912,
           397.9391288956355,
           756.1923725098497,
           689.5233123659036,
           320.9599230279341,
           307.78311439850694,
           428.0219127043747,
           517.1734931165627,
           390.3838567783597,
           442.24265696115737,
           221.881138746669,
           312.83398436239065,
           338.63301173022234,
           413.05871935195154,
           586.2182148097696,
           288.0785187599688,
           378.2738784387478,
           515.9210732061051,
           351.0432256921308,
           466.6478402167172,
           426.60859207171325,
           414.16272789686775,
           463.8098989043553,
           465.80212163177373,
           304.89964760284107,
           445.1967876448791,
           345.95804038831767,
           325.79541506433713,
           274.33846004864847,
           491.8140030500954,
           387.79414379681333,
           453.34049829869934,
           259.54716259308043,
           630.8973025513741,
           455.2180887853926,
           343.0542609770136,
           330.7364310191893,
           453.7716045219721,
           707.4028088888208,
           223.11583290346024,
           533.6884470076521,
           361.45469198221224,
           608.694967227678,
           289.749665708438,
           274.4579436322337,
           458.7213317825408,
           956.1841219171133,
           478.4956365730093,
           491.5892613631572,
           377.51801557551835,
           302.96737702840636,
           435.5456667813491,
           584.0737147409254,
           568.6511487607912,
           376.08359802951554,
           548.0466890413603,
           655.1980415945777,
           703.0815676877947,
           null,
           427.16626614177557,
           591.4020223180053,
           466.02648785310464,
           615.0639297056517,
           393.71733534550384,
           483.16880334240136,
           372.24198616911974,
           332.40781536886453,
           322.0822144332409,
           503.89926133005366,
           512.6307219919141,
           364.62465302417013,
           425.64225533080946,
           235.99759251727426,
           598.704795328917,
           512.8402484358223,
           506.22752218971993,
           420.822184596571,
           505.83481143735054,
           653.3116166908643,
           414.43569251368126,
           1290.472106646641,
           285.0095060630079,
           293.2983722057751,
           588.0747967826295,
           217.0890689540353,
           747.3335378171588,
           753.0114133184368,
           484.44355217067766,
           620.4414065565543,
           254.95866163273848,
           544.5469286452765,
           423.95272693478194,
           456.2419957897522,
           888.1821435177138,
           691.8654114838455,
           428.7265326799175,
           630.3115352378672,
           728.9797158498743,
           358.30523872237734,
           409.9438351783924,
           694.4181461347432,
           553.5627522522698,
           567.3400104586143,
           496.55100121228986,
           428.9237926791115,
           647.6496334575522,
           464.1758436880091,
           597.200528047448,
           430.9396363161629,
           470.85352986706454,
           426.7863811847511,
           432.9627229749631,
           317.2219194303952,
           716.3765095625198,
           642.838478220973,
           528.7265413888829,
           1267.7662026328826,
           220.11108719171108,
           642.2195925518147,
           300.1873092016618,
           478.44335175268515,
           654.801499892284,
           379.92536172660726,
           650.963515967709,
           401.9350222176535,
           490.36358286726374,
           824.6586936349588,
           371.9242451684328,
           446.23924529045684,
           773.4061347806703,
           538.204698577284,
           1045.2015459222662,
           603.4509968798565,
           714.2220737504065,
           170.2925485152069,
           524.6293121403909,
           1119.8388773148026,
           493.45560489574007,
           708.1930316849231,
           562.9112337982453,
           558.2711194060469,
           475.39318681250677,
           282.02546830016496,
           687.7829633004552,
           429.4883174233179,
           742.9797231632554,
           479.9237488133093,
           602.1158769435002,
           465.68627450980387,
           590.7928388746802,
           458.0042993401075,
           551.6956218496264,
           473.1638149617127,
           453.3793770708969,
           1100.7911936704506,
           598.6205414959003,
           301.61864706270705,
           485.8868855757771,
           631.6456863280099,
           790.1803690820187,
           414.35585647200105,
           694.358566653677,
           453.4330812935196,
           612.1061563311456,
           772.7128362001238,
           574.2740565313097,
           536.5571018753241,
           null,
           192.16524813774402,
           435.9007753824155,
           762.5272331154684,
           493.61555763336935,
           639.1464438694404,
           576.4579094375945,
           426.6849522707296,
           918.2882682038704,
           800.0388650775142,
           1132.8373605554546,
           571.7557085689908,
           583.8486362312665,
           529.847319131393,
           544.6002639104154,
           448.86919667679206,
           890.9095931764135,
           265.92982650327014,
           564.6874764662283,
           652.2879690318528,
           438.4677874196749,
           357.8946922463997,
           910.1876901656897,
           616.5723883169862,
           null,
           605.3433249358948,
           821.3009904764873,
           null,
           793.2619915605263,
           717.0825412171872,
           439.7498835483721,
           996.9902204858653,
           417.33537892280015,
           2258.702831998355,
           677.8382318281795,
           302.2218727063018,
           481.46924427394237,
           963.5226061641273,
           340.98183523166995,
           88.40151094606408,
           986.8421052631579,
           851.4014053492668,
           661.0644257703083,
           581.3708750724594,
           1059.0656015492618,
           566.7011760342162,
           718.7768297452345,
           1026.7911075237503,
           534.2262501283425,
           null,
           945.5665024630542,
           531.8350322320708,
           175.06606919629078,
           571.5799833446893,
           647.7704471840341,
           518.1126504655916,
           403.31113221139015,
           445.9238282688497,
           704.5664189758045,
           636.4307703489127,
           431.94460202359033,
           1416.666666666667,
           924.5691159025888,
           879.0170132325142,
           777.0083145338547,
           799.4956512788842,
           407.5533215595707,
           40.7726253518439,
           732.7206841423807,
           1196.645436923929,
           510.5769072143791,
           996.3893635634033,
           211.30136986006568,
           1207.997484708169,
           707.6516094320912,
           1465.9685863874345,
           1024.3398771365157,
           531.1363737279744,
           751.1737089201877,
           903.0497705987848,
           970.08547008547,
           552.6025671312701,
           328.31900668576884,
           631.1954258724091
          ],
          "coloraxis": "coloraxis"
         },
         "name": "",
         "type": "parcoords"
        }
       ],
       "layout": {
        "coloraxis": {
         "colorbar": {
          "title": {
           "text": "sale_price_sqr_foot"
          }
         },
         "colorscale": [
          [
           0,
           "#0d0887"
          ],
          [
           0.1111111111111111,
           "#46039f"
          ],
          [
           0.2222222222222222,
           "#7201a8"
          ],
          [
           0.3333333333333333,
           "#9c179e"
          ],
          [
           0.4444444444444444,
           "#bd3786"
          ],
          [
           0.5555555555555556,
           "#d8576b"
          ],
          [
           0.6666666666666666,
           "#ed7953"
          ],
          [
           0.7777777777777778,
           "#fb9f3a"
          ],
          [
           0.8888888888888888,
           "#fdca26"
          ],
          [
           1,
           "#f0f921"
          ]
         ]
        },
        "legend": {
         "tracegroupgap": 0
        },
        "margin": {
         "t": 60
        },
        "template": {
         "data": {
          "bar": [
           {
            "error_x": {
             "color": "#2a3f5f"
            },
            "error_y": {
             "color": "#2a3f5f"
            },
            "marker": {
             "line": {
              "color": "#E5ECF6",
              "width": 0.5
             }
            },
            "type": "bar"
           }
          ],
          "barpolar": [
           {
            "marker": {
             "line": {
              "color": "#E5ECF6",
              "width": 0.5
             }
            },
            "type": "barpolar"
           }
          ],
          "carpet": [
           {
            "aaxis": {
             "endlinecolor": "#2a3f5f",
             "gridcolor": "white",
             "linecolor": "white",
             "minorgridcolor": "white",
             "startlinecolor": "#2a3f5f"
            },
            "baxis": {
             "endlinecolor": "#2a3f5f",
             "gridcolor": "white",
             "linecolor": "white",
             "minorgridcolor": "white",
             "startlinecolor": "#2a3f5f"
            },
            "type": "carpet"
           }
          ],
          "choropleth": [
           {
            "colorbar": {
             "outlinewidth": 0,
             "ticks": ""
            },
            "type": "choropleth"
           }
          ],
          "contour": [
           {
            "colorbar": {
             "outlinewidth": 0,
             "ticks": ""
            },
            "colorscale": [
             [
              0,
              "#0d0887"
             ],
             [
              0.1111111111111111,
              "#46039f"
             ],
             [
              0.2222222222222222,
              "#7201a8"
             ],
             [
              0.3333333333333333,
              "#9c179e"
             ],
             [
              0.4444444444444444,
              "#bd3786"
             ],
             [
              0.5555555555555556,
              "#d8576b"
             ],
             [
              0.6666666666666666,
              "#ed7953"
             ],
             [
              0.7777777777777778,
              "#fb9f3a"
             ],
             [
              0.8888888888888888,
              "#fdca26"
             ],
             [
              1,
              "#f0f921"
             ]
            ],
            "type": "contour"
           }
          ],
          "contourcarpet": [
           {
            "colorbar": {
             "outlinewidth": 0,
             "ticks": ""
            },
            "type": "contourcarpet"
           }
          ],
          "heatmap": [
           {
            "colorbar": {
             "outlinewidth": 0,
             "ticks": ""
            },
            "colorscale": [
             [
              0,
              "#0d0887"
             ],
             [
              0.1111111111111111,
              "#46039f"
             ],
             [
              0.2222222222222222,
              "#7201a8"
             ],
             [
              0.3333333333333333,
              "#9c179e"
             ],
             [
              0.4444444444444444,
              "#bd3786"
             ],
             [
              0.5555555555555556,
              "#d8576b"
             ],
             [
              0.6666666666666666,
              "#ed7953"
             ],
             [
              0.7777777777777778,
              "#fb9f3a"
             ],
             [
              0.8888888888888888,
              "#fdca26"
             ],
             [
              1,
              "#f0f921"
             ]
            ],
            "type": "heatmap"
           }
          ],
          "heatmapgl": [
           {
            "colorbar": {
             "outlinewidth": 0,
             "ticks": ""
            },
            "colorscale": [
             [
              0,
              "#0d0887"
             ],
             [
              0.1111111111111111,
              "#46039f"
             ],
             [
              0.2222222222222222,
              "#7201a8"
             ],
             [
              0.3333333333333333,
              "#9c179e"
             ],
             [
              0.4444444444444444,
              "#bd3786"
             ],
             [
              0.5555555555555556,
              "#d8576b"
             ],
             [
              0.6666666666666666,
              "#ed7953"
             ],
             [
              0.7777777777777778,
              "#fb9f3a"
             ],
             [
              0.8888888888888888,
              "#fdca26"
             ],
             [
              1,
              "#f0f921"
             ]
            ],
            "type": "heatmapgl"
           }
          ],
          "histogram": [
           {
            "marker": {
             "colorbar": {
              "outlinewidth": 0,
              "ticks": ""
             }
            },
            "type": "histogram"
           }
          ],
          "histogram2d": [
           {
            "colorbar": {
             "outlinewidth": 0,
             "ticks": ""
            },
            "colorscale": [
             [
              0,
              "#0d0887"
             ],
             [
              0.1111111111111111,
              "#46039f"
             ],
             [
              0.2222222222222222,
              "#7201a8"
             ],
             [
              0.3333333333333333,
              "#9c179e"
             ],
             [
              0.4444444444444444,
              "#bd3786"
             ],
             [
              0.5555555555555556,
              "#d8576b"
             ],
             [
              0.6666666666666666,
              "#ed7953"
             ],
             [
              0.7777777777777778,
              "#fb9f3a"
             ],
             [
              0.8888888888888888,
              "#fdca26"
             ],
             [
              1,
              "#f0f921"
             ]
            ],
            "type": "histogram2d"
           }
          ],
          "histogram2dcontour": [
           {
            "colorbar": {
             "outlinewidth": 0,
             "ticks": ""
            },
            "colorscale": [
             [
              0,
              "#0d0887"
             ],
             [
              0.1111111111111111,
              "#46039f"
             ],
             [
              0.2222222222222222,
              "#7201a8"
             ],
             [
              0.3333333333333333,
              "#9c179e"
             ],
             [
              0.4444444444444444,
              "#bd3786"
             ],
             [
              0.5555555555555556,
              "#d8576b"
             ],
             [
              0.6666666666666666,
              "#ed7953"
             ],
             [
              0.7777777777777778,
              "#fb9f3a"
             ],
             [
              0.8888888888888888,
              "#fdca26"
             ],
             [
              1,
              "#f0f921"
             ]
            ],
            "type": "histogram2dcontour"
           }
          ],
          "mesh3d": [
           {
            "colorbar": {
             "outlinewidth": 0,
             "ticks": ""
            },
            "type": "mesh3d"
           }
          ],
          "parcoords": [
           {
            "line": {
             "colorbar": {
              "outlinewidth": 0,
              "ticks": ""
             }
            },
            "type": "parcoords"
           }
          ],
          "pie": [
           {
            "automargin": true,
            "type": "pie"
           }
          ],
          "scatter": [
           {
            "marker": {
             "colorbar": {
              "outlinewidth": 0,
              "ticks": ""
             }
            },
            "type": "scatter"
           }
          ],
          "scatter3d": [
           {
            "line": {
             "colorbar": {
              "outlinewidth": 0,
              "ticks": ""
             }
            },
            "marker": {
             "colorbar": {
              "outlinewidth": 0,
              "ticks": ""
             }
            },
            "type": "scatter3d"
           }
          ],
          "scattercarpet": [
           {
            "marker": {
             "colorbar": {
              "outlinewidth": 0,
              "ticks": ""
             }
            },
            "type": "scattercarpet"
           }
          ],
          "scattergeo": [
           {
            "marker": {
             "colorbar": {
              "outlinewidth": 0,
              "ticks": ""
             }
            },
            "type": "scattergeo"
           }
          ],
          "scattergl": [
           {
            "marker": {
             "colorbar": {
              "outlinewidth": 0,
              "ticks": ""
             }
            },
            "type": "scattergl"
           }
          ],
          "scattermapbox": [
           {
            "marker": {
             "colorbar": {
              "outlinewidth": 0,
              "ticks": ""
             }
            },
            "type": "scattermapbox"
           }
          ],
          "scatterpolar": [
           {
            "marker": {
             "colorbar": {
              "outlinewidth": 0,
              "ticks": ""
             }
            },
            "type": "scatterpolar"
           }
          ],
          "scatterpolargl": [
           {
            "marker": {
             "colorbar": {
              "outlinewidth": 0,
              "ticks": ""
             }
            },
            "type": "scatterpolargl"
           }
          ],
          "scatterternary": [
           {
            "marker": {
             "colorbar": {
              "outlinewidth": 0,
              "ticks": ""
             }
            },
            "type": "scatterternary"
           }
          ],
          "surface": [
           {
            "colorbar": {
             "outlinewidth": 0,
             "ticks": ""
            },
            "colorscale": [
             [
              0,
              "#0d0887"
             ],
             [
              0.1111111111111111,
              "#46039f"
             ],
             [
              0.2222222222222222,
              "#7201a8"
             ],
             [
              0.3333333333333333,
              "#9c179e"
             ],
             [
              0.4444444444444444,
              "#bd3786"
             ],
             [
              0.5555555555555556,
              "#d8576b"
             ],
             [
              0.6666666666666666,
              "#ed7953"
             ],
             [
              0.7777777777777778,
              "#fb9f3a"
             ],
             [
              0.8888888888888888,
              "#fdca26"
             ],
             [
              1,
              "#f0f921"
             ]
            ],
            "type": "surface"
           }
          ],
          "table": [
           {
            "cells": {
             "fill": {
              "color": "#EBF0F8"
             },
             "line": {
              "color": "white"
             }
            },
            "header": {
             "fill": {
              "color": "#C8D4E3"
             },
             "line": {
              "color": "white"
             }
            },
            "type": "table"
           }
          ]
         },
         "layout": {
          "annotationdefaults": {
           "arrowcolor": "#2a3f5f",
           "arrowhead": 0,
           "arrowwidth": 1
          },
          "coloraxis": {
           "colorbar": {
            "outlinewidth": 0,
            "ticks": ""
           }
          },
          "colorscale": {
           "diverging": [
            [
             0,
             "#8e0152"
            ],
            [
             0.1,
             "#c51b7d"
            ],
            [
             0.2,
             "#de77ae"
            ],
            [
             0.3,
             "#f1b6da"
            ],
            [
             0.4,
             "#fde0ef"
            ],
            [
             0.5,
             "#f7f7f7"
            ],
            [
             0.6,
             "#e6f5d0"
            ],
            [
             0.7,
             "#b8e186"
            ],
            [
             0.8,
             "#7fbc41"
            ],
            [
             0.9,
             "#4d9221"
            ],
            [
             1,
             "#276419"
            ]
           ],
           "sequential": [
            [
             0,
             "#0d0887"
            ],
            [
             0.1111111111111111,
             "#46039f"
            ],
            [
             0.2222222222222222,
             "#7201a8"
            ],
            [
             0.3333333333333333,
             "#9c179e"
            ],
            [
             0.4444444444444444,
             "#bd3786"
            ],
            [
             0.5555555555555556,
             "#d8576b"
            ],
            [
             0.6666666666666666,
             "#ed7953"
            ],
            [
             0.7777777777777778,
             "#fb9f3a"
            ],
            [
             0.8888888888888888,
             "#fdca26"
            ],
            [
             1,
             "#f0f921"
            ]
           ],
           "sequentialminus": [
            [
             0,
             "#0d0887"
            ],
            [
             0.1111111111111111,
             "#46039f"
            ],
            [
             0.2222222222222222,
             "#7201a8"
            ],
            [
             0.3333333333333333,
             "#9c179e"
            ],
            [
             0.4444444444444444,
             "#bd3786"
            ],
            [
             0.5555555555555556,
             "#d8576b"
            ],
            [
             0.6666666666666666,
             "#ed7953"
            ],
            [
             0.7777777777777778,
             "#fb9f3a"
            ],
            [
             0.8888888888888888,
             "#fdca26"
            ],
            [
             1,
             "#f0f921"
            ]
           ]
          },
          "colorway": [
           "#636efa",
           "#EF553B",
           "#00cc96",
           "#ab63fa",
           "#FFA15A",
           "#19d3f3",
           "#FF6692",
           "#B6E880",
           "#FF97FF",
           "#FECB52"
          ],
          "font": {
           "color": "#2a3f5f"
          },
          "geo": {
           "bgcolor": "white",
           "lakecolor": "white",
           "landcolor": "#E5ECF6",
           "showlakes": true,
           "showland": true,
           "subunitcolor": "white"
          },
          "hoverlabel": {
           "align": "left"
          },
          "hovermode": "closest",
          "mapbox": {
           "style": "light"
          },
          "paper_bgcolor": "white",
          "plot_bgcolor": "#E5ECF6",
          "polar": {
           "angularaxis": {
            "gridcolor": "white",
            "linecolor": "white",
            "ticks": ""
           },
           "bgcolor": "#E5ECF6",
           "radialaxis": {
            "gridcolor": "white",
            "linecolor": "white",
            "ticks": ""
           }
          },
          "scene": {
           "xaxis": {
            "backgroundcolor": "#E5ECF6",
            "gridcolor": "white",
            "gridwidth": 2,
            "linecolor": "white",
            "showbackground": true,
            "ticks": "",
            "zerolinecolor": "white"
           },
           "yaxis": {
            "backgroundcolor": "#E5ECF6",
            "gridcolor": "white",
            "gridwidth": 2,
            "linecolor": "white",
            "showbackground": true,
            "ticks": "",
            "zerolinecolor": "white"
           },
           "zaxis": {
            "backgroundcolor": "#E5ECF6",
            "gridcolor": "white",
            "gridwidth": 2,
            "linecolor": "white",
            "showbackground": true,
            "ticks": "",
            "zerolinecolor": "white"
           }
          },
          "shapedefaults": {
           "line": {
            "color": "#2a3f5f"
           }
          },
          "ternary": {
           "aaxis": {
            "gridcolor": "white",
            "linecolor": "white",
            "ticks": ""
           },
           "baxis": {
            "gridcolor": "white",
            "linecolor": "white",
            "ticks": ""
           },
           "bgcolor": "#E5ECF6",
           "caxis": {
            "gridcolor": "white",
            "linecolor": "white",
            "ticks": ""
           }
          },
          "title": {
           "x": 0.05
          },
          "xaxis": {
           "automargin": true,
           "gridcolor": "white",
           "linecolor": "white",
           "ticks": "",
           "title": {
            "standoff": 15
           },
           "zerolinecolor": "white",
           "zerolinewidth": 2
          },
          "yaxis": {
           "automargin": true,
           "gridcolor": "white",
           "linecolor": "white",
           "ticks": "",
           "title": {
            "standoff": 15
           },
           "zerolinecolor": "white",
           "zerolinewidth": 2
          }
         }
        }
       }
      },
      "text/html": [
       "<div>\n",
       "        \n",
       "        \n",
       "            <div id=\"1f72e5f6-d9d8-4b03-af5f-14ede4b2619c\" class=\"plotly-graph-div\" style=\"height:525px; width:100%;\"></div>\n",
       "            <script type=\"text/javascript\">\n",
       "                require([\"plotly\"], function(Plotly) {\n",
       "                    window.PLOTLYENV=window.PLOTLYENV || {};\n",
       "                    \n",
       "                if (document.getElementById(\"1f72e5f6-d9d8-4b03-af5f-14ede4b2619c\")) {\n",
       "                    Plotly.newPlot(\n",
       "                        '1f72e5f6-d9d8-4b03-af5f-14ede4b2619c',\n",
       "                        [{\"dimensions\": [{\"label\": \"sale_price_sqr_foot\", \"values\": [291.18294547229095, 267.9325826799483, 170.09866536400102, 347.3949194037114, 319.0276225530687, 418.1724927089675, 369.35933800413665, 569.3799679261333, 165.6457300650791, 456.9308221979013, 241.80455206485138, 403.1183126490986, 364.92833570851764, 401.7499665916537, 162.82121004772353, 209.0493266346945, 715.5864380979738, 551.8011188234774, 254.47377914469143, 272.28497956385485, 170.62491987132685, 275.05668560990915, 238.35002040677708, 199.70200378219917, 285.82235848868265, 275.76972957461044, 419.88781187646566, 320.79691049204627, 398.4588759923028, 374.05763601016855, 387.392839476922, 680.6087291389301, 489.80537777998506, 257.98799863500693, 262.87602564056425, 307.67747674427835, 381.13844514705266, 282.11967050133603, 432.19529211245555, 338.12619999607017, 368.31155203937294, 496.51601414694983, 326.01715041025074, 274.16674158669116, 434.25500394602585, 302.15611319728896, 491.45000385678617, 549.4179312485746, 362.34822391312133, 1037.0997886617895, 401.2959764896399, 542.5316819894505, 524.7935090952678, 331.55599614560697, 569.1934475267735, 108.0129268765048, 392.30076417058257, 215.56913431487555, 333.12677384193887, 272.5273101795261, 172.54056243085552, 471.9217320911283, 171.7723466866044, 261.6638003416518, 391.42644972996203, 520.7181675305429, 222.567848047696, 390.5956530284181, 145.85338027594094, 382.3522610640586, 234.28162351035442, 295.77937822922695, 413.16280403427527, 281.312904357283, 354.66555789282774, 457.41388429762526, 348.92970004124925, 392.35345097326814, 280.73063309393075, 356.7090091359044, 198.01587292452027, 283.17495073168755, 360.03727240448274, 302.60448945564127, 610.7666631577348, 330.10889435237306, 313.33845823084727, 303.5441997161898, 390.81846895621413, 414.67606477603755, 506.95217450146765, 293.4042461148187, 340.6425969783877, 373.97868706755236, 290.9210327099608, 346.96116001560216, 142.14256751724554, 241.94565649181578, 271.09013956932756, 297.2455578459466, 509.0214800287398, 289.60560009472283, 217.55878684527906, 466.6178976523653, 208.1679967483858, 503.13850456030497, 493.814917282618, 448.3201042149405, 388.6443367815385, 337.91413464365013, 437.16429949197664, 483.4057725178001, 284.56696642681646, 302.12325280969134, 384.23680203579306, 227.41898086494461, 320.0743330547439, 438.86054508174806, 183.09931693145703, 344.4909139677922, 165.79806239165433, 368.26656078838516, 338.60116351046344, 279.0301399218751, 334.4878725198492, 356.7948135908725, 644.8183066758803, 415.0903401095623, 366.9954275112727, 269.109528813633, 452.66002242984047, 524.8134180834782, 371.0302152741686, 286.3519820673892, 613.8430658201435, 434.63234651328025, 418.83037933269526, 306.3779578647354, 336.8259501844992, 373.4668636470579, 325.82892041816064, 383.15039609809617, 380.5214843069476, 545.9801982412763, 396.171112391617, 445.21509554245245, 421.1412447061912, 397.9391288956355, 756.1923725098497, 689.5233123659036, 320.9599230279341, 307.78311439850694, 428.0219127043747, 517.1734931165627, 390.3838567783597, 442.24265696115737, 221.881138746669, 312.83398436239065, 338.63301173022234, 413.05871935195154, 586.2182148097696, 288.0785187599688, 378.2738784387478, 515.9210732061051, 351.0432256921308, 466.6478402167172, 426.60859207171325, 414.16272789686775, 463.8098989043553, 465.80212163177373, 304.89964760284107, 445.1967876448791, 345.95804038831767, 325.79541506433713, 274.33846004864847, 491.8140030500954, 387.79414379681333, 453.34049829869934, 259.54716259308043, 630.8973025513741, 455.2180887853926, 343.0542609770136, 330.7364310191893, 453.7716045219721, 707.4028088888208, 223.11583290346024, 533.6884470076521, 361.45469198221224, 608.694967227678, 289.749665708438, 274.4579436322337, 458.7213317825408, 956.1841219171133, 478.4956365730093, 491.5892613631572, 377.51801557551835, 302.96737702840636, 435.5456667813491, 584.0737147409254, 568.6511487607912, 376.08359802951554, 548.0466890413603, 655.1980415945777, 703.0815676877947, null, 427.16626614177557, 591.4020223180053, 466.02648785310464, 615.0639297056517, 393.71733534550384, 483.16880334240136, 372.24198616911974, 332.40781536886453, 322.0822144332409, 503.89926133005366, 512.6307219919141, 364.62465302417013, 425.64225533080946, 235.99759251727426, 598.704795328917, 512.8402484358223, 506.22752218971993, 420.822184596571, 505.83481143735054, 653.3116166908643, 414.43569251368126, 1290.472106646641, 285.0095060630079, 293.2983722057751, 588.0747967826295, 217.0890689540353, 747.3335378171588, 753.0114133184368, 484.44355217067766, 620.4414065565543, 254.95866163273848, 544.5469286452765, 423.95272693478194, 456.2419957897522, 888.1821435177138, 691.8654114838455, 428.7265326799175, 630.3115352378672, 728.9797158498743, 358.30523872237734, 409.9438351783924, 694.4181461347432, 553.5627522522698, 567.3400104586143, 496.55100121228986, 428.9237926791115, 647.6496334575522, 464.1758436880091, 597.200528047448, 430.9396363161629, 470.85352986706454, 426.7863811847511, 432.9627229749631, 317.2219194303952, 716.3765095625198, 642.838478220973, 528.7265413888829, 1267.7662026328826, 220.11108719171108, 642.2195925518147, 300.1873092016618, 478.44335175268515, 654.801499892284, 379.92536172660726, 650.963515967709, 401.9350222176535, 490.36358286726374, 824.6586936349588, 371.9242451684328, 446.23924529045684, 773.4061347806703, 538.204698577284, 1045.2015459222662, 603.4509968798565, 714.2220737504065, 170.2925485152069, 524.6293121403909, 1119.8388773148026, 493.45560489574007, 708.1930316849231, 562.9112337982453, 558.2711194060469, 475.39318681250677, 282.02546830016496, 687.7829633004552, 429.4883174233179, 742.9797231632554, 479.9237488133093, 602.1158769435002, 465.68627450980387, 590.7928388746802, 458.0042993401075, 551.6956218496264, 473.1638149617127, 453.3793770708969, 1100.7911936704506, 598.6205414959003, 301.61864706270705, 485.8868855757771, 631.6456863280099, 790.1803690820187, 414.35585647200105, 694.358566653677, 453.4330812935196, 612.1061563311456, 772.7128362001238, 574.2740565313097, 536.5571018753241, null, 192.16524813774402, 435.9007753824155, 762.5272331154684, 493.61555763336935, 639.1464438694404, 576.4579094375945, 426.6849522707296, 918.2882682038704, 800.0388650775142, 1132.8373605554546, 571.7557085689908, 583.8486362312665, 529.847319131393, 544.6002639104154, 448.86919667679206, 890.9095931764135, 265.92982650327014, 564.6874764662283, 652.2879690318528, 438.4677874196749, 357.8946922463997, 910.1876901656897, 616.5723883169862, null, 605.3433249358948, 821.3009904764873, null, 793.2619915605263, 717.0825412171872, 439.7498835483721, 996.9902204858653, 417.33537892280015, 2258.702831998355, 677.8382318281795, 302.2218727063018, 481.46924427394237, 963.5226061641273, 340.98183523166995, 88.40151094606408, 986.8421052631579, 851.4014053492668, 661.0644257703083, 581.3708750724594, 1059.0656015492618, 566.7011760342162, 718.7768297452345, 1026.7911075237503, 534.2262501283425, null, 945.5665024630542, 531.8350322320708, 175.06606919629078, 571.5799833446893, 647.7704471840341, 518.1126504655916, 403.31113221139015, 445.9238282688497, 704.5664189758045, 636.4307703489127, 431.94460202359033, 1416.666666666667, 924.5691159025888, 879.0170132325142, 777.0083145338547, 799.4956512788842, 407.5533215595707, 40.7726253518439, 732.7206841423807, 1196.645436923929, 510.5769072143791, 996.3893635634033, 211.30136986006568, 1207.997484708169, 707.6516094320912, 1465.9685863874345, 1024.3398771365157, 531.1363737279744, 751.1737089201877, 903.0497705987848, 970.08547008547, 552.6025671312701, 328.31900668576884, 631.1954258724091]}, {\"label\": \"housing_units\", \"values\": [372560, 372560, 372560, 372560, 372560, 372560, 372560, 372560, 372560, 372560, 372560, 372560, 372560, 372560, 372560, 372560, 372560, 372560, 372560, 372560, 372560, 372560, 372560, 372560, 372560, 372560, 372560, 372560, 372560, 372560, 372560, 372560, 372560, 372560, 372560, 372560, 372560, 372560, 372560, 372560, 372560, 372560, 372560, 372560, 372560, 372560, 372560, 372560, 372560, 372560, 372560, 372560, 372560, 372560, 372560, 372560, 372560, 372560, 372560, 374507, 374507, 374507, 374507, 374507, 374507, 374507, 374507, 374507, 374507, 374507, 374507, 374507, 374507, 374507, 374507, 374507, 374507, 374507, 374507, 374507, 374507, 374507, 374507, 374507, 374507, 374507, 374507, 374507, 374507, 374507, 374507, 374507, 374507, 374507, 374507, 374507, 374507, 374507, 374507, 374507, 374507, 374507, 374507, 374507, 374507, 374507, 374507, 374507, 374507, 374507, 374507, 374507, 374507, 374507, 374507, 374507, 374507, 374507, 376454, 376454, 376454, 376454, 376454, 376454, 376454, 376454, 376454, 376454, 376454, 376454, 376454, 376454, 376454, 376454, 376454, 376454, 376454, 376454, 376454, 376454, 376454, 376454, 376454, 376454, 376454, 376454, 376454, 376454, 376454, 376454, 376454, 376454, 376454, 376454, 376454, 376454, 376454, 376454, 376454, 376454, 376454, 376454, 376454, 376454, 376454, 376454, 376454, 376454, 376454, 376454, 376454, 376454, 376454, 376454, 376454, 376454, 378401, 378401, 378401, 378401, 378401, 378401, 378401, 378401, 378401, 378401, 378401, 378401, 378401, 378401, 378401, 378401, 378401, 378401, 378401, 378401, 378401, 378401, 378401, 378401, 378401, 378401, 378401, 378401, 378401, 378401, 378401, 378401, 378401, 378401, 378401, 378401, 378401, 378401, 378401, 378401, 378401, 378401, 378401, 378401, 378401, 378401, 378401, 378401, 378401, 378401, 378401, 378401, 378401, 378401, 378401, 378401, 378401, 380348, 380348, 380348, 380348, 380348, 380348, 380348, 380348, 380348, 380348, 380348, 380348, 380348, 380348, 380348, 380348, 380348, 380348, 380348, 380348, 380348, 380348, 380348, 380348, 380348, 380348, 380348, 380348, 380348, 380348, 380348, 380348, 380348, 380348, 380348, 380348, 380348, 380348, 380348, 380348, 380348, 380348, 380348, 380348, 380348, 380348, 380348, 380348, 380348, 380348, 380348, 380348, 380348, 380348, 380348, 380348, 380348, 380348, 380348, 380348, 382295, 382295, 382295, 382295, 382295, 382295, 382295, 382295, 382295, 382295, 382295, 382295, 382295, 382295, 382295, 382295, 382295, 382295, 382295, 382295, 382295, 382295, 382295, 382295, 382295, 382295, 382295, 382295, 382295, 382295, 382295, 382295, 382295, 382295, 382295, 382295, 382295, 382295, 382295, 382295, 382295, 382295, 382295, 382295, 382295, 382295, 382295, 382295, 382295, 382295, 382295, 382295, 382295, 382295, 382295, 382295, 382295, 382295, 384242, 384242, 384242, 384242, 384242, 384242, 384242, 384242, 384242, 384242, 384242, 384242, 384242, 384242, 384242, 384242, 384242, 384242, 384242, 384242, 384242, 384242, 384242, 384242, 384242, 384242, 384242, 384242, 384242, 384242, 384242, 384242, 384242, 384242, 384242, 384242, 384242, 384242, 384242, 384242, 384242, 384242, 384242, 384242, 384242, 384242]}, {\"label\": \"gross_rent\", \"values\": [1239, 1239, 1239, 1239, 1239, 1239, 1239, 1239, 1239, 1239, 1239, 1239, 1239, 1239, 1239, 1239, 1239, 1239, 1239, 1239, 1239, 1239, 1239, 1239, 1239, 1239, 1239, 1239, 1239, 1239, 1239, 1239, 1239, 1239, 1239, 1239, 1239, 1239, 1239, 1239, 1239, 1239, 1239, 1239, 1239, 1239, 1239, 1239, 1239, 1239, 1239, 1239, 1239, 1239, 1239, 1239, 1239, 1239, 1239, 1530, 1530, 1530, 1530, 1530, 1530, 1530, 1530, 1530, 1530, 1530, 1530, 1530, 1530, 1530, 1530, 1530, 1530, 1530, 1530, 1530, 1530, 1530, 1530, 1530, 1530, 1530, 1530, 1530, 1530, 1530, 1530, 1530, 1530, 1530, 1530, 1530, 1530, 1530, 1530, 1530, 1530, 1530, 1530, 1530, 1530, 1530, 1530, 1530, 1530, 1530, 1530, 1530, 1530, 1530, 1530, 1530, 1530, 1530, 2324, 2324, 2324, 2324, 2324, 2324, 2324, 2324, 2324, 2324, 2324, 2324, 2324, 2324, 2324, 2324, 2324, 2324, 2324, 2324, 2324, 2324, 2324, 2324, 2324, 2324, 2324, 2324, 2324, 2324, 2324, 2324, 2324, 2324, 2324, 2324, 2324, 2324, 2324, 2324, 2324, 2324, 2324, 2324, 2324, 2324, 2324, 2324, 2324, 2324, 2324, 2324, 2324, 2324, 2324, 2324, 2324, 2324, 2971, 2971, 2971, 2971, 2971, 2971, 2971, 2971, 2971, 2971, 2971, 2971, 2971, 2971, 2971, 2971, 2971, 2971, 2971, 2971, 2971, 2971, 2971, 2971, 2971, 2971, 2971, 2971, 2971, 2971, 2971, 2971, 2971, 2971, 2971, 2971, 2971, 2971, 2971, 2971, 2971, 2971, 2971, 2971, 2971, 2971, 2971, 2971, 2971, 2971, 2971, 2971, 2971, 2971, 2971, 2971, 2971, 3528, 3528, 3528, 3528, 3528, 3528, 3528, 3528, 3528, 3528, 3528, 3528, 3528, 3528, 3528, 3528, 3528, 3528, 3528, 3528, 3528, 3528, 3528, 3528, 3528, 3528, 3528, 3528, 3528, 3528, 3528, 3528, 3528, 3528, 3528, 3528, 3528, 3528, 3528, 3528, 3528, 3528, 3528, 3528, 3528, 3528, 3528, 3528, 3528, 3528, 3528, 3528, 3528, 3528, 3528, 3528, 3528, 3528, 3528, 3528, 3739, 3739, 3739, 3739, 3739, 3739, 3739, 3739, 3739, 3739, 3739, 3739, 3739, 3739, 3739, 3739, 3739, 3739, 3739, 3739, 3739, 3739, 3739, 3739, 3739, 3739, 3739, 3739, 3739, 3739, 3739, 3739, 3739, 3739, 3739, 3739, 3739, 3739, 3739, 3739, 3739, 3739, 3739, 3739, 3739, 3739, 3739, 3739, 3739, 3739, 3739, 3739, 3739, 3739, 3739, 3739, 3739, 3739, 4390, 4390, 4390, 4390, 4390, 4390, 4390, 4390, 4390, 4390, 4390, 4390, 4390, 4390, 4390, 4390, 4390, 4390, 4390, 4390, 4390, 4390, 4390, 4390, 4390, 4390, 4390, 4390, 4390, 4390, 4390, 4390, 4390, 4390, 4390, 4390, 4390, 4390, 4390, 4390, 4390, 4390, 4390, 4390, 4390, 4390]}], \"domain\": {\"x\": [0.0, 1.0], \"y\": [0.0, 1.0]}, \"line\": {\"color\": [291.18294547229095, 267.9325826799483, 170.09866536400102, 347.3949194037114, 319.0276225530687, 418.1724927089675, 369.35933800413665, 569.3799679261333, 165.6457300650791, 456.9308221979013, 241.80455206485138, 403.1183126490986, 364.92833570851764, 401.7499665916537, 162.82121004772353, 209.0493266346945, 715.5864380979738, 551.8011188234774, 254.47377914469143, 272.28497956385485, 170.62491987132685, 275.05668560990915, 238.35002040677708, 199.70200378219917, 285.82235848868265, 275.76972957461044, 419.88781187646566, 320.79691049204627, 398.4588759923028, 374.05763601016855, 387.392839476922, 680.6087291389301, 489.80537777998506, 257.98799863500693, 262.87602564056425, 307.67747674427835, 381.13844514705266, 282.11967050133603, 432.19529211245555, 338.12619999607017, 368.31155203937294, 496.51601414694983, 326.01715041025074, 274.16674158669116, 434.25500394602585, 302.15611319728896, 491.45000385678617, 549.4179312485746, 362.34822391312133, 1037.0997886617895, 401.2959764896399, 542.5316819894505, 524.7935090952678, 331.55599614560697, 569.1934475267735, 108.0129268765048, 392.30076417058257, 215.56913431487555, 333.12677384193887, 272.5273101795261, 172.54056243085552, 471.9217320911283, 171.7723466866044, 261.6638003416518, 391.42644972996203, 520.7181675305429, 222.567848047696, 390.5956530284181, 145.85338027594094, 382.3522610640586, 234.28162351035442, 295.77937822922695, 413.16280403427527, 281.312904357283, 354.66555789282774, 457.41388429762526, 348.92970004124925, 392.35345097326814, 280.73063309393075, 356.7090091359044, 198.01587292452027, 283.17495073168755, 360.03727240448274, 302.60448945564127, 610.7666631577348, 330.10889435237306, 313.33845823084727, 303.5441997161898, 390.81846895621413, 414.67606477603755, 506.95217450146765, 293.4042461148187, 340.6425969783877, 373.97868706755236, 290.9210327099608, 346.96116001560216, 142.14256751724554, 241.94565649181578, 271.09013956932756, 297.2455578459466, 509.0214800287398, 289.60560009472283, 217.55878684527906, 466.6178976523653, 208.1679967483858, 503.13850456030497, 493.814917282618, 448.3201042149405, 388.6443367815385, 337.91413464365013, 437.16429949197664, 483.4057725178001, 284.56696642681646, 302.12325280969134, 384.23680203579306, 227.41898086494461, 320.0743330547439, 438.86054508174806, 183.09931693145703, 344.4909139677922, 165.79806239165433, 368.26656078838516, 338.60116351046344, 279.0301399218751, 334.4878725198492, 356.7948135908725, 644.8183066758803, 415.0903401095623, 366.9954275112727, 269.109528813633, 452.66002242984047, 524.8134180834782, 371.0302152741686, 286.3519820673892, 613.8430658201435, 434.63234651328025, 418.83037933269526, 306.3779578647354, 336.8259501844992, 373.4668636470579, 325.82892041816064, 383.15039609809617, 380.5214843069476, 545.9801982412763, 396.171112391617, 445.21509554245245, 421.1412447061912, 397.9391288956355, 756.1923725098497, 689.5233123659036, 320.9599230279341, 307.78311439850694, 428.0219127043747, 517.1734931165627, 390.3838567783597, 442.24265696115737, 221.881138746669, 312.83398436239065, 338.63301173022234, 413.05871935195154, 586.2182148097696, 288.0785187599688, 378.2738784387478, 515.9210732061051, 351.0432256921308, 466.6478402167172, 426.60859207171325, 414.16272789686775, 463.8098989043553, 465.80212163177373, 304.89964760284107, 445.1967876448791, 345.95804038831767, 325.79541506433713, 274.33846004864847, 491.8140030500954, 387.79414379681333, 453.34049829869934, 259.54716259308043, 630.8973025513741, 455.2180887853926, 343.0542609770136, 330.7364310191893, 453.7716045219721, 707.4028088888208, 223.11583290346024, 533.6884470076521, 361.45469198221224, 608.694967227678, 289.749665708438, 274.4579436322337, 458.7213317825408, 956.1841219171133, 478.4956365730093, 491.5892613631572, 377.51801557551835, 302.96737702840636, 435.5456667813491, 584.0737147409254, 568.6511487607912, 376.08359802951554, 548.0466890413603, 655.1980415945777, 703.0815676877947, null, 427.16626614177557, 591.4020223180053, 466.02648785310464, 615.0639297056517, 393.71733534550384, 483.16880334240136, 372.24198616911974, 332.40781536886453, 322.0822144332409, 503.89926133005366, 512.6307219919141, 364.62465302417013, 425.64225533080946, 235.99759251727426, 598.704795328917, 512.8402484358223, 506.22752218971993, 420.822184596571, 505.83481143735054, 653.3116166908643, 414.43569251368126, 1290.472106646641, 285.0095060630079, 293.2983722057751, 588.0747967826295, 217.0890689540353, 747.3335378171588, 753.0114133184368, 484.44355217067766, 620.4414065565543, 254.95866163273848, 544.5469286452765, 423.95272693478194, 456.2419957897522, 888.1821435177138, 691.8654114838455, 428.7265326799175, 630.3115352378672, 728.9797158498743, 358.30523872237734, 409.9438351783924, 694.4181461347432, 553.5627522522698, 567.3400104586143, 496.55100121228986, 428.9237926791115, 647.6496334575522, 464.1758436880091, 597.200528047448, 430.9396363161629, 470.85352986706454, 426.7863811847511, 432.9627229749631, 317.2219194303952, 716.3765095625198, 642.838478220973, 528.7265413888829, 1267.7662026328826, 220.11108719171108, 642.2195925518147, 300.1873092016618, 478.44335175268515, 654.801499892284, 379.92536172660726, 650.963515967709, 401.9350222176535, 490.36358286726374, 824.6586936349588, 371.9242451684328, 446.23924529045684, 773.4061347806703, 538.204698577284, 1045.2015459222662, 603.4509968798565, 714.2220737504065, 170.2925485152069, 524.6293121403909, 1119.8388773148026, 493.45560489574007, 708.1930316849231, 562.9112337982453, 558.2711194060469, 475.39318681250677, 282.02546830016496, 687.7829633004552, 429.4883174233179, 742.9797231632554, 479.9237488133093, 602.1158769435002, 465.68627450980387, 590.7928388746802, 458.0042993401075, 551.6956218496264, 473.1638149617127, 453.3793770708969, 1100.7911936704506, 598.6205414959003, 301.61864706270705, 485.8868855757771, 631.6456863280099, 790.1803690820187, 414.35585647200105, 694.358566653677, 453.4330812935196, 612.1061563311456, 772.7128362001238, 574.2740565313097, 536.5571018753241, null, 192.16524813774402, 435.9007753824155, 762.5272331154684, 493.61555763336935, 639.1464438694404, 576.4579094375945, 426.6849522707296, 918.2882682038704, 800.0388650775142, 1132.8373605554546, 571.7557085689908, 583.8486362312665, 529.847319131393, 544.6002639104154, 448.86919667679206, 890.9095931764135, 265.92982650327014, 564.6874764662283, 652.2879690318528, 438.4677874196749, 357.8946922463997, 910.1876901656897, 616.5723883169862, null, 605.3433249358948, 821.3009904764873, null, 793.2619915605263, 717.0825412171872, 439.7498835483721, 996.9902204858653, 417.33537892280015, 2258.702831998355, 677.8382318281795, 302.2218727063018, 481.46924427394237, 963.5226061641273, 340.98183523166995, 88.40151094606408, 986.8421052631579, 851.4014053492668, 661.0644257703083, 581.3708750724594, 1059.0656015492618, 566.7011760342162, 718.7768297452345, 1026.7911075237503, 534.2262501283425, null, 945.5665024630542, 531.8350322320708, 175.06606919629078, 571.5799833446893, 647.7704471840341, 518.1126504655916, 403.31113221139015, 445.9238282688497, 704.5664189758045, 636.4307703489127, 431.94460202359033, 1416.666666666667, 924.5691159025888, 879.0170132325142, 777.0083145338547, 799.4956512788842, 407.5533215595707, 40.7726253518439, 732.7206841423807, 1196.645436923929, 510.5769072143791, 996.3893635634033, 211.30136986006568, 1207.997484708169, 707.6516094320912, 1465.9685863874345, 1024.3398771365157, 531.1363737279744, 751.1737089201877, 903.0497705987848, 970.08547008547, 552.6025671312701, 328.31900668576884, 631.1954258724091], \"coloraxis\": \"coloraxis\"}, \"name\": \"\", \"type\": \"parcoords\"}],\n",
       "                        {\"coloraxis\": {\"colorbar\": {\"title\": {\"text\": \"sale_price_sqr_foot\"}}, \"colorscale\": [[0.0, \"#0d0887\"], [0.1111111111111111, \"#46039f\"], [0.2222222222222222, \"#7201a8\"], [0.3333333333333333, \"#9c179e\"], [0.4444444444444444, \"#bd3786\"], [0.5555555555555556, \"#d8576b\"], [0.6666666666666666, \"#ed7953\"], [0.7777777777777778, \"#fb9f3a\"], [0.8888888888888888, \"#fdca26\"], [1.0, \"#f0f921\"]]}, \"legend\": {\"tracegroupgap\": 0}, \"margin\": {\"t\": 60}, \"template\": {\"data\": {\"bar\": [{\"error_x\": {\"color\": \"#2a3f5f\"}, \"error_y\": {\"color\": \"#2a3f5f\"}, \"marker\": {\"line\": {\"color\": \"#E5ECF6\", \"width\": 0.5}}, \"type\": \"bar\"}], \"barpolar\": [{\"marker\": {\"line\": {\"color\": \"#E5ECF6\", \"width\": 0.5}}, \"type\": \"barpolar\"}], \"carpet\": [{\"aaxis\": {\"endlinecolor\": \"#2a3f5f\", \"gridcolor\": \"white\", \"linecolor\": \"white\", \"minorgridcolor\": \"white\", \"startlinecolor\": \"#2a3f5f\"}, \"baxis\": {\"endlinecolor\": \"#2a3f5f\", \"gridcolor\": \"white\", \"linecolor\": \"white\", \"minorgridcolor\": \"white\", \"startlinecolor\": \"#2a3f5f\"}, \"type\": \"carpet\"}], \"choropleth\": [{\"colorbar\": {\"outlinewidth\": 0, \"ticks\": \"\"}, \"type\": \"choropleth\"}], \"contour\": [{\"colorbar\": {\"outlinewidth\": 0, \"ticks\": \"\"}, \"colorscale\": [[0.0, \"#0d0887\"], [0.1111111111111111, \"#46039f\"], [0.2222222222222222, \"#7201a8\"], [0.3333333333333333, \"#9c179e\"], [0.4444444444444444, \"#bd3786\"], [0.5555555555555556, \"#d8576b\"], [0.6666666666666666, \"#ed7953\"], [0.7777777777777778, \"#fb9f3a\"], [0.8888888888888888, \"#fdca26\"], [1.0, \"#f0f921\"]], \"type\": \"contour\"}], \"contourcarpet\": [{\"colorbar\": {\"outlinewidth\": 0, \"ticks\": \"\"}, \"type\": \"contourcarpet\"}], \"heatmap\": [{\"colorbar\": {\"outlinewidth\": 0, \"ticks\": \"\"}, \"colorscale\": [[0.0, \"#0d0887\"], [0.1111111111111111, \"#46039f\"], [0.2222222222222222, \"#7201a8\"], [0.3333333333333333, \"#9c179e\"], [0.4444444444444444, \"#bd3786\"], [0.5555555555555556, \"#d8576b\"], [0.6666666666666666, \"#ed7953\"], [0.7777777777777778, \"#fb9f3a\"], [0.8888888888888888, \"#fdca26\"], [1.0, \"#f0f921\"]], \"type\": \"heatmap\"}], \"heatmapgl\": [{\"colorbar\": {\"outlinewidth\": 0, \"ticks\": \"\"}, \"colorscale\": [[0.0, \"#0d0887\"], [0.1111111111111111, \"#46039f\"], [0.2222222222222222, \"#7201a8\"], [0.3333333333333333, \"#9c179e\"], [0.4444444444444444, \"#bd3786\"], [0.5555555555555556, \"#d8576b\"], [0.6666666666666666, \"#ed7953\"], [0.7777777777777778, \"#fb9f3a\"], [0.8888888888888888, \"#fdca26\"], [1.0, \"#f0f921\"]], \"type\": \"heatmapgl\"}], \"histogram\": [{\"marker\": {\"colorbar\": {\"outlinewidth\": 0, \"ticks\": \"\"}}, \"type\": \"histogram\"}], \"histogram2d\": [{\"colorbar\": {\"outlinewidth\": 0, \"ticks\": \"\"}, \"colorscale\": [[0.0, \"#0d0887\"], [0.1111111111111111, \"#46039f\"], [0.2222222222222222, \"#7201a8\"], [0.3333333333333333, \"#9c179e\"], [0.4444444444444444, \"#bd3786\"], [0.5555555555555556, \"#d8576b\"], [0.6666666666666666, \"#ed7953\"], [0.7777777777777778, \"#fb9f3a\"], [0.8888888888888888, \"#fdca26\"], [1.0, \"#f0f921\"]], \"type\": \"histogram2d\"}], \"histogram2dcontour\": [{\"colorbar\": {\"outlinewidth\": 0, \"ticks\": \"\"}, \"colorscale\": [[0.0, \"#0d0887\"], [0.1111111111111111, \"#46039f\"], [0.2222222222222222, \"#7201a8\"], [0.3333333333333333, \"#9c179e\"], [0.4444444444444444, \"#bd3786\"], [0.5555555555555556, \"#d8576b\"], [0.6666666666666666, \"#ed7953\"], [0.7777777777777778, \"#fb9f3a\"], [0.8888888888888888, \"#fdca26\"], [1.0, \"#f0f921\"]], \"type\": \"histogram2dcontour\"}], \"mesh3d\": [{\"colorbar\": {\"outlinewidth\": 0, \"ticks\": \"\"}, \"type\": \"mesh3d\"}], \"parcoords\": [{\"line\": {\"colorbar\": {\"outlinewidth\": 0, \"ticks\": \"\"}}, \"type\": \"parcoords\"}], \"pie\": [{\"automargin\": true, \"type\": \"pie\"}], \"scatter\": [{\"marker\": {\"colorbar\": {\"outlinewidth\": 0, \"ticks\": \"\"}}, \"type\": \"scatter\"}], \"scatter3d\": [{\"line\": {\"colorbar\": {\"outlinewidth\": 0, \"ticks\": \"\"}}, \"marker\": {\"colorbar\": {\"outlinewidth\": 0, \"ticks\": \"\"}}, \"type\": \"scatter3d\"}], \"scattercarpet\": [{\"marker\": {\"colorbar\": {\"outlinewidth\": 0, \"ticks\": \"\"}}, \"type\": \"scattercarpet\"}], \"scattergeo\": [{\"marker\": {\"colorbar\": {\"outlinewidth\": 0, \"ticks\": \"\"}}, \"type\": \"scattergeo\"}], \"scattergl\": [{\"marker\": {\"colorbar\": {\"outlinewidth\": 0, \"ticks\": \"\"}}, \"type\": \"scattergl\"}], \"scattermapbox\": [{\"marker\": {\"colorbar\": {\"outlinewidth\": 0, \"ticks\": \"\"}}, \"type\": \"scattermapbox\"}], \"scatterpolar\": [{\"marker\": {\"colorbar\": {\"outlinewidth\": 0, \"ticks\": \"\"}}, \"type\": \"scatterpolar\"}], \"scatterpolargl\": [{\"marker\": {\"colorbar\": {\"outlinewidth\": 0, \"ticks\": \"\"}}, \"type\": \"scatterpolargl\"}], \"scatterternary\": [{\"marker\": {\"colorbar\": {\"outlinewidth\": 0, \"ticks\": \"\"}}, \"type\": \"scatterternary\"}], \"surface\": [{\"colorbar\": {\"outlinewidth\": 0, \"ticks\": \"\"}, \"colorscale\": [[0.0, \"#0d0887\"], [0.1111111111111111, \"#46039f\"], [0.2222222222222222, \"#7201a8\"], [0.3333333333333333, \"#9c179e\"], [0.4444444444444444, \"#bd3786\"], [0.5555555555555556, \"#d8576b\"], [0.6666666666666666, \"#ed7953\"], [0.7777777777777778, \"#fb9f3a\"], [0.8888888888888888, \"#fdca26\"], [1.0, \"#f0f921\"]], \"type\": \"surface\"}], \"table\": [{\"cells\": {\"fill\": {\"color\": \"#EBF0F8\"}, \"line\": {\"color\": \"white\"}}, \"header\": {\"fill\": {\"color\": \"#C8D4E3\"}, \"line\": {\"color\": \"white\"}}, \"type\": \"table\"}]}, \"layout\": {\"annotationdefaults\": {\"arrowcolor\": \"#2a3f5f\", \"arrowhead\": 0, \"arrowwidth\": 1}, \"coloraxis\": {\"colorbar\": {\"outlinewidth\": 0, \"ticks\": \"\"}}, \"colorscale\": {\"diverging\": [[0, \"#8e0152\"], [0.1, \"#c51b7d\"], [0.2, \"#de77ae\"], [0.3, \"#f1b6da\"], [0.4, \"#fde0ef\"], [0.5, \"#f7f7f7\"], [0.6, \"#e6f5d0\"], [0.7, \"#b8e186\"], [0.8, \"#7fbc41\"], [0.9, \"#4d9221\"], [1, \"#276419\"]], \"sequential\": [[0.0, \"#0d0887\"], [0.1111111111111111, \"#46039f\"], [0.2222222222222222, \"#7201a8\"], [0.3333333333333333, \"#9c179e\"], [0.4444444444444444, \"#bd3786\"], [0.5555555555555556, \"#d8576b\"], [0.6666666666666666, \"#ed7953\"], [0.7777777777777778, \"#fb9f3a\"], [0.8888888888888888, \"#fdca26\"], [1.0, \"#f0f921\"]], \"sequentialminus\": [[0.0, \"#0d0887\"], [0.1111111111111111, \"#46039f\"], [0.2222222222222222, \"#7201a8\"], [0.3333333333333333, \"#9c179e\"], [0.4444444444444444, \"#bd3786\"], [0.5555555555555556, \"#d8576b\"], [0.6666666666666666, \"#ed7953\"], [0.7777777777777778, \"#fb9f3a\"], [0.8888888888888888, \"#fdca26\"], [1.0, \"#f0f921\"]]}, \"colorway\": [\"#636efa\", \"#EF553B\", \"#00cc96\", \"#ab63fa\", \"#FFA15A\", \"#19d3f3\", \"#FF6692\", \"#B6E880\", \"#FF97FF\", \"#FECB52\"], \"font\": {\"color\": \"#2a3f5f\"}, \"geo\": {\"bgcolor\": \"white\", \"lakecolor\": \"white\", \"landcolor\": \"#E5ECF6\", \"showlakes\": true, \"showland\": true, \"subunitcolor\": \"white\"}, \"hoverlabel\": {\"align\": \"left\"}, \"hovermode\": \"closest\", \"mapbox\": {\"style\": \"light\"}, \"paper_bgcolor\": \"white\", \"plot_bgcolor\": \"#E5ECF6\", \"polar\": {\"angularaxis\": {\"gridcolor\": \"white\", \"linecolor\": \"white\", \"ticks\": \"\"}, \"bgcolor\": \"#E5ECF6\", \"radialaxis\": {\"gridcolor\": \"white\", \"linecolor\": \"white\", \"ticks\": \"\"}}, \"scene\": {\"xaxis\": {\"backgroundcolor\": \"#E5ECF6\", \"gridcolor\": \"white\", \"gridwidth\": 2, \"linecolor\": \"white\", \"showbackground\": true, \"ticks\": \"\", \"zerolinecolor\": \"white\"}, \"yaxis\": {\"backgroundcolor\": \"#E5ECF6\", \"gridcolor\": \"white\", \"gridwidth\": 2, \"linecolor\": \"white\", \"showbackground\": true, \"ticks\": \"\", \"zerolinecolor\": \"white\"}, \"zaxis\": {\"backgroundcolor\": \"#E5ECF6\", \"gridcolor\": \"white\", \"gridwidth\": 2, \"linecolor\": \"white\", \"showbackground\": true, \"ticks\": \"\", \"zerolinecolor\": \"white\"}}, \"shapedefaults\": {\"line\": {\"color\": \"#2a3f5f\"}}, \"ternary\": {\"aaxis\": {\"gridcolor\": \"white\", \"linecolor\": \"white\", \"ticks\": \"\"}, \"baxis\": {\"gridcolor\": \"white\", \"linecolor\": \"white\", \"ticks\": \"\"}, \"bgcolor\": \"#E5ECF6\", \"caxis\": {\"gridcolor\": \"white\", \"linecolor\": \"white\", \"ticks\": \"\"}}, \"title\": {\"x\": 0.05}, \"xaxis\": {\"automargin\": true, \"gridcolor\": \"white\", \"linecolor\": \"white\", \"ticks\": \"\", \"title\": {\"standoff\": 15}, \"zerolinecolor\": \"white\", \"zerolinewidth\": 2}, \"yaxis\": {\"automargin\": true, \"gridcolor\": \"white\", \"linecolor\": \"white\", \"ticks\": \"\", \"title\": {\"standoff\": 15}, \"zerolinecolor\": \"white\", \"zerolinewidth\": 2}}}},\n",
       "                        {\"responsive\": true}\n",
       "                    ).then(function(){\n",
       "                            \n",
       "var gd = document.getElementById('1f72e5f6-d9d8-4b03-af5f-14ede4b2619c');\n",
       "var x = new MutationObserver(function (mutations, observer) {{\n",
       "        var display = window.getComputedStyle(gd).display;\n",
       "        if (!display || display === 'none') {{\n",
       "            console.log([gd, 'removed!']);\n",
       "            Plotly.purge(gd);\n",
       "            observer.disconnect();\n",
       "        }}\n",
       "}});\n",
       "\n",
       "// Listen for the removal of the full notebook cells\n",
       "var notebookContainer = gd.closest('#notebook-container');\n",
       "if (notebookContainer) {{\n",
       "    x.observe(notebookContainer, {childList: true});\n",
       "}}\n",
       "\n",
       "// Listen for the clearing of the current output cell\n",
       "var outputEl = gd.closest('.output');\n",
       "if (outputEl) {{\n",
       "    x.observe(outputEl, {childList: true});\n",
       "}}\n",
       "\n",
       "                        })\n",
       "                };\n",
       "                });\n",
       "            </script>\n",
       "        </div>"
      ]
     },
     "metadata": {},
     "output_type": "display_data"
    }
   ],
   "source": [
    "# Parallel Coordinates Plot\n",
    "# YOUR CODE HERE!\n",
    "par_Coord_plot = px.parallel_coordinates(sfo_data_2, color='sale_price_sqr_foot')\n",
    "par_Coord_plot"
   ]
  },
  {
   "cell_type": "code",
   "execution_count": 114,
   "metadata": {},
   "outputs": [
    {
     "data": {
      "application/vnd.plotly.v1+json": {
       "config": {
        "plotlyServerURL": "https://plot.ly"
       },
       "data": [
        {
         "dimensions": [
          {
           "label": "year",
           "values": [
            2015,
            2016,
            2016,
            2013,
            2014,
            2016,
            2016,
            2015,
            2014,
            2015
           ]
          },
          {
           "label": "Neighborhood",
           "values": [
            "Union Square District",
            "Presidio Heights",
            "Merced Heights",
            "Union Square District",
            "Miraloma Park",
            "Parnassus/Ashbury Heights",
            "Outer Richmond ",
            "Marina",
            "South of Market",
            "Corona Heights"
           ]
          },
          {
           "label": " Average Sales Price Per Sq Foot",
           "values": [
            2258.7,
            1465.97,
            1416.67,
            1290.47,
            1267.77,
            1208,
            1196.65,
            1132.84,
            1119.84,
            1100.79
           ]
          },
          {
           "label": "Housing Units",
           "values": [
            382295,
            384242,
            384242,
            378401,
            380348,
            384242,
            384242,
            382295,
            380348,
            382295
           ]
          },
          {
           "label": "Gross Rent",
           "values": [
            3739,
            4390,
            4390,
            2971,
            3528,
            4390,
            4390,
            3739,
            3528,
            3739
           ]
          }
         ],
         "domain": {
          "x": [
           0,
           1
          ],
          "y": [
           0,
           1
          ]
         },
         "line": {
          "color": [
           2258.7,
           1465.97,
           1416.67,
           1290.47,
           1267.77,
           1208,
           1196.65,
           1132.84,
           1119.84,
           1100.79
          ],
          "coloraxis": "coloraxis"
         },
         "name": "",
         "type": "parcats"
        }
       ],
       "layout": {
        "coloraxis": {
         "colorbar": {
          "title": {
           "text": " Average Sales Price Per Sq Foot"
          }
         },
         "colorscale": [
          [
           0,
           "#000004"
          ],
          [
           0.1111111111111111,
           "#1b0c41"
          ],
          [
           0.2222222222222222,
           "#4a0c6b"
          ],
          [
           0.3333333333333333,
           "#781c6d"
          ],
          [
           0.4444444444444444,
           "#a52c60"
          ],
          [
           0.5555555555555556,
           "#cf4446"
          ],
          [
           0.6666666666666666,
           "#ed6925"
          ],
          [
           0.7777777777777778,
           "#fb9b06"
          ],
          [
           0.8888888888888888,
           "#f7d13d"
          ],
          [
           1,
           "#fcffa4"
          ]
         ]
        },
        "legend": {
         "tracegroupgap": 0
        },
        "margin": {
         "t": 60
        },
        "template": {
         "data": {
          "bar": [
           {
            "error_x": {
             "color": "#2a3f5f"
            },
            "error_y": {
             "color": "#2a3f5f"
            },
            "marker": {
             "line": {
              "color": "#E5ECF6",
              "width": 0.5
             }
            },
            "type": "bar"
           }
          ],
          "barpolar": [
           {
            "marker": {
             "line": {
              "color": "#E5ECF6",
              "width": 0.5
             }
            },
            "type": "barpolar"
           }
          ],
          "carpet": [
           {
            "aaxis": {
             "endlinecolor": "#2a3f5f",
             "gridcolor": "white",
             "linecolor": "white",
             "minorgridcolor": "white",
             "startlinecolor": "#2a3f5f"
            },
            "baxis": {
             "endlinecolor": "#2a3f5f",
             "gridcolor": "white",
             "linecolor": "white",
             "minorgridcolor": "white",
             "startlinecolor": "#2a3f5f"
            },
            "type": "carpet"
           }
          ],
          "choropleth": [
           {
            "colorbar": {
             "outlinewidth": 0,
             "ticks": ""
            },
            "type": "choropleth"
           }
          ],
          "contour": [
           {
            "colorbar": {
             "outlinewidth": 0,
             "ticks": ""
            },
            "colorscale": [
             [
              0,
              "#0d0887"
             ],
             [
              0.1111111111111111,
              "#46039f"
             ],
             [
              0.2222222222222222,
              "#7201a8"
             ],
             [
              0.3333333333333333,
              "#9c179e"
             ],
             [
              0.4444444444444444,
              "#bd3786"
             ],
             [
              0.5555555555555556,
              "#d8576b"
             ],
             [
              0.6666666666666666,
              "#ed7953"
             ],
             [
              0.7777777777777778,
              "#fb9f3a"
             ],
             [
              0.8888888888888888,
              "#fdca26"
             ],
             [
              1,
              "#f0f921"
             ]
            ],
            "type": "contour"
           }
          ],
          "contourcarpet": [
           {
            "colorbar": {
             "outlinewidth": 0,
             "ticks": ""
            },
            "type": "contourcarpet"
           }
          ],
          "heatmap": [
           {
            "colorbar": {
             "outlinewidth": 0,
             "ticks": ""
            },
            "colorscale": [
             [
              0,
              "#0d0887"
             ],
             [
              0.1111111111111111,
              "#46039f"
             ],
             [
              0.2222222222222222,
              "#7201a8"
             ],
             [
              0.3333333333333333,
              "#9c179e"
             ],
             [
              0.4444444444444444,
              "#bd3786"
             ],
             [
              0.5555555555555556,
              "#d8576b"
             ],
             [
              0.6666666666666666,
              "#ed7953"
             ],
             [
              0.7777777777777778,
              "#fb9f3a"
             ],
             [
              0.8888888888888888,
              "#fdca26"
             ],
             [
              1,
              "#f0f921"
             ]
            ],
            "type": "heatmap"
           }
          ],
          "heatmapgl": [
           {
            "colorbar": {
             "outlinewidth": 0,
             "ticks": ""
            },
            "colorscale": [
             [
              0,
              "#0d0887"
             ],
             [
              0.1111111111111111,
              "#46039f"
             ],
             [
              0.2222222222222222,
              "#7201a8"
             ],
             [
              0.3333333333333333,
              "#9c179e"
             ],
             [
              0.4444444444444444,
              "#bd3786"
             ],
             [
              0.5555555555555556,
              "#d8576b"
             ],
             [
              0.6666666666666666,
              "#ed7953"
             ],
             [
              0.7777777777777778,
              "#fb9f3a"
             ],
             [
              0.8888888888888888,
              "#fdca26"
             ],
             [
              1,
              "#f0f921"
             ]
            ],
            "type": "heatmapgl"
           }
          ],
          "histogram": [
           {
            "marker": {
             "colorbar": {
              "outlinewidth": 0,
              "ticks": ""
             }
            },
            "type": "histogram"
           }
          ],
          "histogram2d": [
           {
            "colorbar": {
             "outlinewidth": 0,
             "ticks": ""
            },
            "colorscale": [
             [
              0,
              "#0d0887"
             ],
             [
              0.1111111111111111,
              "#46039f"
             ],
             [
              0.2222222222222222,
              "#7201a8"
             ],
             [
              0.3333333333333333,
              "#9c179e"
             ],
             [
              0.4444444444444444,
              "#bd3786"
             ],
             [
              0.5555555555555556,
              "#d8576b"
             ],
             [
              0.6666666666666666,
              "#ed7953"
             ],
             [
              0.7777777777777778,
              "#fb9f3a"
             ],
             [
              0.8888888888888888,
              "#fdca26"
             ],
             [
              1,
              "#f0f921"
             ]
            ],
            "type": "histogram2d"
           }
          ],
          "histogram2dcontour": [
           {
            "colorbar": {
             "outlinewidth": 0,
             "ticks": ""
            },
            "colorscale": [
             [
              0,
              "#0d0887"
             ],
             [
              0.1111111111111111,
              "#46039f"
             ],
             [
              0.2222222222222222,
              "#7201a8"
             ],
             [
              0.3333333333333333,
              "#9c179e"
             ],
             [
              0.4444444444444444,
              "#bd3786"
             ],
             [
              0.5555555555555556,
              "#d8576b"
             ],
             [
              0.6666666666666666,
              "#ed7953"
             ],
             [
              0.7777777777777778,
              "#fb9f3a"
             ],
             [
              0.8888888888888888,
              "#fdca26"
             ],
             [
              1,
              "#f0f921"
             ]
            ],
            "type": "histogram2dcontour"
           }
          ],
          "mesh3d": [
           {
            "colorbar": {
             "outlinewidth": 0,
             "ticks": ""
            },
            "type": "mesh3d"
           }
          ],
          "parcoords": [
           {
            "line": {
             "colorbar": {
              "outlinewidth": 0,
              "ticks": ""
             }
            },
            "type": "parcoords"
           }
          ],
          "pie": [
           {
            "automargin": true,
            "type": "pie"
           }
          ],
          "scatter": [
           {
            "marker": {
             "colorbar": {
              "outlinewidth": 0,
              "ticks": ""
             }
            },
            "type": "scatter"
           }
          ],
          "scatter3d": [
           {
            "line": {
             "colorbar": {
              "outlinewidth": 0,
              "ticks": ""
             }
            },
            "marker": {
             "colorbar": {
              "outlinewidth": 0,
              "ticks": ""
             }
            },
            "type": "scatter3d"
           }
          ],
          "scattercarpet": [
           {
            "marker": {
             "colorbar": {
              "outlinewidth": 0,
              "ticks": ""
             }
            },
            "type": "scattercarpet"
           }
          ],
          "scattergeo": [
           {
            "marker": {
             "colorbar": {
              "outlinewidth": 0,
              "ticks": ""
             }
            },
            "type": "scattergeo"
           }
          ],
          "scattergl": [
           {
            "marker": {
             "colorbar": {
              "outlinewidth": 0,
              "ticks": ""
             }
            },
            "type": "scattergl"
           }
          ],
          "scattermapbox": [
           {
            "marker": {
             "colorbar": {
              "outlinewidth": 0,
              "ticks": ""
             }
            },
            "type": "scattermapbox"
           }
          ],
          "scatterpolar": [
           {
            "marker": {
             "colorbar": {
              "outlinewidth": 0,
              "ticks": ""
             }
            },
            "type": "scatterpolar"
           }
          ],
          "scatterpolargl": [
           {
            "marker": {
             "colorbar": {
              "outlinewidth": 0,
              "ticks": ""
             }
            },
            "type": "scatterpolargl"
           }
          ],
          "scatterternary": [
           {
            "marker": {
             "colorbar": {
              "outlinewidth": 0,
              "ticks": ""
             }
            },
            "type": "scatterternary"
           }
          ],
          "surface": [
           {
            "colorbar": {
             "outlinewidth": 0,
             "ticks": ""
            },
            "colorscale": [
             [
              0,
              "#0d0887"
             ],
             [
              0.1111111111111111,
              "#46039f"
             ],
             [
              0.2222222222222222,
              "#7201a8"
             ],
             [
              0.3333333333333333,
              "#9c179e"
             ],
             [
              0.4444444444444444,
              "#bd3786"
             ],
             [
              0.5555555555555556,
              "#d8576b"
             ],
             [
              0.6666666666666666,
              "#ed7953"
             ],
             [
              0.7777777777777778,
              "#fb9f3a"
             ],
             [
              0.8888888888888888,
              "#fdca26"
             ],
             [
              1,
              "#f0f921"
             ]
            ],
            "type": "surface"
           }
          ],
          "table": [
           {
            "cells": {
             "fill": {
              "color": "#EBF0F8"
             },
             "line": {
              "color": "white"
             }
            },
            "header": {
             "fill": {
              "color": "#C8D4E3"
             },
             "line": {
              "color": "white"
             }
            },
            "type": "table"
           }
          ]
         },
         "layout": {
          "annotationdefaults": {
           "arrowcolor": "#2a3f5f",
           "arrowhead": 0,
           "arrowwidth": 1
          },
          "coloraxis": {
           "colorbar": {
            "outlinewidth": 0,
            "ticks": ""
           }
          },
          "colorscale": {
           "diverging": [
            [
             0,
             "#8e0152"
            ],
            [
             0.1,
             "#c51b7d"
            ],
            [
             0.2,
             "#de77ae"
            ],
            [
             0.3,
             "#f1b6da"
            ],
            [
             0.4,
             "#fde0ef"
            ],
            [
             0.5,
             "#f7f7f7"
            ],
            [
             0.6,
             "#e6f5d0"
            ],
            [
             0.7,
             "#b8e186"
            ],
            [
             0.8,
             "#7fbc41"
            ],
            [
             0.9,
             "#4d9221"
            ],
            [
             1,
             "#276419"
            ]
           ],
           "sequential": [
            [
             0,
             "#0d0887"
            ],
            [
             0.1111111111111111,
             "#46039f"
            ],
            [
             0.2222222222222222,
             "#7201a8"
            ],
            [
             0.3333333333333333,
             "#9c179e"
            ],
            [
             0.4444444444444444,
             "#bd3786"
            ],
            [
             0.5555555555555556,
             "#d8576b"
            ],
            [
             0.6666666666666666,
             "#ed7953"
            ],
            [
             0.7777777777777778,
             "#fb9f3a"
            ],
            [
             0.8888888888888888,
             "#fdca26"
            ],
            [
             1,
             "#f0f921"
            ]
           ],
           "sequentialminus": [
            [
             0,
             "#0d0887"
            ],
            [
             0.1111111111111111,
             "#46039f"
            ],
            [
             0.2222222222222222,
             "#7201a8"
            ],
            [
             0.3333333333333333,
             "#9c179e"
            ],
            [
             0.4444444444444444,
             "#bd3786"
            ],
            [
             0.5555555555555556,
             "#d8576b"
            ],
            [
             0.6666666666666666,
             "#ed7953"
            ],
            [
             0.7777777777777778,
             "#fb9f3a"
            ],
            [
             0.8888888888888888,
             "#fdca26"
            ],
            [
             1,
             "#f0f921"
            ]
           ]
          },
          "colorway": [
           "#636efa",
           "#EF553B",
           "#00cc96",
           "#ab63fa",
           "#FFA15A",
           "#19d3f3",
           "#FF6692",
           "#B6E880",
           "#FF97FF",
           "#FECB52"
          ],
          "font": {
           "color": "#2a3f5f"
          },
          "geo": {
           "bgcolor": "white",
           "lakecolor": "white",
           "landcolor": "#E5ECF6",
           "showlakes": true,
           "showland": true,
           "subunitcolor": "white"
          },
          "hoverlabel": {
           "align": "left"
          },
          "hovermode": "closest",
          "mapbox": {
           "style": "light"
          },
          "paper_bgcolor": "white",
          "plot_bgcolor": "#E5ECF6",
          "polar": {
           "angularaxis": {
            "gridcolor": "white",
            "linecolor": "white",
            "ticks": ""
           },
           "bgcolor": "#E5ECF6",
           "radialaxis": {
            "gridcolor": "white",
            "linecolor": "white",
            "ticks": ""
           }
          },
          "scene": {
           "xaxis": {
            "backgroundcolor": "#E5ECF6",
            "gridcolor": "white",
            "gridwidth": 2,
            "linecolor": "white",
            "showbackground": true,
            "ticks": "",
            "zerolinecolor": "white"
           },
           "yaxis": {
            "backgroundcolor": "#E5ECF6",
            "gridcolor": "white",
            "gridwidth": 2,
            "linecolor": "white",
            "showbackground": true,
            "ticks": "",
            "zerolinecolor": "white"
           },
           "zaxis": {
            "backgroundcolor": "#E5ECF6",
            "gridcolor": "white",
            "gridwidth": 2,
            "linecolor": "white",
            "showbackground": true,
            "ticks": "",
            "zerolinecolor": "white"
           }
          },
          "shapedefaults": {
           "line": {
            "color": "#2a3f5f"
           }
          },
          "ternary": {
           "aaxis": {
            "gridcolor": "white",
            "linecolor": "white",
            "ticks": ""
           },
           "baxis": {
            "gridcolor": "white",
            "linecolor": "white",
            "ticks": ""
           },
           "bgcolor": "#E5ECF6",
           "caxis": {
            "gridcolor": "white",
            "linecolor": "white",
            "ticks": ""
           }
          },
          "title": {
           "x": 0.05
          },
          "xaxis": {
           "automargin": true,
           "gridcolor": "white",
           "linecolor": "white",
           "ticks": "",
           "title": {
            "standoff": 15
           },
           "zerolinecolor": "white",
           "zerolinewidth": 2
          },
          "yaxis": {
           "automargin": true,
           "gridcolor": "white",
           "linecolor": "white",
           "ticks": "",
           "title": {
            "standoff": 15
           },
           "zerolinecolor": "white",
           "zerolinewidth": 2
          }
         }
        }
       }
      },
      "text/html": [
       "<div>\n",
       "        \n",
       "        \n",
       "            <div id=\"1eac3825-c088-49f8-ab55-bfa2b54fe4cb\" class=\"plotly-graph-div\" style=\"height:525px; width:100%;\"></div>\n",
       "            <script type=\"text/javascript\">\n",
       "                require([\"plotly\"], function(Plotly) {\n",
       "                    window.PLOTLYENV=window.PLOTLYENV || {};\n",
       "                    \n",
       "                if (document.getElementById(\"1eac3825-c088-49f8-ab55-bfa2b54fe4cb\")) {\n",
       "                    Plotly.newPlot(\n",
       "                        '1eac3825-c088-49f8-ab55-bfa2b54fe4cb',\n",
       "                        [{\"dimensions\": [{\"label\": \"year\", \"values\": [2015, 2016, 2016, 2013, 2014, 2016, 2016, 2015, 2014, 2015]}, {\"label\": \"Neighborhood\", \"values\": [\"Union Square District\", \"Presidio Heights\", \"Merced Heights\", \"Union Square District\", \"Miraloma Park\", \"Parnassus/Ashbury Heights\", \"Outer Richmond \", \"Marina\", \"South of Market\", \"Corona Heights\"]}, {\"label\": \" Average Sales Price Per Sq Foot\", \"values\": [2258.7, 1465.97, 1416.67, 1290.47, 1267.77, 1208.0, 1196.65, 1132.84, 1119.84, 1100.79]}, {\"label\": \"Housing Units\", \"values\": [382295, 384242, 384242, 378401, 380348, 384242, 384242, 382295, 380348, 382295]}, {\"label\": \"Gross Rent\", \"values\": [3739, 4390, 4390, 2971, 3528, 4390, 4390, 3739, 3528, 3739]}], \"domain\": {\"x\": [0.0, 1.0], \"y\": [0.0, 1.0]}, \"line\": {\"color\": [2258.7, 1465.97, 1416.67, 1290.47, 1267.77, 1208.0, 1196.65, 1132.84, 1119.84, 1100.79], \"coloraxis\": \"coloraxis\"}, \"name\": \"\", \"type\": \"parcats\"}],\n",
       "                        {\"coloraxis\": {\"colorbar\": {\"title\": {\"text\": \" Average Sales Price Per Sq Foot\"}}, \"colorscale\": [[0.0, \"#000004\"], [0.1111111111111111, \"#1b0c41\"], [0.2222222222222222, \"#4a0c6b\"], [0.3333333333333333, \"#781c6d\"], [0.4444444444444444, \"#a52c60\"], [0.5555555555555556, \"#cf4446\"], [0.6666666666666666, \"#ed6925\"], [0.7777777777777778, \"#fb9b06\"], [0.8888888888888888, \"#f7d13d\"], [1.0, \"#fcffa4\"]]}, \"legend\": {\"tracegroupgap\": 0}, \"margin\": {\"t\": 60}, \"template\": {\"data\": {\"bar\": [{\"error_x\": {\"color\": \"#2a3f5f\"}, \"error_y\": {\"color\": \"#2a3f5f\"}, \"marker\": {\"line\": {\"color\": \"#E5ECF6\", \"width\": 0.5}}, \"type\": \"bar\"}], \"barpolar\": [{\"marker\": {\"line\": {\"color\": \"#E5ECF6\", \"width\": 0.5}}, \"type\": \"barpolar\"}], \"carpet\": [{\"aaxis\": {\"endlinecolor\": \"#2a3f5f\", \"gridcolor\": \"white\", \"linecolor\": \"white\", \"minorgridcolor\": \"white\", \"startlinecolor\": \"#2a3f5f\"}, \"baxis\": {\"endlinecolor\": \"#2a3f5f\", \"gridcolor\": \"white\", \"linecolor\": \"white\", \"minorgridcolor\": \"white\", \"startlinecolor\": \"#2a3f5f\"}, \"type\": \"carpet\"}], \"choropleth\": [{\"colorbar\": {\"outlinewidth\": 0, \"ticks\": \"\"}, \"type\": \"choropleth\"}], \"contour\": [{\"colorbar\": {\"outlinewidth\": 0, \"ticks\": \"\"}, \"colorscale\": [[0.0, \"#0d0887\"], [0.1111111111111111, \"#46039f\"], [0.2222222222222222, \"#7201a8\"], [0.3333333333333333, \"#9c179e\"], [0.4444444444444444, \"#bd3786\"], [0.5555555555555556, \"#d8576b\"], [0.6666666666666666, \"#ed7953\"], [0.7777777777777778, \"#fb9f3a\"], [0.8888888888888888, \"#fdca26\"], [1.0, \"#f0f921\"]], \"type\": \"contour\"}], \"contourcarpet\": [{\"colorbar\": {\"outlinewidth\": 0, \"ticks\": \"\"}, \"type\": \"contourcarpet\"}], \"heatmap\": [{\"colorbar\": {\"outlinewidth\": 0, \"ticks\": \"\"}, \"colorscale\": [[0.0, \"#0d0887\"], [0.1111111111111111, \"#46039f\"], [0.2222222222222222, \"#7201a8\"], [0.3333333333333333, \"#9c179e\"], [0.4444444444444444, \"#bd3786\"], [0.5555555555555556, \"#d8576b\"], [0.6666666666666666, \"#ed7953\"], [0.7777777777777778, \"#fb9f3a\"], [0.8888888888888888, \"#fdca26\"], [1.0, \"#f0f921\"]], \"type\": \"heatmap\"}], \"heatmapgl\": [{\"colorbar\": {\"outlinewidth\": 0, \"ticks\": \"\"}, \"colorscale\": [[0.0, \"#0d0887\"], [0.1111111111111111, \"#46039f\"], [0.2222222222222222, \"#7201a8\"], [0.3333333333333333, \"#9c179e\"], [0.4444444444444444, \"#bd3786\"], [0.5555555555555556, \"#d8576b\"], [0.6666666666666666, \"#ed7953\"], [0.7777777777777778, \"#fb9f3a\"], [0.8888888888888888, \"#fdca26\"], [1.0, \"#f0f921\"]], \"type\": \"heatmapgl\"}], \"histogram\": [{\"marker\": {\"colorbar\": {\"outlinewidth\": 0, \"ticks\": \"\"}}, \"type\": \"histogram\"}], \"histogram2d\": [{\"colorbar\": {\"outlinewidth\": 0, \"ticks\": \"\"}, \"colorscale\": [[0.0, \"#0d0887\"], [0.1111111111111111, \"#46039f\"], [0.2222222222222222, \"#7201a8\"], [0.3333333333333333, \"#9c179e\"], [0.4444444444444444, \"#bd3786\"], [0.5555555555555556, \"#d8576b\"], [0.6666666666666666, \"#ed7953\"], [0.7777777777777778, \"#fb9f3a\"], [0.8888888888888888, \"#fdca26\"], [1.0, \"#f0f921\"]], \"type\": \"histogram2d\"}], \"histogram2dcontour\": [{\"colorbar\": {\"outlinewidth\": 0, \"ticks\": \"\"}, \"colorscale\": [[0.0, \"#0d0887\"], [0.1111111111111111, \"#46039f\"], [0.2222222222222222, \"#7201a8\"], [0.3333333333333333, \"#9c179e\"], [0.4444444444444444, \"#bd3786\"], [0.5555555555555556, \"#d8576b\"], [0.6666666666666666, \"#ed7953\"], [0.7777777777777778, \"#fb9f3a\"], [0.8888888888888888, \"#fdca26\"], [1.0, \"#f0f921\"]], \"type\": \"histogram2dcontour\"}], \"mesh3d\": [{\"colorbar\": {\"outlinewidth\": 0, \"ticks\": \"\"}, \"type\": \"mesh3d\"}], \"parcoords\": [{\"line\": {\"colorbar\": {\"outlinewidth\": 0, \"ticks\": \"\"}}, \"type\": \"parcoords\"}], \"pie\": [{\"automargin\": true, \"type\": \"pie\"}], \"scatter\": [{\"marker\": {\"colorbar\": {\"outlinewidth\": 0, \"ticks\": \"\"}}, \"type\": \"scatter\"}], \"scatter3d\": [{\"line\": {\"colorbar\": {\"outlinewidth\": 0, \"ticks\": \"\"}}, \"marker\": {\"colorbar\": {\"outlinewidth\": 0, \"ticks\": \"\"}}, \"type\": \"scatter3d\"}], \"scattercarpet\": [{\"marker\": {\"colorbar\": {\"outlinewidth\": 0, \"ticks\": \"\"}}, \"type\": \"scattercarpet\"}], \"scattergeo\": [{\"marker\": {\"colorbar\": {\"outlinewidth\": 0, \"ticks\": \"\"}}, \"type\": \"scattergeo\"}], \"scattergl\": [{\"marker\": {\"colorbar\": {\"outlinewidth\": 0, \"ticks\": \"\"}}, \"type\": \"scattergl\"}], \"scattermapbox\": [{\"marker\": {\"colorbar\": {\"outlinewidth\": 0, \"ticks\": \"\"}}, \"type\": \"scattermapbox\"}], \"scatterpolar\": [{\"marker\": {\"colorbar\": {\"outlinewidth\": 0, \"ticks\": \"\"}}, \"type\": \"scatterpolar\"}], \"scatterpolargl\": [{\"marker\": {\"colorbar\": {\"outlinewidth\": 0, \"ticks\": \"\"}}, \"type\": \"scatterpolargl\"}], \"scatterternary\": [{\"marker\": {\"colorbar\": {\"outlinewidth\": 0, \"ticks\": \"\"}}, \"type\": \"scatterternary\"}], \"surface\": [{\"colorbar\": {\"outlinewidth\": 0, \"ticks\": \"\"}, \"colorscale\": [[0.0, \"#0d0887\"], [0.1111111111111111, \"#46039f\"], [0.2222222222222222, \"#7201a8\"], [0.3333333333333333, \"#9c179e\"], [0.4444444444444444, \"#bd3786\"], [0.5555555555555556, \"#d8576b\"], [0.6666666666666666, \"#ed7953\"], [0.7777777777777778, \"#fb9f3a\"], [0.8888888888888888, \"#fdca26\"], [1.0, \"#f0f921\"]], \"type\": \"surface\"}], \"table\": [{\"cells\": {\"fill\": {\"color\": \"#EBF0F8\"}, \"line\": {\"color\": \"white\"}}, \"header\": {\"fill\": {\"color\": \"#C8D4E3\"}, \"line\": {\"color\": \"white\"}}, \"type\": \"table\"}]}, \"layout\": {\"annotationdefaults\": {\"arrowcolor\": \"#2a3f5f\", \"arrowhead\": 0, \"arrowwidth\": 1}, \"coloraxis\": {\"colorbar\": {\"outlinewidth\": 0, \"ticks\": \"\"}}, \"colorscale\": {\"diverging\": [[0, \"#8e0152\"], [0.1, \"#c51b7d\"], [0.2, \"#de77ae\"], [0.3, \"#f1b6da\"], [0.4, \"#fde0ef\"], [0.5, \"#f7f7f7\"], [0.6, \"#e6f5d0\"], [0.7, \"#b8e186\"], [0.8, \"#7fbc41\"], [0.9, \"#4d9221\"], [1, \"#276419\"]], \"sequential\": [[0.0, \"#0d0887\"], [0.1111111111111111, \"#46039f\"], [0.2222222222222222, \"#7201a8\"], [0.3333333333333333, \"#9c179e\"], [0.4444444444444444, \"#bd3786\"], [0.5555555555555556, \"#d8576b\"], [0.6666666666666666, \"#ed7953\"], [0.7777777777777778, \"#fb9f3a\"], [0.8888888888888888, \"#fdca26\"], [1.0, \"#f0f921\"]], \"sequentialminus\": [[0.0, \"#0d0887\"], [0.1111111111111111, \"#46039f\"], [0.2222222222222222, \"#7201a8\"], [0.3333333333333333, \"#9c179e\"], [0.4444444444444444, \"#bd3786\"], [0.5555555555555556, \"#d8576b\"], [0.6666666666666666, \"#ed7953\"], [0.7777777777777778, \"#fb9f3a\"], [0.8888888888888888, \"#fdca26\"], [1.0, \"#f0f921\"]]}, \"colorway\": [\"#636efa\", \"#EF553B\", \"#00cc96\", \"#ab63fa\", \"#FFA15A\", \"#19d3f3\", \"#FF6692\", \"#B6E880\", \"#FF97FF\", \"#FECB52\"], \"font\": {\"color\": \"#2a3f5f\"}, \"geo\": {\"bgcolor\": \"white\", \"lakecolor\": \"white\", \"landcolor\": \"#E5ECF6\", \"showlakes\": true, \"showland\": true, \"subunitcolor\": \"white\"}, \"hoverlabel\": {\"align\": \"left\"}, \"hovermode\": \"closest\", \"mapbox\": {\"style\": \"light\"}, \"paper_bgcolor\": \"white\", \"plot_bgcolor\": \"#E5ECF6\", \"polar\": {\"angularaxis\": {\"gridcolor\": \"white\", \"linecolor\": \"white\", \"ticks\": \"\"}, \"bgcolor\": \"#E5ECF6\", \"radialaxis\": {\"gridcolor\": \"white\", \"linecolor\": \"white\", \"ticks\": \"\"}}, \"scene\": {\"xaxis\": {\"backgroundcolor\": \"#E5ECF6\", \"gridcolor\": \"white\", \"gridwidth\": 2, \"linecolor\": \"white\", \"showbackground\": true, \"ticks\": \"\", \"zerolinecolor\": \"white\"}, \"yaxis\": {\"backgroundcolor\": \"#E5ECF6\", \"gridcolor\": \"white\", \"gridwidth\": 2, \"linecolor\": \"white\", \"showbackground\": true, \"ticks\": \"\", \"zerolinecolor\": \"white\"}, \"zaxis\": {\"backgroundcolor\": \"#E5ECF6\", \"gridcolor\": \"white\", \"gridwidth\": 2, \"linecolor\": \"white\", \"showbackground\": true, \"ticks\": \"\", \"zerolinecolor\": \"white\"}}, \"shapedefaults\": {\"line\": {\"color\": \"#2a3f5f\"}}, \"ternary\": {\"aaxis\": {\"gridcolor\": \"white\", \"linecolor\": \"white\", \"ticks\": \"\"}, \"baxis\": {\"gridcolor\": \"white\", \"linecolor\": \"white\", \"ticks\": \"\"}, \"bgcolor\": \"#E5ECF6\", \"caxis\": {\"gridcolor\": \"white\", \"linecolor\": \"white\", \"ticks\": \"\"}}, \"title\": {\"x\": 0.05}, \"xaxis\": {\"automargin\": true, \"gridcolor\": \"white\", \"linecolor\": \"white\", \"ticks\": \"\", \"title\": {\"standoff\": 15}, \"zerolinecolor\": \"white\", \"zerolinewidth\": 2}, \"yaxis\": {\"automargin\": true, \"gridcolor\": \"white\", \"linecolor\": \"white\", \"ticks\": \"\", \"title\": {\"standoff\": 15}, \"zerolinecolor\": \"white\", \"zerolinewidth\": 2}}}},\n",
       "                        {\"responsive\": true}\n",
       "                    ).then(function(){\n",
       "                            \n",
       "var gd = document.getElementById('1eac3825-c088-49f8-ab55-bfa2b54fe4cb');\n",
       "var x = new MutationObserver(function (mutations, observer) {{\n",
       "        var display = window.getComputedStyle(gd).display;\n",
       "        if (!display || display === 'none') {{\n",
       "            console.log([gd, 'removed!']);\n",
       "            Plotly.purge(gd);\n",
       "            observer.disconnect();\n",
       "        }}\n",
       "}});\n",
       "\n",
       "// Listen for the removal of the full notebook cells\n",
       "var notebookContainer = gd.closest('#notebook-container');\n",
       "if (notebookContainer) {{\n",
       "    x.observe(notebookContainer, {childList: true});\n",
       "}}\n",
       "\n",
       "// Listen for the clearing of the current output cell\n",
       "var outputEl = gd.closest('.output');\n",
       "if (outputEl) {{\n",
       "    x.observe(outputEl, {childList: true});\n",
       "}}\n",
       "\n",
       "                        })\n",
       "                };\n",
       "                });\n",
       "            </script>\n",
       "        </div>"
      ]
     },
     "metadata": {},
     "output_type": "display_data"
    }
   ],
   "source": [
    "# Parallel Categories Plot\n",
    "# YOUR CODE HERE!\n",
    "par_Cat_plot = px.parallel_categories(\n",
    "    top_10, color=\"sale_price_sqr_foot\",\n",
    "    color_continuous_scale=px.colors.sequential.Inferno,\n",
    "    labels={\"neighborhood\": \"Neighborhood\", \"sale_price_sqr_foot\": \" Average Sales Price Per Sq Foot\",\n",
    "            \"gross_rent\": \"Gross Rent\", \"housing_units\": \"Housing Units\"})\n",
    "par_Cat_plot "
   ]
  },
  {
   "cell_type": "markdown",
   "metadata": {},
   "source": [
    "- - - "
   ]
  },
  {
   "cell_type": "markdown",
   "metadata": {},
   "source": [
    "## Neighborhood Map\n",
    "\n",
    "In this section, you will read in neighboor location data and build an interactive map with the average prices per neighborhood. Use a scatter_mapbox from plotly express to create the visualization. Remember, you will need your mapbox api key for this."
   ]
  },
  {
   "cell_type": "markdown",
   "metadata": {},
   "source": [
    "### Load Location Data"
   ]
  },
  {
   "cell_type": "code",
   "execution_count": 115,
   "metadata": {},
   "outputs": [
    {
     "data": {
      "text/html": [
       "<div>\n",
       "<style scoped>\n",
       "    .dataframe tbody tr th:only-of-type {\n",
       "        vertical-align: middle;\n",
       "    }\n",
       "\n",
       "    .dataframe tbody tr th {\n",
       "        vertical-align: top;\n",
       "    }\n",
       "\n",
       "    .dataframe thead th {\n",
       "        text-align: right;\n",
       "    }\n",
       "</style>\n",
       "<table border=\"1\" class=\"dataframe\">\n",
       "  <thead>\n",
       "    <tr style=\"text-align: right;\">\n",
       "      <th></th>\n",
       "      <th>neighborhood</th>\n",
       "      <th>Lat</th>\n",
       "      <th>Lon</th>\n",
       "    </tr>\n",
       "  </thead>\n",
       "  <tbody>\n",
       "    <tr>\n",
       "      <td>0</td>\n",
       "      <td>Alamo Square</td>\n",
       "      <td>37.791012</td>\n",
       "      <td>-122.402100</td>\n",
       "    </tr>\n",
       "    <tr>\n",
       "      <td>1</td>\n",
       "      <td>Anza Vista</td>\n",
       "      <td>37.779598</td>\n",
       "      <td>-122.443451</td>\n",
       "    </tr>\n",
       "    <tr>\n",
       "      <td>2</td>\n",
       "      <td>Bayview</td>\n",
       "      <td>37.734670</td>\n",
       "      <td>-122.401060</td>\n",
       "    </tr>\n",
       "    <tr>\n",
       "      <td>3</td>\n",
       "      <td>Bayview Heights</td>\n",
       "      <td>37.728740</td>\n",
       "      <td>-122.410980</td>\n",
       "    </tr>\n",
       "    <tr>\n",
       "      <td>4</td>\n",
       "      <td>Bernal Heights</td>\n",
       "      <td>37.728630</td>\n",
       "      <td>-122.443050</td>\n",
       "    </tr>\n",
       "  </tbody>\n",
       "</table>\n",
       "</div>"
      ],
      "text/plain": [
       "      neighborhood        Lat         Lon\n",
       "0     Alamo Square  37.791012 -122.402100\n",
       "1       Anza Vista  37.779598 -122.443451\n",
       "2          Bayview  37.734670 -122.401060\n",
       "3  Bayview Heights  37.728740 -122.410980\n",
       "4   Bernal Heights  37.728630 -122.443050"
      ]
     },
     "execution_count": 115,
     "metadata": {},
     "output_type": "execute_result"
    }
   ],
   "source": [
    "# Load neighborhoods coordinates data\n",
    "file_path = Path(\"Data/neighborhoods_coordinates.csv\")\n",
    "df_neighborhood_locations = pd.read_csv(file_path)\n",
    "df_neighborhood_locations.rename(columns = {\"Neighborhood\":\"neighborhood\"}, inplace = True)\n",
    "df_neighborhood_locations.head()"
   ]
  },
  {
   "cell_type": "markdown",
   "metadata": {},
   "source": [
    "### Data Preparation\n",
    "\n",
    "You will need to join the location data with the mean prices per neighborhood\n",
    "\n",
    "1. Calculate the mean values for each neighborhood\n",
    "2. Join the average values with the neighborhood locations"
   ]
  },
  {
   "cell_type": "code",
   "execution_count": 116,
   "metadata": {},
   "outputs": [
    {
     "data": {
      "text/html": [
       "<div>\n",
       "<style scoped>\n",
       "    .dataframe tbody tr th:only-of-type {\n",
       "        vertical-align: middle;\n",
       "    }\n",
       "\n",
       "    .dataframe tbody tr th {\n",
       "        vertical-align: top;\n",
       "    }\n",
       "\n",
       "    .dataframe thead th {\n",
       "        text-align: right;\n",
       "    }\n",
       "</style>\n",
       "<table border=\"1\" class=\"dataframe\">\n",
       "  <thead>\n",
       "    <tr style=\"text-align: right;\">\n",
       "      <th></th>\n",
       "      <th>year</th>\n",
       "      <th>neighborhood</th>\n",
       "      <th>sale_price_sqr_foot</th>\n",
       "      <th>housing_units</th>\n",
       "      <th>gross_rent</th>\n",
       "    </tr>\n",
       "  </thead>\n",
       "  <tbody>\n",
       "    <tr>\n",
       "      <td>0</td>\n",
       "      <td>2010</td>\n",
       "      <td>Alamo Square</td>\n",
       "      <td>291.182945</td>\n",
       "      <td>372560</td>\n",
       "      <td>1239</td>\n",
       "    </tr>\n",
       "    <tr>\n",
       "      <td>1</td>\n",
       "      <td>2010</td>\n",
       "      <td>Anza Vista</td>\n",
       "      <td>267.932583</td>\n",
       "      <td>372560</td>\n",
       "      <td>1239</td>\n",
       "    </tr>\n",
       "    <tr>\n",
       "      <td>2</td>\n",
       "      <td>2010</td>\n",
       "      <td>Bayview</td>\n",
       "      <td>170.098665</td>\n",
       "      <td>372560</td>\n",
       "      <td>1239</td>\n",
       "    </tr>\n",
       "    <tr>\n",
       "      <td>3</td>\n",
       "      <td>2010</td>\n",
       "      <td>Buena Vista Park</td>\n",
       "      <td>347.394919</td>\n",
       "      <td>372560</td>\n",
       "      <td>1239</td>\n",
       "    </tr>\n",
       "    <tr>\n",
       "      <td>4</td>\n",
       "      <td>2010</td>\n",
       "      <td>Central Richmond</td>\n",
       "      <td>319.027623</td>\n",
       "      <td>372560</td>\n",
       "      <td>1239</td>\n",
       "    </tr>\n",
       "  </tbody>\n",
       "</table>\n",
       "</div>"
      ],
      "text/plain": [
       "   year      neighborhood  sale_price_sqr_foot  housing_units  gross_rent\n",
       "0  2010      Alamo Square           291.182945         372560        1239\n",
       "1  2010        Anza Vista           267.932583         372560        1239\n",
       "2  2010           Bayview           170.098665         372560        1239\n",
       "3  2010  Buena Vista Park           347.394919         372560        1239\n",
       "4  2010  Central Richmond           319.027623         372560        1239"
      ]
     },
     "execution_count": 116,
     "metadata": {},
     "output_type": "execute_result"
    }
   ],
   "source": [
    "# Calculate the mean values for each neighborhood\n",
    "# YOUR CODE HERE!\n",
    "# index has to be reset in order to concatenate the dataframes\n",
    "sfo_data = sfo_data.reset_index()\n",
    "sfo_data.head()"
   ]
  },
  {
   "cell_type": "code",
   "execution_count": 117,
   "metadata": {},
   "outputs": [
    {
     "data": {
      "text/html": [
       "<div>\n",
       "<style scoped>\n",
       "    .dataframe tbody tr th:only-of-type {\n",
       "        vertical-align: middle;\n",
       "    }\n",
       "\n",
       "    .dataframe tbody tr th {\n",
       "        vertical-align: top;\n",
       "    }\n",
       "\n",
       "    .dataframe thead th {\n",
       "        text-align: right;\n",
       "    }\n",
       "</style>\n",
       "<table border=\"1\" class=\"dataframe\">\n",
       "  <thead>\n",
       "    <tr style=\"text-align: right;\">\n",
       "      <th></th>\n",
       "      <th>year</th>\n",
       "      <th>neighborhood</th>\n",
       "      <th>sale_price_sqr_foot</th>\n",
       "      <th>housing_units</th>\n",
       "      <th>gross_rent</th>\n",
       "      <th>neighborhood</th>\n",
       "      <th>Lat</th>\n",
       "      <th>Lon</th>\n",
       "    </tr>\n",
       "  </thead>\n",
       "  <tbody>\n",
       "    <tr>\n",
       "      <td>0</td>\n",
       "      <td>2010</td>\n",
       "      <td>Alamo Square</td>\n",
       "      <td>291.182945</td>\n",
       "      <td>372560</td>\n",
       "      <td>1239</td>\n",
       "      <td>Alamo Square</td>\n",
       "      <td>37.791012</td>\n",
       "      <td>-122.402100</td>\n",
       "    </tr>\n",
       "    <tr>\n",
       "      <td>1</td>\n",
       "      <td>2010</td>\n",
       "      <td>Anza Vista</td>\n",
       "      <td>267.932583</td>\n",
       "      <td>372560</td>\n",
       "      <td>1239</td>\n",
       "      <td>Anza Vista</td>\n",
       "      <td>37.779598</td>\n",
       "      <td>-122.443451</td>\n",
       "    </tr>\n",
       "    <tr>\n",
       "      <td>2</td>\n",
       "      <td>2010</td>\n",
       "      <td>Bayview</td>\n",
       "      <td>170.098665</td>\n",
       "      <td>372560</td>\n",
       "      <td>1239</td>\n",
       "      <td>Bayview</td>\n",
       "      <td>37.734670</td>\n",
       "      <td>-122.401060</td>\n",
       "    </tr>\n",
       "    <tr>\n",
       "      <td>3</td>\n",
       "      <td>2010</td>\n",
       "      <td>Buena Vista Park</td>\n",
       "      <td>347.394919</td>\n",
       "      <td>372560</td>\n",
       "      <td>1239</td>\n",
       "      <td>Bayview Heights</td>\n",
       "      <td>37.728740</td>\n",
       "      <td>-122.410980</td>\n",
       "    </tr>\n",
       "    <tr>\n",
       "      <td>4</td>\n",
       "      <td>2010</td>\n",
       "      <td>Central Richmond</td>\n",
       "      <td>319.027623</td>\n",
       "      <td>372560</td>\n",
       "      <td>1239</td>\n",
       "      <td>Bernal Heights</td>\n",
       "      <td>37.728630</td>\n",
       "      <td>-122.443050</td>\n",
       "    </tr>\n",
       "    <tr>\n",
       "      <td>...</td>\n",
       "      <td>...</td>\n",
       "      <td>...</td>\n",
       "      <td>...</td>\n",
       "      <td>...</td>\n",
       "      <td>...</td>\n",
       "      <td>...</td>\n",
       "      <td>...</td>\n",
       "      <td>...</td>\n",
       "    </tr>\n",
       "    <tr>\n",
       "      <td>68</td>\n",
       "      <td>2011</td>\n",
       "      <td>Croker Amazon</td>\n",
       "      <td>145.853380</td>\n",
       "      <td>374507</td>\n",
       "      <td>1530</td>\n",
       "      <td>West Portal</td>\n",
       "      <td>37.740260</td>\n",
       "      <td>-122.463880</td>\n",
       "    </tr>\n",
       "    <tr>\n",
       "      <td>69</td>\n",
       "      <td>2011</td>\n",
       "      <td>Diamond Heights</td>\n",
       "      <td>382.352261</td>\n",
       "      <td>374507</td>\n",
       "      <td>1530</td>\n",
       "      <td>Western Addition</td>\n",
       "      <td>37.792980</td>\n",
       "      <td>-122.435790</td>\n",
       "    </tr>\n",
       "    <tr>\n",
       "      <td>70</td>\n",
       "      <td>2011</td>\n",
       "      <td>Downtown</td>\n",
       "      <td>234.281624</td>\n",
       "      <td>374507</td>\n",
       "      <td>1530</td>\n",
       "      <td>Westwood Highlands</td>\n",
       "      <td>37.734700</td>\n",
       "      <td>-122.456854</td>\n",
       "    </tr>\n",
       "    <tr>\n",
       "      <td>71</td>\n",
       "      <td>2011</td>\n",
       "      <td>Duboce Triangle</td>\n",
       "      <td>295.779378</td>\n",
       "      <td>374507</td>\n",
       "      <td>1530</td>\n",
       "      <td>Westwood Park</td>\n",
       "      <td>37.734150</td>\n",
       "      <td>-122.457000</td>\n",
       "    </tr>\n",
       "    <tr>\n",
       "      <td>72</td>\n",
       "      <td>2011</td>\n",
       "      <td>Eureka Valley/Dolores Heights</td>\n",
       "      <td>413.162804</td>\n",
       "      <td>374507</td>\n",
       "      <td>1530</td>\n",
       "      <td>Yerba Buena</td>\n",
       "      <td>37.792980</td>\n",
       "      <td>-122.396360</td>\n",
       "    </tr>\n",
       "  </tbody>\n",
       "</table>\n",
       "<p>73 rows × 8 columns</p>\n",
       "</div>"
      ],
      "text/plain": [
       "    year                   neighborhood  sale_price_sqr_foot  housing_units  \\\n",
       "0   2010                   Alamo Square           291.182945         372560   \n",
       "1   2010                     Anza Vista           267.932583         372560   \n",
       "2   2010                        Bayview           170.098665         372560   \n",
       "3   2010               Buena Vista Park           347.394919         372560   \n",
       "4   2010               Central Richmond           319.027623         372560   \n",
       "..   ...                            ...                  ...            ...   \n",
       "68  2011                  Croker Amazon           145.853380         374507   \n",
       "69  2011                Diamond Heights           382.352261         374507   \n",
       "70  2011                      Downtown            234.281624         374507   \n",
       "71  2011                Duboce Triangle           295.779378         374507   \n",
       "72  2011  Eureka Valley/Dolores Heights           413.162804         374507   \n",
       "\n",
       "    gross_rent        neighborhood        Lat         Lon  \n",
       "0         1239        Alamo Square  37.791012 -122.402100  \n",
       "1         1239          Anza Vista  37.779598 -122.443451  \n",
       "2         1239             Bayview  37.734670 -122.401060  \n",
       "3         1239     Bayview Heights  37.728740 -122.410980  \n",
       "4         1239      Bernal Heights  37.728630 -122.443050  \n",
       "..         ...                 ...        ...         ...  \n",
       "68        1530         West Portal  37.740260 -122.463880  \n",
       "69        1530    Western Addition  37.792980 -122.435790  \n",
       "70        1530  Westwood Highlands  37.734700 -122.456854  \n",
       "71        1530       Westwood Park  37.734150 -122.457000  \n",
       "72        1530         Yerba Buena  37.792980 -122.396360  \n",
       "\n",
       "[73 rows x 8 columns]"
      ]
     },
     "execution_count": 117,
     "metadata": {},
     "output_type": "execute_result"
    }
   ],
   "source": [
    "# Join the average values with the neighborhood locations\n",
    "# YOUR CODE HERE!\n",
    "combined_df = pd.concat([sfo_data, df_neighborhood_locations], axis=\"columns\", join=\"inner\")\n",
    "combined_df"
   ]
  },
  {
   "cell_type": "code",
   "execution_count": 118,
   "metadata": {},
   "outputs": [
    {
     "data": {
      "text/html": [
       "<div>\n",
       "<style scoped>\n",
       "    .dataframe tbody tr th:only-of-type {\n",
       "        vertical-align: middle;\n",
       "    }\n",
       "\n",
       "    .dataframe tbody tr th {\n",
       "        vertical-align: top;\n",
       "    }\n",
       "\n",
       "    .dataframe thead th {\n",
       "        text-align: right;\n",
       "    }\n",
       "</style>\n",
       "<table border=\"1\" class=\"dataframe\">\n",
       "  <thead>\n",
       "    <tr style=\"text-align: right;\">\n",
       "      <th></th>\n",
       "      <th>year</th>\n",
       "      <th>neighborhood</th>\n",
       "      <th>sale_price_sqr_foot</th>\n",
       "      <th>housing_units</th>\n",
       "      <th>gross_rent</th>\n",
       "      <th>Lat</th>\n",
       "      <th>Lon</th>\n",
       "    </tr>\n",
       "  </thead>\n",
       "  <tbody>\n",
       "    <tr>\n",
       "      <td>0</td>\n",
       "      <td>2010</td>\n",
       "      <td>Alamo Square</td>\n",
       "      <td>291.182945</td>\n",
       "      <td>372560</td>\n",
       "      <td>1239</td>\n",
       "      <td>37.791012</td>\n",
       "      <td>-122.402100</td>\n",
       "    </tr>\n",
       "    <tr>\n",
       "      <td>1</td>\n",
       "      <td>2010</td>\n",
       "      <td>Anza Vista</td>\n",
       "      <td>267.932583</td>\n",
       "      <td>372560</td>\n",
       "      <td>1239</td>\n",
       "      <td>37.779598</td>\n",
       "      <td>-122.443451</td>\n",
       "    </tr>\n",
       "    <tr>\n",
       "      <td>2</td>\n",
       "      <td>2010</td>\n",
       "      <td>Bayview</td>\n",
       "      <td>170.098665</td>\n",
       "      <td>372560</td>\n",
       "      <td>1239</td>\n",
       "      <td>37.734670</td>\n",
       "      <td>-122.401060</td>\n",
       "    </tr>\n",
       "    <tr>\n",
       "      <td>3</td>\n",
       "      <td>2010</td>\n",
       "      <td>Buena Vista Park</td>\n",
       "      <td>347.394919</td>\n",
       "      <td>372560</td>\n",
       "      <td>1239</td>\n",
       "      <td>37.728740</td>\n",
       "      <td>-122.410980</td>\n",
       "    </tr>\n",
       "    <tr>\n",
       "      <td>4</td>\n",
       "      <td>2010</td>\n",
       "      <td>Central Richmond</td>\n",
       "      <td>319.027623</td>\n",
       "      <td>372560</td>\n",
       "      <td>1239</td>\n",
       "      <td>37.728630</td>\n",
       "      <td>-122.443050</td>\n",
       "    </tr>\n",
       "    <tr>\n",
       "      <td>...</td>\n",
       "      <td>...</td>\n",
       "      <td>...</td>\n",
       "      <td>...</td>\n",
       "      <td>...</td>\n",
       "      <td>...</td>\n",
       "      <td>...</td>\n",
       "      <td>...</td>\n",
       "    </tr>\n",
       "    <tr>\n",
       "      <td>68</td>\n",
       "      <td>2011</td>\n",
       "      <td>Croker Amazon</td>\n",
       "      <td>145.853380</td>\n",
       "      <td>374507</td>\n",
       "      <td>1530</td>\n",
       "      <td>37.740260</td>\n",
       "      <td>-122.463880</td>\n",
       "    </tr>\n",
       "    <tr>\n",
       "      <td>69</td>\n",
       "      <td>2011</td>\n",
       "      <td>Diamond Heights</td>\n",
       "      <td>382.352261</td>\n",
       "      <td>374507</td>\n",
       "      <td>1530</td>\n",
       "      <td>37.792980</td>\n",
       "      <td>-122.435790</td>\n",
       "    </tr>\n",
       "    <tr>\n",
       "      <td>70</td>\n",
       "      <td>2011</td>\n",
       "      <td>Downtown</td>\n",
       "      <td>234.281624</td>\n",
       "      <td>374507</td>\n",
       "      <td>1530</td>\n",
       "      <td>37.734700</td>\n",
       "      <td>-122.456854</td>\n",
       "    </tr>\n",
       "    <tr>\n",
       "      <td>71</td>\n",
       "      <td>2011</td>\n",
       "      <td>Duboce Triangle</td>\n",
       "      <td>295.779378</td>\n",
       "      <td>374507</td>\n",
       "      <td>1530</td>\n",
       "      <td>37.734150</td>\n",
       "      <td>-122.457000</td>\n",
       "    </tr>\n",
       "    <tr>\n",
       "      <td>72</td>\n",
       "      <td>2011</td>\n",
       "      <td>Eureka Valley/Dolores Heights</td>\n",
       "      <td>413.162804</td>\n",
       "      <td>374507</td>\n",
       "      <td>1530</td>\n",
       "      <td>37.792980</td>\n",
       "      <td>-122.396360</td>\n",
       "    </tr>\n",
       "  </tbody>\n",
       "</table>\n",
       "<p>73 rows × 7 columns</p>\n",
       "</div>"
      ],
      "text/plain": [
       "    year                   neighborhood  sale_price_sqr_foot  housing_units  \\\n",
       "0   2010                   Alamo Square           291.182945         372560   \n",
       "1   2010                     Anza Vista           267.932583         372560   \n",
       "2   2010                        Bayview           170.098665         372560   \n",
       "3   2010               Buena Vista Park           347.394919         372560   \n",
       "4   2010               Central Richmond           319.027623         372560   \n",
       "..   ...                            ...                  ...            ...   \n",
       "68  2011                  Croker Amazon           145.853380         374507   \n",
       "69  2011                Diamond Heights           382.352261         374507   \n",
       "70  2011                      Downtown            234.281624         374507   \n",
       "71  2011                Duboce Triangle           295.779378         374507   \n",
       "72  2011  Eureka Valley/Dolores Heights           413.162804         374507   \n",
       "\n",
       "    gross_rent        Lat         Lon  \n",
       "0         1239  37.791012 -122.402100  \n",
       "1         1239  37.779598 -122.443451  \n",
       "2         1239  37.734670 -122.401060  \n",
       "3         1239  37.728740 -122.410980  \n",
       "4         1239  37.728630 -122.443050  \n",
       "..         ...        ...         ...  \n",
       "68        1530  37.740260 -122.463880  \n",
       "69        1530  37.792980 -122.435790  \n",
       "70        1530  37.734700 -122.456854  \n",
       "71        1530  37.734150 -122.457000  \n",
       "72        1530  37.792980 -122.396360  \n",
       "\n",
       "[73 rows x 7 columns]"
      ]
     },
     "execution_count": 118,
     "metadata": {},
     "output_type": "execute_result"
    }
   ],
   "source": [
    "# Remove duplicates in column name and save in new variable, in this case neighborhood\n",
    "combined_df_2 = combined_df.loc[:,~combined_df.columns.duplicated()]\n",
    "combined_df_2"
   ]
  },
  {
   "cell_type": "markdown",
   "metadata": {},
   "source": [
    "### Mapbox Visualization\n",
    "\n",
    "Plot the aveage values per neighborhood with a plotly express scatter_mapbox visualization."
   ]
  },
  {
   "cell_type": "code",
   "execution_count": 120,
   "metadata": {},
   "outputs": [
    {
     "data": {
      "application/vnd.plotly.v1+json": {
       "config": {
        "plotlyServerURL": "https://plot.ly"
       },
       "data": [
        {
         "hoverlabel": {
          "namelength": 0
         },
         "hovertemplate": "sale_price_sqr_foot=%{marker.size}<br>Lat=%{lat}<br>Lon=%{lon}<br>gross_rent=%{marker.color}",
         "lat": [
          37.791012,
          37.779598,
          37.73467,
          37.72874,
          37.728629999999995,
          37.768159999999995,
          37.77789,
          37.74961,
          37.75331,
          37.78553,
          37.79298,
          37.7228,
          37.728629999999995,
          37.79101,
          37.76964,
          37.75554,
          37.72874,
          37.79101,
          37.79101,
          37.757059999999996,
          37.728629999999995,
          37.757912,
          37.76525,
          37.76525,
          37.72551,
          37.721160999999995,
          37.72116,
          37.75416,
          37.74961,
          37.769112,
          37.74961,
          37.78553,
          37.801520000000004,
          37.7789,
          37.79298,
          37.79972,
          37.71993,
          37.75331,
          37.73415,
          37.783229999999996,
          37.75184,
          37.728629999999995,
          37.79298,
          37.75331,
          37.80055,
          37.80055,
          37.71993,
          37.7228,
          37.7517,
          37.76911,
          37.74961,
          37.79298,
          37.72838,
          37.74961,
          37.76355,
          37.73467,
          37.73196,
          37.78553,
          37.79298,
          37.73467,
          37.783229999999996,
          37.79101,
          37.73415,
          37.80055,
          37.753311,
          37.79101,
          37.779509999999995,
          37.72874,
          37.74026,
          37.79298,
          37.7347,
          37.73415,
          37.79298
         ],
         "legendgroup": "",
         "lon": [
          -122.4021,
          -122.443451,
          -122.40106000000002,
          -122.41098000000001,
          -122.44305,
          -122.43933,
          -122.44516999999999,
          -122.48998999999999,
          -122.44703,
          -122.456,
          -122.43579,
          -122.43869,
          -122.44305,
          -122.4021,
          -122.42611000000001,
          -122.43778999999999,
          -122.41098000000001,
          -122.4021,
          -122.4021,
          -122.45508999999998,
          -122.44305,
          -122.46401999999999,
          -122.43596000000001,
          -122.43596000000001,
          -122.37178,
          -122.487068,
          -122.48706999999999,
          -122.41946999999999,
          -122.48998999999999,
          -122.483566,
          -122.48997,
          -122.456,
          -122.45456999999999,
          -122.45496000000001,
          -122.43579,
          -122.46688999999999,
          -122.46595,
          -122.44703,
          -122.45700000000001,
          -122.40065,
          -122.42522,
          -122.44305,
          -122.43579,
          -122.44703,
          -122.40433,
          -122.40433,
          -122.46595,
          -122.43869,
          -122.446,
          -122.48357,
          -122.48998999999999,
          -122.43579,
          -122.47851000000001,
          -122.48998999999999,
          -122.45765,
          -122.40106000000002,
          -122.38323999999999,
          -122.456,
          -122.43579,
          -122.40106000000002,
          -122.40065,
          -122.4021,
          -122.45700000000001,
          -122.40433,
          -122.447029,
          -122.4021,
          -122.42022,
          -122.41098000000001,
          -122.46388,
          -122.43579,
          -122.456854,
          -122.45700000000001,
          -122.39636000000002
         ],
         "marker": {
          "color": [
           1239,
           1239,
           1239,
           1239,
           1239,
           1239,
           1239,
           1239,
           1239,
           1239,
           1239,
           1239,
           1239,
           1239,
           1239,
           1239,
           1239,
           1239,
           1239,
           1239,
           1239,
           1239,
           1239,
           1239,
           1239,
           1239,
           1239,
           1239,
           1239,
           1239,
           1239,
           1239,
           1239,
           1239,
           1239,
           1239,
           1239,
           1239,
           1239,
           1239,
           1239,
           1239,
           1239,
           1239,
           1239,
           1239,
           1239,
           1239,
           1239,
           1239,
           1239,
           1239,
           1239,
           1239,
           1239,
           1239,
           1239,
           1239,
           1239,
           1530,
           1530,
           1530,
           1530,
           1530,
           1530,
           1530,
           1530,
           1530,
           1530,
           1530,
           1530,
           1530,
           1530
          ],
          "coloraxis": "coloraxis",
          "size": [
           291.18294547229095,
           267.9325826799483,
           170.09866536400102,
           347.3949194037114,
           319.0276225530687,
           418.1724927089675,
           369.35933800413665,
           569.3799679261333,
           165.6457300650791,
           456.9308221979013,
           241.80455206485138,
           403.1183126490986,
           364.92833570851764,
           401.7499665916537,
           162.82121004772353,
           209.0493266346945,
           715.5864380979738,
           551.8011188234774,
           254.47377914469143,
           272.28497956385485,
           170.62491987132685,
           275.05668560990915,
           238.35002040677708,
           199.70200378219917,
           285.82235848868265,
           275.76972957461044,
           419.88781187646566,
           320.79691049204627,
           398.4588759923028,
           374.05763601016855,
           387.392839476922,
           680.6087291389301,
           489.80537777998506,
           257.98799863500693,
           262.87602564056425,
           307.67747674427835,
           381.13844514705266,
           282.11967050133603,
           432.19529211245555,
           338.12619999607017,
           368.31155203937294,
           496.51601414694983,
           326.01715041025074,
           274.16674158669116,
           434.25500394602585,
           302.15611319728896,
           491.45000385678617,
           549.4179312485746,
           362.34822391312133,
           1037.0997886617895,
           401.2959764896399,
           542.5316819894505,
           524.7935090952678,
           331.55599614560697,
           569.1934475267735,
           108.0129268765048,
           392.30076417058257,
           215.56913431487555,
           333.12677384193887,
           272.5273101795261,
           172.54056243085552,
           471.9217320911283,
           171.7723466866044,
           261.6638003416518,
           391.42644972996203,
           520.7181675305429,
           222.567848047696,
           390.5956530284181,
           145.85338027594094,
           382.3522610640586,
           234.28162351035442,
           295.77937822922695,
           413.16280403427527
          ],
          "sizemode": "area",
          "sizeref": 2.5927494716544737
         },
         "mode": "markers",
         "name": "",
         "showlegend": false,
         "subplot": "mapbox",
         "type": "scattermapbox"
        }
       ],
       "layout": {
        "coloraxis": {
         "colorbar": {
          "title": {
           "text": "gross_rent"
          }
         },
         "colorscale": [
          [
           0,
           "#000000"
          ],
          [
           0.0625,
           "#001f4d"
          ],
          [
           0.125,
           "#003786"
          ],
          [
           0.1875,
           "#0e58a8"
          ],
          [
           0.25,
           "#217eb8"
          ],
          [
           0.3125,
           "#30a4ca"
          ],
          [
           0.375,
           "#54c8df"
          ],
          [
           0.4375,
           "#9be4ef"
          ],
          [
           0.5,
           "#e1e9d1"
          ],
          [
           0.5625,
           "#f3d573"
          ],
          [
           0.625,
           "#e7b000"
          ],
          [
           0.6875,
           "#da8200"
          ],
          [
           0.75,
           "#c65400"
          ],
          [
           0.8125,
           "#ac2301"
          ],
          [
           0.875,
           "#820000"
          ],
          [
           0.9375,
           "#4c0000"
          ],
          [
           1,
           "#040100"
          ]
         ]
        },
        "legend": {
         "itemsizing": "constant",
         "tracegroupgap": 0
        },
        "mapbox": {
         "accesstoken": "pk.eyJ1Ijoibmlub3Zhc2ljIiwiYSI6ImNrNjB3bHB2dTBjcDUzbW81Z2x2bnRlZnMifQ.FxkaF3xfmldUvr702k3zDA",
         "center": {
          "lat": 37.76019350684932,
          "lon": -122.43912380821916
         },
         "domain": {
          "x": [
           0,
           1
          ],
          "y": [
           0,
           1
          ]
         },
         "zoom": 11
        },
        "template": {
         "data": {
          "bar": [
           {
            "error_x": {
             "color": "#2a3f5f"
            },
            "error_y": {
             "color": "#2a3f5f"
            },
            "marker": {
             "line": {
              "color": "#E5ECF6",
              "width": 0.5
             }
            },
            "type": "bar"
           }
          ],
          "barpolar": [
           {
            "marker": {
             "line": {
              "color": "#E5ECF6",
              "width": 0.5
             }
            },
            "type": "barpolar"
           }
          ],
          "carpet": [
           {
            "aaxis": {
             "endlinecolor": "#2a3f5f",
             "gridcolor": "white",
             "linecolor": "white",
             "minorgridcolor": "white",
             "startlinecolor": "#2a3f5f"
            },
            "baxis": {
             "endlinecolor": "#2a3f5f",
             "gridcolor": "white",
             "linecolor": "white",
             "minorgridcolor": "white",
             "startlinecolor": "#2a3f5f"
            },
            "type": "carpet"
           }
          ],
          "choropleth": [
           {
            "colorbar": {
             "outlinewidth": 0,
             "ticks": ""
            },
            "type": "choropleth"
           }
          ],
          "contour": [
           {
            "colorbar": {
             "outlinewidth": 0,
             "ticks": ""
            },
            "colorscale": [
             [
              0,
              "#0d0887"
             ],
             [
              0.1111111111111111,
              "#46039f"
             ],
             [
              0.2222222222222222,
              "#7201a8"
             ],
             [
              0.3333333333333333,
              "#9c179e"
             ],
             [
              0.4444444444444444,
              "#bd3786"
             ],
             [
              0.5555555555555556,
              "#d8576b"
             ],
             [
              0.6666666666666666,
              "#ed7953"
             ],
             [
              0.7777777777777778,
              "#fb9f3a"
             ],
             [
              0.8888888888888888,
              "#fdca26"
             ],
             [
              1,
              "#f0f921"
             ]
            ],
            "type": "contour"
           }
          ],
          "contourcarpet": [
           {
            "colorbar": {
             "outlinewidth": 0,
             "ticks": ""
            },
            "type": "contourcarpet"
           }
          ],
          "heatmap": [
           {
            "colorbar": {
             "outlinewidth": 0,
             "ticks": ""
            },
            "colorscale": [
             [
              0,
              "#0d0887"
             ],
             [
              0.1111111111111111,
              "#46039f"
             ],
             [
              0.2222222222222222,
              "#7201a8"
             ],
             [
              0.3333333333333333,
              "#9c179e"
             ],
             [
              0.4444444444444444,
              "#bd3786"
             ],
             [
              0.5555555555555556,
              "#d8576b"
             ],
             [
              0.6666666666666666,
              "#ed7953"
             ],
             [
              0.7777777777777778,
              "#fb9f3a"
             ],
             [
              0.8888888888888888,
              "#fdca26"
             ],
             [
              1,
              "#f0f921"
             ]
            ],
            "type": "heatmap"
           }
          ],
          "heatmapgl": [
           {
            "colorbar": {
             "outlinewidth": 0,
             "ticks": ""
            },
            "colorscale": [
             [
              0,
              "#0d0887"
             ],
             [
              0.1111111111111111,
              "#46039f"
             ],
             [
              0.2222222222222222,
              "#7201a8"
             ],
             [
              0.3333333333333333,
              "#9c179e"
             ],
             [
              0.4444444444444444,
              "#bd3786"
             ],
             [
              0.5555555555555556,
              "#d8576b"
             ],
             [
              0.6666666666666666,
              "#ed7953"
             ],
             [
              0.7777777777777778,
              "#fb9f3a"
             ],
             [
              0.8888888888888888,
              "#fdca26"
             ],
             [
              1,
              "#f0f921"
             ]
            ],
            "type": "heatmapgl"
           }
          ],
          "histogram": [
           {
            "marker": {
             "colorbar": {
              "outlinewidth": 0,
              "ticks": ""
             }
            },
            "type": "histogram"
           }
          ],
          "histogram2d": [
           {
            "colorbar": {
             "outlinewidth": 0,
             "ticks": ""
            },
            "colorscale": [
             [
              0,
              "#0d0887"
             ],
             [
              0.1111111111111111,
              "#46039f"
             ],
             [
              0.2222222222222222,
              "#7201a8"
             ],
             [
              0.3333333333333333,
              "#9c179e"
             ],
             [
              0.4444444444444444,
              "#bd3786"
             ],
             [
              0.5555555555555556,
              "#d8576b"
             ],
             [
              0.6666666666666666,
              "#ed7953"
             ],
             [
              0.7777777777777778,
              "#fb9f3a"
             ],
             [
              0.8888888888888888,
              "#fdca26"
             ],
             [
              1,
              "#f0f921"
             ]
            ],
            "type": "histogram2d"
           }
          ],
          "histogram2dcontour": [
           {
            "colorbar": {
             "outlinewidth": 0,
             "ticks": ""
            },
            "colorscale": [
             [
              0,
              "#0d0887"
             ],
             [
              0.1111111111111111,
              "#46039f"
             ],
             [
              0.2222222222222222,
              "#7201a8"
             ],
             [
              0.3333333333333333,
              "#9c179e"
             ],
             [
              0.4444444444444444,
              "#bd3786"
             ],
             [
              0.5555555555555556,
              "#d8576b"
             ],
             [
              0.6666666666666666,
              "#ed7953"
             ],
             [
              0.7777777777777778,
              "#fb9f3a"
             ],
             [
              0.8888888888888888,
              "#fdca26"
             ],
             [
              1,
              "#f0f921"
             ]
            ],
            "type": "histogram2dcontour"
           }
          ],
          "mesh3d": [
           {
            "colorbar": {
             "outlinewidth": 0,
             "ticks": ""
            },
            "type": "mesh3d"
           }
          ],
          "parcoords": [
           {
            "line": {
             "colorbar": {
              "outlinewidth": 0,
              "ticks": ""
             }
            },
            "type": "parcoords"
           }
          ],
          "pie": [
           {
            "automargin": true,
            "type": "pie"
           }
          ],
          "scatter": [
           {
            "marker": {
             "colorbar": {
              "outlinewidth": 0,
              "ticks": ""
             }
            },
            "type": "scatter"
           }
          ],
          "scatter3d": [
           {
            "line": {
             "colorbar": {
              "outlinewidth": 0,
              "ticks": ""
             }
            },
            "marker": {
             "colorbar": {
              "outlinewidth": 0,
              "ticks": ""
             }
            },
            "type": "scatter3d"
           }
          ],
          "scattercarpet": [
           {
            "marker": {
             "colorbar": {
              "outlinewidth": 0,
              "ticks": ""
             }
            },
            "type": "scattercarpet"
           }
          ],
          "scattergeo": [
           {
            "marker": {
             "colorbar": {
              "outlinewidth": 0,
              "ticks": ""
             }
            },
            "type": "scattergeo"
           }
          ],
          "scattergl": [
           {
            "marker": {
             "colorbar": {
              "outlinewidth": 0,
              "ticks": ""
             }
            },
            "type": "scattergl"
           }
          ],
          "scattermapbox": [
           {
            "marker": {
             "colorbar": {
              "outlinewidth": 0,
              "ticks": ""
             }
            },
            "type": "scattermapbox"
           }
          ],
          "scatterpolar": [
           {
            "marker": {
             "colorbar": {
              "outlinewidth": 0,
              "ticks": ""
             }
            },
            "type": "scatterpolar"
           }
          ],
          "scatterpolargl": [
           {
            "marker": {
             "colorbar": {
              "outlinewidth": 0,
              "ticks": ""
             }
            },
            "type": "scatterpolargl"
           }
          ],
          "scatterternary": [
           {
            "marker": {
             "colorbar": {
              "outlinewidth": 0,
              "ticks": ""
             }
            },
            "type": "scatterternary"
           }
          ],
          "surface": [
           {
            "colorbar": {
             "outlinewidth": 0,
             "ticks": ""
            },
            "colorscale": [
             [
              0,
              "#0d0887"
             ],
             [
              0.1111111111111111,
              "#46039f"
             ],
             [
              0.2222222222222222,
              "#7201a8"
             ],
             [
              0.3333333333333333,
              "#9c179e"
             ],
             [
              0.4444444444444444,
              "#bd3786"
             ],
             [
              0.5555555555555556,
              "#d8576b"
             ],
             [
              0.6666666666666666,
              "#ed7953"
             ],
             [
              0.7777777777777778,
              "#fb9f3a"
             ],
             [
              0.8888888888888888,
              "#fdca26"
             ],
             [
              1,
              "#f0f921"
             ]
            ],
            "type": "surface"
           }
          ],
          "table": [
           {
            "cells": {
             "fill": {
              "color": "#EBF0F8"
             },
             "line": {
              "color": "white"
             }
            },
            "header": {
             "fill": {
              "color": "#C8D4E3"
             },
             "line": {
              "color": "white"
             }
            },
            "type": "table"
           }
          ]
         },
         "layout": {
          "annotationdefaults": {
           "arrowcolor": "#2a3f5f",
           "arrowhead": 0,
           "arrowwidth": 1
          },
          "coloraxis": {
           "colorbar": {
            "outlinewidth": 0,
            "ticks": ""
           }
          },
          "colorscale": {
           "diverging": [
            [
             0,
             "#8e0152"
            ],
            [
             0.1,
             "#c51b7d"
            ],
            [
             0.2,
             "#de77ae"
            ],
            [
             0.3,
             "#f1b6da"
            ],
            [
             0.4,
             "#fde0ef"
            ],
            [
             0.5,
             "#f7f7f7"
            ],
            [
             0.6,
             "#e6f5d0"
            ],
            [
             0.7,
             "#b8e186"
            ],
            [
             0.8,
             "#7fbc41"
            ],
            [
             0.9,
             "#4d9221"
            ],
            [
             1,
             "#276419"
            ]
           ],
           "sequential": [
            [
             0,
             "#0d0887"
            ],
            [
             0.1111111111111111,
             "#46039f"
            ],
            [
             0.2222222222222222,
             "#7201a8"
            ],
            [
             0.3333333333333333,
             "#9c179e"
            ],
            [
             0.4444444444444444,
             "#bd3786"
            ],
            [
             0.5555555555555556,
             "#d8576b"
            ],
            [
             0.6666666666666666,
             "#ed7953"
            ],
            [
             0.7777777777777778,
             "#fb9f3a"
            ],
            [
             0.8888888888888888,
             "#fdca26"
            ],
            [
             1,
             "#f0f921"
            ]
           ],
           "sequentialminus": [
            [
             0,
             "#0d0887"
            ],
            [
             0.1111111111111111,
             "#46039f"
            ],
            [
             0.2222222222222222,
             "#7201a8"
            ],
            [
             0.3333333333333333,
             "#9c179e"
            ],
            [
             0.4444444444444444,
             "#bd3786"
            ],
            [
             0.5555555555555556,
             "#d8576b"
            ],
            [
             0.6666666666666666,
             "#ed7953"
            ],
            [
             0.7777777777777778,
             "#fb9f3a"
            ],
            [
             0.8888888888888888,
             "#fdca26"
            ],
            [
             1,
             "#f0f921"
            ]
           ]
          },
          "colorway": [
           "#636efa",
           "#EF553B",
           "#00cc96",
           "#ab63fa",
           "#FFA15A",
           "#19d3f3",
           "#FF6692",
           "#B6E880",
           "#FF97FF",
           "#FECB52"
          ],
          "font": {
           "color": "#2a3f5f"
          },
          "geo": {
           "bgcolor": "white",
           "lakecolor": "white",
           "landcolor": "#E5ECF6",
           "showlakes": true,
           "showland": true,
           "subunitcolor": "white"
          },
          "hoverlabel": {
           "align": "left"
          },
          "hovermode": "closest",
          "mapbox": {
           "style": "light"
          },
          "paper_bgcolor": "white",
          "plot_bgcolor": "#E5ECF6",
          "polar": {
           "angularaxis": {
            "gridcolor": "white",
            "linecolor": "white",
            "ticks": ""
           },
           "bgcolor": "#E5ECF6",
           "radialaxis": {
            "gridcolor": "white",
            "linecolor": "white",
            "ticks": ""
           }
          },
          "scene": {
           "xaxis": {
            "backgroundcolor": "#E5ECF6",
            "gridcolor": "white",
            "gridwidth": 2,
            "linecolor": "white",
            "showbackground": true,
            "ticks": "",
            "zerolinecolor": "white"
           },
           "yaxis": {
            "backgroundcolor": "#E5ECF6",
            "gridcolor": "white",
            "gridwidth": 2,
            "linecolor": "white",
            "showbackground": true,
            "ticks": "",
            "zerolinecolor": "white"
           },
           "zaxis": {
            "backgroundcolor": "#E5ECF6",
            "gridcolor": "white",
            "gridwidth": 2,
            "linecolor": "white",
            "showbackground": true,
            "ticks": "",
            "zerolinecolor": "white"
           }
          },
          "shapedefaults": {
           "line": {
            "color": "#2a3f5f"
           }
          },
          "ternary": {
           "aaxis": {
            "gridcolor": "white",
            "linecolor": "white",
            "ticks": ""
           },
           "baxis": {
            "gridcolor": "white",
            "linecolor": "white",
            "ticks": ""
           },
           "bgcolor": "#E5ECF6",
           "caxis": {
            "gridcolor": "white",
            "linecolor": "white",
            "ticks": ""
           }
          },
          "title": {
           "x": 0.05
          },
          "xaxis": {
           "automargin": true,
           "gridcolor": "white",
           "linecolor": "white",
           "ticks": "",
           "title": {
            "standoff": 15
           },
           "zerolinecolor": "white",
           "zerolinewidth": 2
          },
          "yaxis": {
           "automargin": true,
           "gridcolor": "white",
           "linecolor": "white",
           "ticks": "",
           "title": {
            "standoff": 15
           },
           "zerolinecolor": "white",
           "zerolinewidth": 2
          }
         }
        },
        "title": {
         "text": "San Francisco - Average Sales Price per Square Foot and Gross Rent"
        },
        "width": 700
       }
      },
      "text/html": [
       "<div>\n",
       "        \n",
       "        \n",
       "            <div id=\"bebc85f7-68cf-442b-9df4-0f1b99ff64c7\" class=\"plotly-graph-div\" style=\"height:525px; width:700px;\"></div>\n",
       "            <script type=\"text/javascript\">\n",
       "                require([\"plotly\"], function(Plotly) {\n",
       "                    window.PLOTLYENV=window.PLOTLYENV || {};\n",
       "                    \n",
       "                if (document.getElementById(\"bebc85f7-68cf-442b-9df4-0f1b99ff64c7\")) {\n",
       "                    Plotly.newPlot(\n",
       "                        'bebc85f7-68cf-442b-9df4-0f1b99ff64c7',\n",
       "                        [{\"hoverlabel\": {\"namelength\": 0}, \"hovertemplate\": \"sale_price_sqr_foot=%{marker.size}<br>Lat=%{lat}<br>Lon=%{lon}<br>gross_rent=%{marker.color}\", \"lat\": [37.791012, 37.779598, 37.73467, 37.72874, 37.728629999999995, 37.768159999999995, 37.77789, 37.74961, 37.75331, 37.78553, 37.79298, 37.7228, 37.728629999999995, 37.79101, 37.76964, 37.75554, 37.72874, 37.79101, 37.79101, 37.757059999999996, 37.728629999999995, 37.757912, 37.76525, 37.76525, 37.72551, 37.721160999999995, 37.72116, 37.75416, 37.74961, 37.769112, 37.74961, 37.78553, 37.801520000000004, 37.7789, 37.79298, 37.79972, 37.71993, 37.75331, 37.73415, 37.783229999999996, 37.75184, 37.728629999999995, 37.79298, 37.75331, 37.80055, 37.80055, 37.71993, 37.7228, 37.7517, 37.76911, 37.74961, 37.79298, 37.72838, 37.74961, 37.76355, 37.73467, 37.73196, 37.78553, 37.79298, 37.73467, 37.783229999999996, 37.79101, 37.73415, 37.80055, 37.753311, 37.79101, 37.779509999999995, 37.72874, 37.74026, 37.79298, 37.7347, 37.73415, 37.79298], \"legendgroup\": \"\", \"lon\": [-122.4021, -122.443451, -122.40106000000002, -122.41098000000001, -122.44305, -122.43933, -122.44516999999999, -122.48998999999999, -122.44703, -122.456, -122.43579, -122.43869, -122.44305, -122.4021, -122.42611000000001, -122.43778999999999, -122.41098000000001, -122.4021, -122.4021, -122.45508999999998, -122.44305, -122.46401999999999, -122.43596000000001, -122.43596000000001, -122.37178, -122.487068, -122.48706999999999, -122.41946999999999, -122.48998999999999, -122.483566, -122.48997, -122.456, -122.45456999999999, -122.45496000000001, -122.43579, -122.46688999999999, -122.46595, -122.44703, -122.45700000000001, -122.40065, -122.42522, -122.44305, -122.43579, -122.44703, -122.40433, -122.40433, -122.46595, -122.43869, -122.446, -122.48357, -122.48998999999999, -122.43579, -122.47851000000001, -122.48998999999999, -122.45765, -122.40106000000002, -122.38323999999999, -122.456, -122.43579, -122.40106000000002, -122.40065, -122.4021, -122.45700000000001, -122.40433, -122.447029, -122.4021, -122.42022, -122.41098000000001, -122.46388, -122.43579, -122.456854, -122.45700000000001, -122.39636000000002], \"marker\": {\"color\": [1239, 1239, 1239, 1239, 1239, 1239, 1239, 1239, 1239, 1239, 1239, 1239, 1239, 1239, 1239, 1239, 1239, 1239, 1239, 1239, 1239, 1239, 1239, 1239, 1239, 1239, 1239, 1239, 1239, 1239, 1239, 1239, 1239, 1239, 1239, 1239, 1239, 1239, 1239, 1239, 1239, 1239, 1239, 1239, 1239, 1239, 1239, 1239, 1239, 1239, 1239, 1239, 1239, 1239, 1239, 1239, 1239, 1239, 1239, 1530, 1530, 1530, 1530, 1530, 1530, 1530, 1530, 1530, 1530, 1530, 1530, 1530, 1530], \"coloraxis\": \"coloraxis\", \"size\": [291.18294547229095, 267.9325826799483, 170.09866536400102, 347.3949194037114, 319.0276225530687, 418.1724927089675, 369.35933800413665, 569.3799679261333, 165.6457300650791, 456.9308221979013, 241.80455206485138, 403.1183126490986, 364.92833570851764, 401.7499665916537, 162.82121004772353, 209.0493266346945, 715.5864380979738, 551.8011188234774, 254.47377914469143, 272.28497956385485, 170.62491987132685, 275.05668560990915, 238.35002040677708, 199.70200378219917, 285.82235848868265, 275.76972957461044, 419.88781187646566, 320.79691049204627, 398.4588759923028, 374.05763601016855, 387.392839476922, 680.6087291389301, 489.80537777998506, 257.98799863500693, 262.87602564056425, 307.67747674427835, 381.13844514705266, 282.11967050133603, 432.19529211245555, 338.12619999607017, 368.31155203937294, 496.51601414694983, 326.01715041025074, 274.16674158669116, 434.25500394602585, 302.15611319728896, 491.45000385678617, 549.4179312485746, 362.34822391312133, 1037.0997886617895, 401.2959764896399, 542.5316819894505, 524.7935090952678, 331.55599614560697, 569.1934475267735, 108.0129268765048, 392.30076417058257, 215.56913431487555, 333.12677384193887, 272.5273101795261, 172.54056243085552, 471.9217320911283, 171.7723466866044, 261.6638003416518, 391.42644972996203, 520.7181675305429, 222.567848047696, 390.5956530284181, 145.85338027594094, 382.3522610640586, 234.28162351035442, 295.77937822922695, 413.16280403427527], \"sizemode\": \"area\", \"sizeref\": 2.5927494716544737}, \"mode\": \"markers\", \"name\": \"\", \"showlegend\": false, \"subplot\": \"mapbox\", \"type\": \"scattermapbox\"}],\n",
       "                        {\"coloraxis\": {\"colorbar\": {\"title\": {\"text\": \"gross_rent\"}}, \"colorscale\": [[0.0, \"#000000\"], [0.0625, \"#001f4d\"], [0.125, \"#003786\"], [0.1875, \"#0e58a8\"], [0.25, \"#217eb8\"], [0.3125, \"#30a4ca\"], [0.375, \"#54c8df\"], [0.4375, \"#9be4ef\"], [0.5, \"#e1e9d1\"], [0.5625, \"#f3d573\"], [0.625, \"#e7b000\"], [0.6875, \"#da8200\"], [0.75, \"#c65400\"], [0.8125, \"#ac2301\"], [0.875, \"#820000\"], [0.9375, \"#4c0000\"], [1.0, \"#040100\"]]}, \"legend\": {\"itemsizing\": \"constant\", \"tracegroupgap\": 0}, \"mapbox\": {\"accesstoken\": \"pk.eyJ1Ijoibmlub3Zhc2ljIiwiYSI6ImNrNjB3bHB2dTBjcDUzbW81Z2x2bnRlZnMifQ.FxkaF3xfmldUvr702k3zDA\", \"center\": {\"lat\": 37.76019350684932, \"lon\": -122.43912380821916}, \"domain\": {\"x\": [0.0, 1.0], \"y\": [0.0, 1.0]}, \"zoom\": 11}, \"template\": {\"data\": {\"bar\": [{\"error_x\": {\"color\": \"#2a3f5f\"}, \"error_y\": {\"color\": \"#2a3f5f\"}, \"marker\": {\"line\": {\"color\": \"#E5ECF6\", \"width\": 0.5}}, \"type\": \"bar\"}], \"barpolar\": [{\"marker\": {\"line\": {\"color\": \"#E5ECF6\", \"width\": 0.5}}, \"type\": \"barpolar\"}], \"carpet\": [{\"aaxis\": {\"endlinecolor\": \"#2a3f5f\", \"gridcolor\": \"white\", \"linecolor\": \"white\", \"minorgridcolor\": \"white\", \"startlinecolor\": \"#2a3f5f\"}, \"baxis\": {\"endlinecolor\": \"#2a3f5f\", \"gridcolor\": \"white\", \"linecolor\": \"white\", \"minorgridcolor\": \"white\", \"startlinecolor\": \"#2a3f5f\"}, \"type\": \"carpet\"}], \"choropleth\": [{\"colorbar\": {\"outlinewidth\": 0, \"ticks\": \"\"}, \"type\": \"choropleth\"}], \"contour\": [{\"colorbar\": {\"outlinewidth\": 0, \"ticks\": \"\"}, \"colorscale\": [[0.0, \"#0d0887\"], [0.1111111111111111, \"#46039f\"], [0.2222222222222222, \"#7201a8\"], [0.3333333333333333, \"#9c179e\"], [0.4444444444444444, \"#bd3786\"], [0.5555555555555556, \"#d8576b\"], [0.6666666666666666, \"#ed7953\"], [0.7777777777777778, \"#fb9f3a\"], [0.8888888888888888, \"#fdca26\"], [1.0, \"#f0f921\"]], \"type\": \"contour\"}], \"contourcarpet\": [{\"colorbar\": {\"outlinewidth\": 0, \"ticks\": \"\"}, \"type\": \"contourcarpet\"}], \"heatmap\": [{\"colorbar\": {\"outlinewidth\": 0, \"ticks\": \"\"}, \"colorscale\": [[0.0, \"#0d0887\"], [0.1111111111111111, \"#46039f\"], [0.2222222222222222, \"#7201a8\"], [0.3333333333333333, \"#9c179e\"], [0.4444444444444444, \"#bd3786\"], [0.5555555555555556, \"#d8576b\"], [0.6666666666666666, \"#ed7953\"], [0.7777777777777778, \"#fb9f3a\"], [0.8888888888888888, \"#fdca26\"], [1.0, \"#f0f921\"]], \"type\": \"heatmap\"}], \"heatmapgl\": [{\"colorbar\": {\"outlinewidth\": 0, \"ticks\": \"\"}, \"colorscale\": [[0.0, \"#0d0887\"], [0.1111111111111111, \"#46039f\"], [0.2222222222222222, \"#7201a8\"], [0.3333333333333333, \"#9c179e\"], [0.4444444444444444, \"#bd3786\"], [0.5555555555555556, \"#d8576b\"], [0.6666666666666666, \"#ed7953\"], [0.7777777777777778, \"#fb9f3a\"], [0.8888888888888888, \"#fdca26\"], [1.0, \"#f0f921\"]], \"type\": \"heatmapgl\"}], \"histogram\": [{\"marker\": {\"colorbar\": {\"outlinewidth\": 0, \"ticks\": \"\"}}, \"type\": \"histogram\"}], \"histogram2d\": [{\"colorbar\": {\"outlinewidth\": 0, \"ticks\": \"\"}, \"colorscale\": [[0.0, \"#0d0887\"], [0.1111111111111111, \"#46039f\"], [0.2222222222222222, \"#7201a8\"], [0.3333333333333333, \"#9c179e\"], [0.4444444444444444, \"#bd3786\"], [0.5555555555555556, \"#d8576b\"], [0.6666666666666666, \"#ed7953\"], [0.7777777777777778, \"#fb9f3a\"], [0.8888888888888888, \"#fdca26\"], [1.0, \"#f0f921\"]], \"type\": \"histogram2d\"}], \"histogram2dcontour\": [{\"colorbar\": {\"outlinewidth\": 0, \"ticks\": \"\"}, \"colorscale\": [[0.0, \"#0d0887\"], [0.1111111111111111, \"#46039f\"], [0.2222222222222222, \"#7201a8\"], [0.3333333333333333, \"#9c179e\"], [0.4444444444444444, \"#bd3786\"], [0.5555555555555556, \"#d8576b\"], [0.6666666666666666, \"#ed7953\"], [0.7777777777777778, \"#fb9f3a\"], [0.8888888888888888, \"#fdca26\"], [1.0, \"#f0f921\"]], \"type\": \"histogram2dcontour\"}], \"mesh3d\": [{\"colorbar\": {\"outlinewidth\": 0, \"ticks\": \"\"}, \"type\": \"mesh3d\"}], \"parcoords\": [{\"line\": {\"colorbar\": {\"outlinewidth\": 0, \"ticks\": \"\"}}, \"type\": \"parcoords\"}], \"pie\": [{\"automargin\": true, \"type\": \"pie\"}], \"scatter\": [{\"marker\": {\"colorbar\": {\"outlinewidth\": 0, \"ticks\": \"\"}}, \"type\": \"scatter\"}], \"scatter3d\": [{\"line\": {\"colorbar\": {\"outlinewidth\": 0, \"ticks\": \"\"}}, \"marker\": {\"colorbar\": {\"outlinewidth\": 0, \"ticks\": \"\"}}, \"type\": \"scatter3d\"}], \"scattercarpet\": [{\"marker\": {\"colorbar\": {\"outlinewidth\": 0, \"ticks\": \"\"}}, \"type\": \"scattercarpet\"}], \"scattergeo\": [{\"marker\": {\"colorbar\": {\"outlinewidth\": 0, \"ticks\": \"\"}}, \"type\": \"scattergeo\"}], \"scattergl\": [{\"marker\": {\"colorbar\": {\"outlinewidth\": 0, \"ticks\": \"\"}}, \"type\": \"scattergl\"}], \"scattermapbox\": [{\"marker\": {\"colorbar\": {\"outlinewidth\": 0, \"ticks\": \"\"}}, \"type\": \"scattermapbox\"}], \"scatterpolar\": [{\"marker\": {\"colorbar\": {\"outlinewidth\": 0, \"ticks\": \"\"}}, \"type\": \"scatterpolar\"}], \"scatterpolargl\": [{\"marker\": {\"colorbar\": {\"outlinewidth\": 0, \"ticks\": \"\"}}, \"type\": \"scatterpolargl\"}], \"scatterternary\": [{\"marker\": {\"colorbar\": {\"outlinewidth\": 0, \"ticks\": \"\"}}, \"type\": \"scatterternary\"}], \"surface\": [{\"colorbar\": {\"outlinewidth\": 0, \"ticks\": \"\"}, \"colorscale\": [[0.0, \"#0d0887\"], [0.1111111111111111, \"#46039f\"], [0.2222222222222222, \"#7201a8\"], [0.3333333333333333, \"#9c179e\"], [0.4444444444444444, \"#bd3786\"], [0.5555555555555556, \"#d8576b\"], [0.6666666666666666, \"#ed7953\"], [0.7777777777777778, \"#fb9f3a\"], [0.8888888888888888, \"#fdca26\"], [1.0, \"#f0f921\"]], \"type\": \"surface\"}], \"table\": [{\"cells\": {\"fill\": {\"color\": \"#EBF0F8\"}, \"line\": {\"color\": \"white\"}}, \"header\": {\"fill\": {\"color\": \"#C8D4E3\"}, \"line\": {\"color\": \"white\"}}, \"type\": \"table\"}]}, \"layout\": {\"annotationdefaults\": {\"arrowcolor\": \"#2a3f5f\", \"arrowhead\": 0, \"arrowwidth\": 1}, \"coloraxis\": {\"colorbar\": {\"outlinewidth\": 0, \"ticks\": \"\"}}, \"colorscale\": {\"diverging\": [[0, \"#8e0152\"], [0.1, \"#c51b7d\"], [0.2, \"#de77ae\"], [0.3, \"#f1b6da\"], [0.4, \"#fde0ef\"], [0.5, \"#f7f7f7\"], [0.6, \"#e6f5d0\"], [0.7, \"#b8e186\"], [0.8, \"#7fbc41\"], [0.9, \"#4d9221\"], [1, \"#276419\"]], \"sequential\": [[0.0, \"#0d0887\"], [0.1111111111111111, \"#46039f\"], [0.2222222222222222, \"#7201a8\"], [0.3333333333333333, \"#9c179e\"], [0.4444444444444444, \"#bd3786\"], [0.5555555555555556, \"#d8576b\"], [0.6666666666666666, \"#ed7953\"], [0.7777777777777778, \"#fb9f3a\"], [0.8888888888888888, \"#fdca26\"], [1.0, \"#f0f921\"]], \"sequentialminus\": [[0.0, \"#0d0887\"], [0.1111111111111111, \"#46039f\"], [0.2222222222222222, \"#7201a8\"], [0.3333333333333333, \"#9c179e\"], [0.4444444444444444, \"#bd3786\"], [0.5555555555555556, \"#d8576b\"], [0.6666666666666666, \"#ed7953\"], [0.7777777777777778, \"#fb9f3a\"], [0.8888888888888888, \"#fdca26\"], [1.0, \"#f0f921\"]]}, \"colorway\": [\"#636efa\", \"#EF553B\", \"#00cc96\", \"#ab63fa\", \"#FFA15A\", \"#19d3f3\", \"#FF6692\", \"#B6E880\", \"#FF97FF\", \"#FECB52\"], \"font\": {\"color\": \"#2a3f5f\"}, \"geo\": {\"bgcolor\": \"white\", \"lakecolor\": \"white\", \"landcolor\": \"#E5ECF6\", \"showlakes\": true, \"showland\": true, \"subunitcolor\": \"white\"}, \"hoverlabel\": {\"align\": \"left\"}, \"hovermode\": \"closest\", \"mapbox\": {\"style\": \"light\"}, \"paper_bgcolor\": \"white\", \"plot_bgcolor\": \"#E5ECF6\", \"polar\": {\"angularaxis\": {\"gridcolor\": \"white\", \"linecolor\": \"white\", \"ticks\": \"\"}, \"bgcolor\": \"#E5ECF6\", \"radialaxis\": {\"gridcolor\": \"white\", \"linecolor\": \"white\", \"ticks\": \"\"}}, \"scene\": {\"xaxis\": {\"backgroundcolor\": \"#E5ECF6\", \"gridcolor\": \"white\", \"gridwidth\": 2, \"linecolor\": \"white\", \"showbackground\": true, \"ticks\": \"\", \"zerolinecolor\": \"white\"}, \"yaxis\": {\"backgroundcolor\": \"#E5ECF6\", \"gridcolor\": \"white\", \"gridwidth\": 2, \"linecolor\": \"white\", \"showbackground\": true, \"ticks\": \"\", \"zerolinecolor\": \"white\"}, \"zaxis\": {\"backgroundcolor\": \"#E5ECF6\", \"gridcolor\": \"white\", \"gridwidth\": 2, \"linecolor\": \"white\", \"showbackground\": true, \"ticks\": \"\", \"zerolinecolor\": \"white\"}}, \"shapedefaults\": {\"line\": {\"color\": \"#2a3f5f\"}}, \"ternary\": {\"aaxis\": {\"gridcolor\": \"white\", \"linecolor\": \"white\", \"ticks\": \"\"}, \"baxis\": {\"gridcolor\": \"white\", \"linecolor\": \"white\", \"ticks\": \"\"}, \"bgcolor\": \"#E5ECF6\", \"caxis\": {\"gridcolor\": \"white\", \"linecolor\": \"white\", \"ticks\": \"\"}}, \"title\": {\"x\": 0.05}, \"xaxis\": {\"automargin\": true, \"gridcolor\": \"white\", \"linecolor\": \"white\", \"ticks\": \"\", \"title\": {\"standoff\": 15}, \"zerolinecolor\": \"white\", \"zerolinewidth\": 2}, \"yaxis\": {\"automargin\": true, \"gridcolor\": \"white\", \"linecolor\": \"white\", \"ticks\": \"\", \"title\": {\"standoff\": 15}, \"zerolinecolor\": \"white\", \"zerolinewidth\": 2}}}, \"title\": {\"text\": \"San Francisco - Average Sales Price per Square Foot and Gross Rent\"}, \"width\": 700},\n",
       "                        {\"responsive\": true}\n",
       "                    ).then(function(){\n",
       "                            \n",
       "var gd = document.getElementById('bebc85f7-68cf-442b-9df4-0f1b99ff64c7');\n",
       "var x = new MutationObserver(function (mutations, observer) {{\n",
       "        var display = window.getComputedStyle(gd).display;\n",
       "        if (!display || display === 'none') {{\n",
       "            console.log([gd, 'removed!']);\n",
       "            Plotly.purge(gd);\n",
       "            observer.disconnect();\n",
       "        }}\n",
       "}});\n",
       "\n",
       "// Listen for the removal of the full notebook cells\n",
       "var notebookContainer = gd.closest('#notebook-container');\n",
       "if (notebookContainer) {{\n",
       "    x.observe(notebookContainer, {childList: true});\n",
       "}}\n",
       "\n",
       "// Listen for the clearing of the current output cell\n",
       "var outputEl = gd.closest('.output');\n",
       "if (outputEl) {{\n",
       "    x.observe(outputEl, {childList: true});\n",
       "}}\n",
       "\n",
       "                        })\n",
       "                };\n",
       "                });\n",
       "            </script>\n",
       "        </div>"
      ]
     },
     "metadata": {},
     "output_type": "display_data"
    }
   ],
   "source": [
    "# Create a scatter mapbox to analyze neighborhood info\n",
    "# YOUR CODE HERE!\n",
    "px.set_mapbox_access_token(mapbox_token)\n",
    "plot_title = \"San Francisco - Average Sales Price per Square Foot and Gross Rent\"\n",
    "\n",
    "Mapbox = px.scatter_mapbox(combined_df_2,\n",
    "                                     lat=\"Lat\", lon=\"Lon\",\n",
    "                                     size=\"sale_price_sqr_foot\", color=\"gross_rent\",\n",
    "                                     color_continuous_scale=px.colors.cyclical.IceFire,\n",
    "                                     zoom=11, width=700, title=plot_title)\n",
    "Mapbox.show()"
   ]
  }
 ],
 "metadata": {
  "file_extension": ".py",
  "kernelspec": {
   "display_name": "Python 3",
   "language": "python",
   "name": "python3"
  },
  "language_info": {
   "codemirror_mode": {
    "name": "ipython",
    "version": 3
   },
   "file_extension": ".py",
   "mimetype": "text/x-python",
   "name": "python",
   "nbconvert_exporter": "python",
   "pygments_lexer": "ipython3",
   "version": "3.7.4"
  },
  "mimetype": "text/x-python",
  "name": "python",
  "npconvert_exporter": "python",
  "pygments_lexer": "ipython3",
  "version": 3
 },
 "nbformat": 4,
 "nbformat_minor": 4
}
